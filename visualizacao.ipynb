{
 "cells": [
  {
   "cell_type": "code",
   "execution_count": 36,
   "metadata": {},
   "outputs": [],
   "source": [
    "from pyspark.sql import SparkSession\n",
    "import pyspark\n",
    "from pyspark.sql.functions import explode, flatten, col, concat, lit, regexp_replace, input_file_name"
   ]
  },
  {
   "cell_type": "code",
   "execution_count": 37,
   "metadata": {},
   "outputs": [],
   "source": [
    "spark = SparkSession.builder.master('local[*]') \\\n",
    "    .appName('visualizacao') \\\n",
    "    .getOrCreate()"
   ]
  },
  {
   "cell_type": "code",
   "execution_count": 38,
   "metadata": {},
   "outputs": [
    {
     "name": "stderr",
     "output_type": "stream",
     "text": [
      "[Stage 36:==================================================>       (7 + 1) / 8]\r"
     ]
    },
    {
     "name": "stdout",
     "output_type": "stream",
     "text": [
      "root\n",
      " |-- data_extracao: string (nullable = true)\n",
      " |-- hr: string (nullable = true)\n",
      " |-- l: array (nullable = true)\n",
      " |    |-- element: struct (containsNull = true)\n",
      " |    |    |-- c: string (nullable = true)\n",
      " |    |    |-- cl: long (nullable = true)\n",
      " |    |    |-- lt0: string (nullable = true)\n",
      " |    |    |-- lt1: string (nullable = true)\n",
      " |    |    |-- qv: long (nullable = true)\n",
      " |    |    |-- sl: long (nullable = true)\n",
      " |    |    |-- vs: array (nullable = true)\n",
      " |    |    |    |-- element: struct (containsNull = true)\n",
      " |    |    |    |    |-- a: boolean (nullable = true)\n",
      " |    |    |    |    |-- is: string (nullable = true)\n",
      " |    |    |    |    |-- p: long (nullable = true)\n",
      " |    |    |    |    |-- px: double (nullable = true)\n",
      " |    |    |    |    |-- py: double (nullable = true)\n",
      " |    |    |    |    |-- sv: string (nullable = true)\n",
      " |    |    |    |    |-- ta: string (nullable = true)\n",
      "\n"
     ]
    },
    {
     "name": "stderr",
     "output_type": "stream",
     "text": [
      "                                                                                \r"
     ]
    }
   ],
   "source": [
    "df = spark.read.json('data/datalake/bronze/extract_date=*/*.json')\n",
    "df.printSchema()\n",
    "df = df.na.drop()"
   ]
  },
  {
   "cell_type": "code",
   "execution_count": 39,
   "metadata": {},
   "outputs": [
    {
     "name": "stdout",
     "output_type": "stream",
     "text": [
      "+----------------+-----+------------------------------------------------------------------------------------------------------------------------------------------------------------------------------------------------------------------------------------------------------------------------------------------------------------------------------------------------------------------------------------------------------------------------------------------------------------------------------------------------------------------------------------------------------------------------------------------------------------------------------------------------------------------------------------------+\n",
      "|data_extracao   |hr   |lista                                                                                                                                                                                                                                                                                                                                                                                                                                                                                                                                                                                                                                                                                     |\n",
      "+----------------+-----+------------------------------------------------------------------------------------------------------------------------------------------------------------------------------------------------------------------------------------------------------------------------------------------------------------------------------------------------------------------------------------------------------------------------------------------------------------------------------------------------------------------------------------------------------------------------------------------------------------------------------------------------------------------------------------------+\n",
      "|2023-09-09 11:36|11:36|{6069-10, 1154, TERM. STO. AMARO, JD. SÃO BERNARDO, 4, 1, [{true, null, 66525, -46.71154075, -23.653890625, null, 2023-09-09T14:35:55Z}, {true, null, 66706, -46.6953825, -23.748659500000002, null, 2023-09-09T14:34:51Z}, {true, null, 66414, -46.703199, -23.684085500000002, null, 2023-09-09T14:36:16Z}, {true, null, 66716, -46.6992625, -23.726964000000002, null, 2023-09-09T14:36:22Z}]}                                                                                                                                                                                                                                                                                         |\n",
      "|2023-09-09 11:36|11:36|{6L10-41, 34773, TERM. VARGINHA, MESSIÂNICA, 4, 2, [{true, null, 66765, -46.765596, -23.7880685, null, 2023-09-09T14:36:00Z}, {true, null, 66402, -46.765596, -23.7880685, null, 2023-09-09T14:35:53Z}, {true, null, 66536, -46.765596, -23.7880685, null, 2023-09-09T14:36:28Z}, {true, null, 66932, -46.72226175, -23.77495725, null, 2023-09-09T14:36:21Z}]}                                                                                                                                                                                                                                                                                                                           |\n",
      "|2023-09-09 11:36|11:36|{2734-10, 34528, METRÔ ITAQUERA, JD. CAMPOS, 3, 2, [{true, null, 35939, -46.435375375, -23.509469375000002, null, 2023-09-09T14:35:16Z}, {true, null, 35784, -46.4467, -23.52863575, null, 2023-09-09T14:36:16Z}, {true, null, 35928, -46.41021025, -23.510827749999997, null, 2023-09-09T14:36:25Z}]}                                                                                                                                                                                                                                                                                                                                                                                    |\n",
      "|2023-09-09 11:36|11:36|{701A-10, 33457, METRÔ VL. MADALENA, PQ. EDU CHAVES, 8, 2, [{true, null, 21238, -46.589543, -23.518244125000002, null, 2023-09-09T14:36:23Z}, {true, null, 21386, -46.63965, -23.547204999999998, null, 2023-09-09T14:36:18Z}, {true, null, 21393, -46.565966, -23.4737385, null, 2023-09-09T14:35:54Z}, {true, null, 21368, -46.596869, -23.527497, null, 2023-09-09T14:33:13Z}, {true, null, 21399, -46.5664555, -23.473947, null, 2023-09-09T14:36:27Z}, {true, null, 21387, -46.566243, -23.4738595, null, 2023-09-09T14:36:11Z}, {true, null, 21237, -46.5907625, -23.499533, null, 2023-09-09T14:36:17Z}, {true, null, 21397, -46.565966, -23.4737385, null, 2023-09-09T14:35:50Z}]}|\n",
      "|2023-09-09 11:36|11:36|{273R-10, 32994, METRÔ ARTUR ALVIM, JD. ROBRU, 4, 2, [{true, null, 32621, -46.4755906875, -23.520824375, null, 2023-09-09T14:36:19Z}, {true, null, 32613, -46.42110675, -23.510990500000002, null, 2023-09-09T14:35:57Z}, {true, null, 32040, -46.41263875, -23.522662999999998, null, 2023-09-09T14:36:27Z}, {true, null, 32083, -46.450733, -23.514086374999998, null, 2023-09-09T14:35:48Z}]}                                                                                                                                                                                                                                                                                          |\n",
      "+----------------+-----+------------------------------------------------------------------------------------------------------------------------------------------------------------------------------------------------------------------------------------------------------------------------------------------------------------------------------------------------------------------------------------------------------------------------------------------------------------------------------------------------------------------------------------------------------------------------------------------------------------------------------------------------------------------------------------------+\n",
      "only showing top 5 rows\n",
      "\n",
      "root\n",
      " |-- data_extracao: string (nullable = true)\n",
      " |-- hr: string (nullable = true)\n",
      " |-- lista: struct (nullable = true)\n",
      " |    |-- c: string (nullable = true)\n",
      " |    |-- cl: long (nullable = true)\n",
      " |    |-- lt0: string (nullable = true)\n",
      " |    |-- lt1: string (nullable = true)\n",
      " |    |-- qv: long (nullable = true)\n",
      " |    |-- sl: long (nullable = true)\n",
      " |    |-- vs: array (nullable = true)\n",
      " |    |    |-- element: struct (containsNull = true)\n",
      " |    |    |    |-- a: boolean (nullable = true)\n",
      " |    |    |    |-- is: string (nullable = true)\n",
      " |    |    |    |-- p: long (nullable = true)\n",
      " |    |    |    |-- px: double (nullable = true)\n",
      " |    |    |    |-- py: double (nullable = true)\n",
      " |    |    |    |-- sv: string (nullable = true)\n",
      " |    |    |    |-- ta: string (nullable = true)\n",
      "\n"
     ]
    }
   ],
   "source": [
    "df_p = df.select(df.data_extracao, df.hr, explode(df.l).alias('lista'))\n",
    "df_p.show(5, truncate=False)\n",
    "df_p.printSchema()\n"
   ]
  },
  {
   "cell_type": "code",
   "execution_count": 40,
   "metadata": {},
   "outputs": [
    {
     "name": "stdout",
     "output_type": "stream",
     "text": [
      "root\n",
      " |-- data_extracao: string (nullable = true)\n",
      " |-- lista: struct (nullable = true)\n",
      " |    |-- c: string (nullable = true)\n",
      " |    |-- cl: long (nullable = true)\n",
      " |    |-- lt0: string (nullable = true)\n",
      " |    |-- lt1: string (nullable = true)\n",
      " |    |-- qv: long (nullable = true)\n",
      " |    |-- sl: long (nullable = true)\n",
      " |    |-- vs: array (nullable = true)\n",
      " |    |    |-- element: struct (containsNull = true)\n",
      " |    |    |    |-- a: boolean (nullable = true)\n",
      " |    |    |    |-- is: string (nullable = true)\n",
      " |    |    |    |-- p: long (nullable = true)\n",
      " |    |    |    |-- px: double (nullable = true)\n",
      " |    |    |    |-- py: double (nullable = true)\n",
      " |    |    |    |-- sv: string (nullable = true)\n",
      " |    |    |    |-- ta: string (nullable = true)\n",
      "\n"
     ]
    }
   ],
   "source": [
    "df_p2 = df_p.select(df_p.data_extracao, df_p.lista)\n",
    "df_p2.printSchema()\n"
   ]
  },
  {
   "cell_type": "code",
   "execution_count": 41,
   "metadata": {},
   "outputs": [
    {
     "name": "stderr",
     "output_type": "stream",
     "text": [
      "[Stage 38:>                                                         (0 + 8) / 8]\r"
     ]
    },
    {
     "name": "stdout",
     "output_type": "stream",
     "text": [
      "+----------------+-----------------+----------------+--------------------------+--------------+-----------------------------+-------------------+-------------------+\n",
      "|DATA_EXTRACAO   |LETREIRO_COMPLETO|SENTIDO_OPERACAO|CODIGO_IDENTIFICADOR_LINHA|PREFIXO_ONIBUS|DATA_HORA_CAPTURA_LOCALIZACAO|LATITUDE           |LONGITUDE          |\n",
      "+----------------+-----------------+----------------+--------------------------+--------------+-----------------------------+-------------------+-------------------+\n",
      "|2023-09-09 22:40|848L-10          |2               |33576                     |15208         |2023-09-10T01:39:54Z         |-23.4130405        |-46.750367         |\n",
      "|2023-09-09 22:36|848L-10          |2               |33576                     |15208         |2023-09-10T01:35:24Z         |-23.4130405        |-46.750367         |\n",
      "|2023-09-09 22:32|848L-10          |2               |33576                     |15208         |2023-09-10T01:31:38Z         |-23.4130405        |-46.750367         |\n",
      "|2023-09-09 22:28|848L-10          |2               |33576                     |15208         |2023-09-10T01:27:53Z         |-23.4130405        |-46.750367         |\n",
      "|2023-09-09 22:24|848L-10          |1               |808                       |15208         |2023-09-10T01:23:51Z         |-23.413953499999998|-46.750866         |\n",
      "|2023-09-09 22:20|848L-10          |2               |33576                     |15208         |2023-09-10T01:19:40Z         |-23.4194175        |-46.7533035        |\n",
      "|2023-09-09 22:16|848L-10          |2               |33576                     |15208         |2023-09-10T01:15:55Z         |-23.4071995        |-46.758607         |\n",
      "|2023-09-09 22:12|848L-10          |2               |33576                     |15208         |2023-09-10T01:11:51Z         |-23.404367999999998|-46.7515875        |\n",
      "|2023-09-09 22:08|848L-10          |2               |33576                     |15208         |2023-09-10T01:07:33Z         |-23.409377         |-46.748789         |\n",
      "|2023-09-09 22:04|848L-10          |2               |33576                     |15208         |2023-09-10T01:03:48Z         |-23.410227499999998|-46.735776         |\n",
      "|2023-09-09 22:00|848L-10          |2               |33576                     |15208         |2023-09-10T01:00:03Z         |-23.4234875        |-46.72467125       |\n",
      "|2023-09-09 21:56|848L-10          |2               |33576                     |15208         |2023-09-10T00:55:55Z         |-23.4323995        |-46.7242835        |\n",
      "|2023-09-09 21:52|848L-10          |2               |33576                     |15208         |2023-09-10T00:51:24Z         |-23.438156         |-46.721397499999995|\n",
      "|2023-09-09 21:48|848L-10          |2               |33576                     |15208         |2023-09-10T00:47:39Z         |-23.4434775        |-46.729263875      |\n",
      "|2023-09-09 21:44|848L-10          |2               |33576                     |15208         |2023-09-10T00:44:04Z         |-23.441400625      |-46.72146          |\n",
      "|2023-09-09 21:40|848L-10          |2               |33576                     |15208         |2023-09-10T00:39:34Z         |-23.4522315        |-46.7186795        |\n",
      "|2023-09-09 21:36|848L-10          |2               |33576                     |15208         |2023-09-10T00:35:35Z         |-23.4623475        |-46.7210405        |\n",
      "|2023-09-09 21:32|848L-10          |2               |33576                     |15208         |2023-09-10T00:31:33Z         |-23.4761165        |-46.727823         |\n",
      "|2023-09-09 21:28|848L-10          |2               |33576                     |15208         |2023-09-10T00:27:59Z         |-23.486878500000003|-46.7265645        |\n",
      "|2023-09-09 21:24|848L-10          |1               |808                       |15208         |2023-09-10T00:23:56Z         |-23.485637500000003|-46.7260535        |\n",
      "+----------------+-----------------+----------------+--------------------------+--------------+-----------------------------+-------------------+-------------------+\n",
      "only showing top 20 rows\n",
      "\n"
     ]
    },
    {
     "name": "stderr",
     "output_type": "stream",
     "text": [
      "                                                                                \r"
     ]
    }
   ],
   "source": [
    "# df_amostra_um = df_p2.select(df_p2.data_extracao,df_p2.lista.c ,df_p2.lista.vs.p,df_p2.lista.vs.py, df_p2.lista.vs.px)\n",
    "# Método para obter o dados dos ônibus\n",
    "df_amostra_um = df_p2.select(\n",
    "    df_p2.data_extracao,\n",
    "    df_p2.lista.c.alias('LETREIRO_COMPLETO'), \n",
    "    df_p2.lista.sl.alias('SENTIDO_OPERACAO'), \n",
    "    df_p2.lista.cl.alias('CODIGO_IDENTIFICADOR_LINHA') , \n",
    "    explode(df_p2.lista.vs).alias('expansao')) \\\n",
    "    .select(col('data_extracao').alias('DATA_EXTRACAO'),\n",
    "            'LETREIRO_COMPLETO',\n",
    "            'SENTIDO_OPERACAO',\n",
    "            'CODIGO_IDENTIFICADOR_LINHA',\n",
    "            col('expansao.p').alias('PREFIXO_ONIBUS'),\n",
    "            col('expansao.ta').alias('DATA_HORA_CAPTURA_LOCALIZACAO'),\n",
    "            col('expansao.py').alias('LATITUDE') ,\n",
    "            col('expansao.px').alias('LONGITUDE'),\n",
    "            \n",
    "            ) \\\n",
    "            .filter(col('expansao.p') == '15208') \\\n",
    "    .sort(df_p2.data_extracao.desc(),df_p2.lista.c.asc() ) \\\n",
    "    \n",
    "df_amostra_um.show(truncate=False)\n"
   ]
  },
  {
   "cell_type": "code",
   "execution_count": 48,
   "metadata": {},
   "outputs": [
    {
     "name": "stdout",
     "output_type": "stream",
     "text": [
      "+--------+----------------+-----------------+--------------------+---------------------+-------------------+----------------------+\n",
      "|HORA_API|DATA_EXTRACAO   |LETREIRO_COMPLETO|CODIGO_IDENTIFICADOR|LETREIRO_ORIGEM      |LETREIRO_DESTINO   |QTDE_VEICULOS_OPERACAO|\n",
      "+--------+----------------+-----------------+--------------------+---------------------+-------------------+----------------------+\n",
      "|11:36   |2023-09-09 11:36|6069-10          |1154                |TERM. STO. AMARO     |JD. SÃO BERNARDO   |4                     |\n",
      "|11:36   |2023-09-09 11:36|6L10-41          |34773               |TERM. VARGINHA       |MESSIÂNICA         |4                     |\n",
      "|11:36   |2023-09-09 11:36|2734-10          |34528               |METRÔ ITAQUERA       |JD. CAMPOS         |3                     |\n",
      "|11:36   |2023-09-09 11:36|701A-10          |33457               |METRÔ VL. MADALENA   |PQ. EDU CHAVES     |8                     |\n",
      "|11:36   |2023-09-09 11:36|273R-10          |32994               |METRÔ ARTUR ALVIM    |JD. ROBRU          |4                     |\n",
      "|11:36   |2023-09-09 11:36|6000-10          |33908               |TERM. STO. AMARO     |TERM. PARELHEIROS  |10                    |\n",
      "|11:36   |2023-09-09 11:36|6291-10          |358                 |TERM. BANDEIRA       |INOCOOP CAMPO LIMPO|4                     |\n",
      "|11:36   |2023-09-09 11:36|546J-10          |1133                |STO. AMARO           |JD. SELMA          |2                     |\n",
      "|11:36   |2023-09-09 11:36|1782-10          |643                 |METRÔ SANTANA        |VL. NOVA GALVÃO    |2                     |\n",
      "|11:36   |2023-09-09 11:36|695Y-10          |33966               |METRÔ VL. MARIANA    |TERM. PARELHEIROS  |8                     |\n",
      "|11:36   |2023-09-09 11:36|675M-10          |108                 |METRÔ JABAQUARA      |CENTRO SESC        |5                     |\n",
      "|11:36   |2023-09-09 11:36|3762-10          |1053                |METRÔ TATUAPÉ        |JD. IVA            |4                     |\n",
      "|11:36   |2023-09-09 11:36|263C-10          |33020               |COHAB II             |JD. HELENA         |4                     |\n",
      "|11:36   |2023-09-09 11:36|2290-10          |33486               |TERM. PQ. D. PEDRO II|TERM. SÃO MATEUS   |11                    |\n",
      "|11:36   |2023-09-09 11:36|1016-10          |33599               |SHOP. CENTER NORTE   |CEM. DO HORTO      |6                     |\n",
      "|11:36   |2023-09-09 11:36|5018-10          |1492                |JABAQUARA            |SHOP. INTERLAGOS   |2                     |\n",
      "|11:36   |2023-09-09 11:36|1743-10          |33311               |SHOP. D              |JD. PERY ALTO      |4                     |\n",
      "|11:36   |2023-09-09 11:36|8700-1           |35276               |PÇA. RAMOS DE AZEVEDO|TERM. CAMPO LIMPO  |2                     |\n",
      "|11:36   |2023-09-09 11:36|7017-10          |35270               |TERM. GUARAPIRANGA   |JD. GUARUJÁ        |4                     |\n",
      "|11:36   |2023-09-09 11:36|8014-10          |33569               |PERUS                |MORRO DOCE         |7                     |\n",
      "+--------+----------------+-----------------+--------------------+---------------------+-------------------+----------------------+\n",
      "only showing top 20 rows\n",
      "\n"
     ]
    }
   ],
   "source": [
    "# Método de obter operação\n",
    "df_operacao =df.select(df.hr, df.data_extracao, explode('l').alias('DADOS_LINHA')) \\\n",
    "    .withColumnRenamed('hr', 'HORA_API') \\\n",
    "    .select('HORA_API',\n",
    "            'DATA_EXTRACAO',\n",
    "            col('DADOS_LINHA.c').alias('LETREIRO_COMPLETO'),\n",
    "            col('DADOS_LINHA.cl').alias('CODIGO_IDENTIFICADOR'), \n",
    "            col('DADOS_LINHA.lt0').alias('LETREIRO_ORIGEM'),\n",
    "            col('DADOS_LINHA.lt1').alias('LETREIRO_DESTINO'), \n",
    "            col('DADOS_LINHA.qv').alias('QTDE_VEICULOS_OPERACAO'),\n",
    "              )\n",
    "#     .where('c == \"7005-51\"') \\\n",
    "\n",
    "df_operacao.show(truncate=False)"
   ]
  },
  {
   "cell_type": "code",
   "execution_count": 43,
   "metadata": {},
   "outputs": [],
   "source": [
    "df_dados_completos_linha = spark.read.options(header='True') \\\n",
    ".csv('data/datalake/bronze/relacao_empresas_linha/dados_linhas_completo.csv')"
   ]
  },
  {
   "cell_type": "code",
   "execution_count": 44,
   "metadata": {},
   "outputs": [
    {
     "name": "stdout",
     "output_type": "stream",
     "text": [
      "23/09/10 18:59:27 WARN CSVHeaderChecker: CSV header does not conform to the schema.\n",
      " Header: , _c1, LINHA, CODIGO_AREA, CONSOCIO, EMPRESA\n",
      " Schema: _c0, _c1, LINHA, CODIGO_AREA, CONSOCIO, EMPRESA\n",
      "Expected: _c0 but found: \n",
      "CSV file: file:///home/rodrigo/projetos/monitoramento_sptrans/data/datalake/bronze/relacao_empresas_linha/dados_linhas_completo.csv\n",
      "+---+---+-------+-----------+--------------------+--------------------+\n",
      "|_c0|_c1|  LINHA|CODIGO_AREA|            CONSOCIO|             EMPRESA|\n",
      "+---+---+-------+-----------+--------------------+--------------------+\n",
      "|  0|  0|975A-10|          1|CONSÓRCIO BANDEIR...|VIAÇÃO SANTA BRIG...|\n",
      "|  1|  1|9784-10|          1|CONSÓRCIO TRANSNO...|SPENCER TRANSPORT...|\n",
      "|  2|  2|9785-10|          1|CONSÓRCIO TRANSNO...|NORTE BUSS TRANSP...|\n",
      "|  3|  3|9785-51|          1|CONSÓRCIO TRANSNO...|NORTE BUSS TRANSP...|\n",
      "|  4|  4|9789-10|          1|CONSÓRCIO TRANSNO...|NORTE BUSS TRANSP...|\n",
      "|  5|  5|978A-10|          1|CONSÓRCIO BANDEIR...|VIAÇÃO GATO PRETO...|\n",
      "|  6|  6|978J-10|          1|CONSÓRCIO BANDEIR...|VIAÇÃO SANTA BRIG...|\n",
      "|  7|  7|978L-10|          1|CONSÓRCIO BANDEIR...|VIAÇÃO SANTA BRIG...|\n",
      "|  8|  8|978T-10|          1|CONSÓRCIO TRANSNO...|NORTE BUSS TRANSP...|\n",
      "|  9|  9|N101-11|          1|CONSÓRCIO BANDEIR...|VIAÇÃO SANTA BRIG...|\n",
      "| 10| 10|N102-11|          1|CONSÓRCIO BANDEIR...|VIAÇÃO SANTA BRIG...|\n",
      "| 11| 11|N103-11|          1|CONSÓRCIO BANDEIR...|VIAÇÃO SANTA BRIG...|\n",
      "| 12| 12|N104-11|          1|CONSÓRCIO BANDEIR...|VIAÇÃO SANTA BRIG...|\n",
      "| 13| 13|N105-11|          1|CONSÓRCIO BANDEIR...|VIAÇÃO GATO PRETO...|\n",
      "| 14| 14|N106-11|          1|CONSÓRCIO BANDEIR...|VIAÇÃO SANTA BRIG...|\n",
      "| 15| 15|N131-11|          1|CONSÓRCIO BANDEIR...|VIAÇÃO SANTA BRIG...|\n",
      "| 16| 16|N132-11|          1|CONSÓRCIO BANDEIR...|VIAÇÃO SANTA BRIG...|\n",
      "| 17| 17|N133-11|          1|CONSÓRCIO BANDEIR...|VIAÇÃO SANTA BRIG...|\n",
      "| 18| 18|N134-11|          1|CONSÓRCIO BANDEIR...|VIAÇÃO SANTA BRIG...|\n",
      "| 19| 19|N135-11|          1|CONSÓRCIO BANDEIR...|VIAÇÃO SANTA BRIG...|\n",
      "+---+---+-------+-----------+--------------------+--------------------+\n",
      "only showing top 20 rows\n",
      "\n"
     ]
    }
   ],
   "source": [
    "df_dados_completos_linha.show()"
   ]
  },
  {
   "cell_type": "code",
   "execution_count": 49,
   "metadata": {},
   "outputs": [
    {
     "name": "stdout",
     "output_type": "stream",
     "text": [
      "23/09/10 19:00:30 WARN CSVHeaderChecker: CSV header does not conform to the schema.\n",
      " Header: , _c1, LINHA, CODIGO_AREA, CONSOCIO, EMPRESA\n",
      " Schema: _c0, _c1, LINHA, CODIGO_AREA, CONSOCIO, EMPRESA\n",
      "Expected: _c0 but found: \n",
      "CSV file: file:///home/rodrigo/projetos/monitoramento_sptrans/data/datalake/bronze/relacao_empresas_linha/dados_linhas_completo.csv\n",
      "+----+---+-------+-----------+---------------------------------------+---------------------------------------+--------+----------------+-----------------+--------------------+---------------------+-------------------+----------------------+\n",
      "|_c0 |_c1|LINHA  |CODIGO_AREA|CONSOCIO                               |EMPRESA                                |HORA_API|DATA_EXTRACAO   |LETREIRO_COMPLETO|CODIGO_IDENTIFICADOR|LETREIRO_ORIGEM      |LETREIRO_DESTINO   |QTDE_VEICULOS_OPERACAO|\n",
      "+----+---+-------+-----------+---------------------------------------+---------------------------------------+--------+----------------+-----------------+--------------------+---------------------+-------------------+----------------------+\n",
      "|613 |9  |6069-10|6          |TRANSWOLFF TRANSPORTES E TURISMO LTDA  |TRANSWOLFF TRANSPORTES E TURISMO LTDA  |11:36   |2023-09-09 11:36|6069-10          |1154                |TERM. STO. AMARO     |JD. SÃO BERNARDO   |4                     |\n",
      "|851 |49 |6L10-41|6          |TRANSWOLFF TRANSPORTES E TURISMO LTDA  |TRANSWOLFF TRANSPORTES E TURISMO LTDA  |11:36   |2023-09-09 11:36|6L10-41          |34773               |TERM. VARGINHA       |MESSIÂNICA         |4                     |\n",
      "|1029|31 |2734-10|3          |UPBUS QUALIDADE EM TRANSPORTES S.A.    |UPBUS QUALIDADE EM TRANSPORTES S.A.    |11:36   |2023-09-09 11:36|2734-10          |34528               |METRÔ ITAQUERA       |JD. CAMPOS         |3                     |\n",
      "|868 |66 |701A-10|2          |SAMBAIBA TRANSPORTES URBANOS LTDA.     |SAMBAIBA TRANSPORTES URBANOS LTDA.     |11:36   |2023-09-09 11:36|701A-10          |33457               |METRÔ VL. MADALENA   |PQ. EDU CHAVES     |8                     |\n",
      "|1040|42 |273R-10|3          |VIAÇÃO METRÓPOLE PAULISTA S.A.         |VIAÇÃO METRÓPOLE PAULISTA S.A.         |11:36   |2023-09-09 11:36|273R-10          |32994               |METRÔ ARTUR ALVIM    |JD. ROBRU          |4                     |\n",
      "|344 |39 |6000-10|6          |MOBIBRASIL TRANSPORTE SÃO PAULO LTDA   |MOBIBRASIL TRANSPORTE SÃO PAULO LTDA   |11:36   |2023-09-09 11:36|6000-10          |33908               |TERM. STO. AMARO     |TERM. PARELHEIROS  |10                    |\n",
      "|653 |49 |6291-10|7          |VIAÇÃO GATUSA TRANSPORTES URBANOS LTDA.|VIAÇÃO GATUSA TRANSPORTES URBANOS LTDA.|11:36   |2023-09-09 11:36|6291-10          |358                 |TERM. BANDEIRA       |INOCOOP CAMPO LIMPO|4                     |\n",
      "|1196|98 |546J-10|6          |A2 TRANSPORTES LTDA                    |A2 TRANSPORTES LTDA                    |11:36   |2023-09-09 11:36|546J-10          |1133                |STO. AMARO           |JD. SELMA          |2                     |\n",
      "|986 |87 |1782-10|2          |SAMBAIBA TRANSPORTES URBANOS LTDA.     |SAMBAIBA TRANSPORTES URBANOS LTDA.     |11:36   |2023-09-09 11:36|1782-10          |643                 |METRÔ SANTANA        |VL. NOVA GALVÃO    |2                     |\n",
      "|832 |30 |695Y-10|6          |VIAÇÃO GRAJAÚ S.A.                     |VIAÇÃO GRAJAÚ S.A.                     |11:36   |2023-09-09 11:36|695Y-10          |33966               |METRÔ VL. MARIANA    |TERM. PARELHEIROS  |8                     |\n",
      "|691 |87 |675M-10|6          |MOBIBRASIL TRANSPORTE SÃO PAULO LTDA   |MOBIBRASIL TRANSPORTE SÃO PAULO LTDA   |11:36   |2023-09-09 11:36|675M-10          |108                 |METRÔ JABAQUARA      |CENTRO SESC        |5                     |\n",
      "|1263|65 |3762-10|4          |ALLIBUS TRANSPORTES LTDA               |ALLIBUS TRANSPORTES LTDA               |11:36   |2023-09-09 11:36|3762-10          |1053                |METRÔ TATUAPÉ        |JD. IVA            |4                     |\n",
      "|782 |79 |263C-10|3          |VIAÇÃO METRÓPOLE PAULISTA S.A.         |VIAÇÃO METRÓPOLE PAULISTA S.A.         |11:36   |2023-09-09 11:36|263C-10          |33020               |COHAB II             |JD. HELENA         |4                     |\n",
      "|764 |61 |2290-10|4          |CONSÓRCIO TRANSVIDA                    |AMBIENTAL TRANSPORTES URBANOS S.A.     |11:36   |2023-09-09 11:36|2290-10          |33486               |TERM. PQ. D. PEDRO II|TERM. SÃO MATEUS   |11                    |\n",
      "|902 |3  |1016-10|2          |CONSÓRCIO TRANSNOROESTE                |NORTE BUSS TRANSPORTES S.A.            |11:36   |2023-09-09 11:36|1016-10          |33599               |SHOP. CENTER NORTE   |CEM. DO HORTO      |6                     |\n",
      "|1102|4  |5018-10|6          |A2 TRANSPORTES LTDA                    |A2 TRANSPORTES LTDA                    |11:36   |2023-09-09 11:36|5018-10          |1492                |JABAQUARA            |SHOP. INTERLAGOS   |2                     |\n",
      "|963 |64 |1743-10|2          |SAMBAIBA TRANSPORTES URBANOS LTDA.     |SAMBAIBA TRANSPORTES URBANOS LTDA.     |11:36   |2023-09-09 11:36|1743-10          |33311               |SHOP. D              |JD. PERY ALTO      |4                     |\n",
      "|867 |65 |7017-10|7          |TRANSWOLFF TRANSPORTES E TURISMO LTDA  |TRANSWOLFF TRANSPORTES E TURISMO LTDA  |11:36   |2023-09-09 11:36|7017-10          |35270               |TERM. GUARAPIRANGA   |JD. GUARUJÁ        |4                     |\n",
      "|466 |61 |8014-10|1          |CONSÓRCIO TRANSNOROESTE                |NORTE BUSS TRANSPORTES S.A.            |11:36   |2023-09-09 11:36|8014-10          |33569               |PERUS                |MORRO DOCE         |7                     |\n",
      "|978 |79 |1772-10|2          |SAMBAIBA TRANSPORTES URBANOS LTDA.     |SAMBAIBA TRANSPORTES URBANOS LTDA.     |11:36   |2023-09-09 11:36|1772-10          |635                 |METRÔ TUCURUVI       |JD. FILHOS DA TERRA|2                     |\n",
      "+----+---+-------+-----------+---------------------------------------+---------------------------------------+--------+----------------+-----------------+--------------------+---------------------+-------------------+----------------------+\n",
      "only showing top 20 rows\n",
      "\n"
     ]
    }
   ],
   "source": [
    "df_dados_completos_linha.join(df_operacao, df_dados_completos_linha.LINHA == df_operacao.LETREIRO_COMPLETO, 'inner') \\\n",
    ".show(truncate=False)"
   ]
  }
 ],
 "metadata": {
  "kernelspec": {
   "display_name": "venv",
   "language": "python",
   "name": "python3"
  },
  "language_info": {
   "codemirror_mode": {
    "name": "ipython",
    "version": 3
   },
   "file_extension": ".py",
   "mimetype": "text/x-python",
   "name": "python",
   "nbconvert_exporter": "python",
   "pygments_lexer": "ipython3",
   "version": "3.10.12"
  },
  "orig_nbformat": 4
 },
 "nbformat": 4,
 "nbformat_minor": 2
}
