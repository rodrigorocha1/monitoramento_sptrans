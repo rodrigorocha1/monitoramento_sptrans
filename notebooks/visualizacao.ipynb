{
 "cells": [
  {
   "cell_type": "code",
   "execution_count": 90,
   "metadata": {},
   "outputs": [],
   "source": [
    "from pyspark.sql import SparkSession\n",
    "from pyspark.sql import functions as F\n",
    "import pyspark.sql.functions as f\n",
    "import pyspark.sql.types as t\n",
    "import os\n",
    "from functools import reduce\n",
    "from datetime import datetime, time\n",
    "from pyspark.sql import DataFrame\n",
    "from pyspark.sql import SparkSession\n",
    "from pyspark.sql.functions import lag\n",
    "from pyspark.sql.window import Window\n",
    "from pyspark.sql.functions import pandas_udf\n",
    "from pyspark.sql.types import DoubleType\n",
    "import pandas as pd\n",
    "import math\n"
   ]
  },
  {
   "cell_type": "code",
   "execution_count": 91,
   "metadata": {},
   "outputs": [],
   "source": [
    "spark = SparkSession.builder.master('local[*]') \\\n",
    "    .appName('Métricas') \\\n",
    "    .getOrCreate()"
   ]
  },
  {
   "cell_type": "markdown",
   "metadata": {},
   "source": [
    "<p>1 – Quantidade de ônibus em operação</p>"
   ]
  },
  {
   "cell_type": "code",
   "execution_count": 92,
   "metadata": {},
   "outputs": [],
   "source": [
    "directory_path = \"/home/rodrigo/projetos/monitoramento_sptrans/data/datalake/prata/operacao_agrupada\"\n",
    "file_list = os.listdir(directory_path)\n",
    "dataframes_agrupados = []\n",
    "for item in file_list:\n",
    "    if item.endswith('.parquet'):\n",
    "        caminho_completo = os.path.join(directory_path, item)\n",
    "\n",
    "        df = spark.read.parquet(caminho_completo)\n",
    "        dataframes_agrupados.append(df)\n",
    "\n"
   ]
  },
  {
   "cell_type": "code",
   "execution_count": 93,
   "metadata": {},
   "outputs": [
    {
     "data": {
      "text/plain": [
       "1083996"
      ]
     },
     "execution_count": 93,
     "metadata": {},
     "output_type": "execute_result"
    }
   ],
   "source": [
    "soma = 0\n",
    "for d in dataframes_agrupados:\n",
    "\n",
    "    soma += d.count()\n",
    "soma"
   ]
  },
  {
   "cell_type": "code",
   "execution_count": 94,
   "metadata": {},
   "outputs": [],
   "source": [
    "def union_all(dfs):\n",
    "    return reduce(DataFrame.unionAll, dfs)"
   ]
  },
  {
   "cell_type": "code",
   "execution_count": 95,
   "metadata": {},
   "outputs": [
    {
     "name": "stdout",
     "output_type": "stream",
     "text": [
      "+-------+-----------+--------------------+--------------------+--------+-------------+-----------------+--------------------+-----------------+--------------------+----------------------+-----------------+\n",
      "|  LINHA|CODIGO_AREA|            CONSOCIO|             EMPRESA|HORA_API|DATA_EXTRACAO|LETREIRO_COMPLETO|CODIGO_IDENTIFICADOR|  LETREIRO_ORIGEM|    LETREIRO_DESTINO|QTDE_VEICULOS_OPERACAO|DATA_EXTRACAO_API|\n",
      "+-------+-----------+--------------------+--------------------+--------+-------------+-----------------+--------------------+-----------------+--------------------+----------------------+-----------------+\n",
      "|3054-10|          4|PÊSSEGO TRANSPORT...|PÊSSEGO TRANSPORT...|   08:50|   2023-09-15|          3054-10|               33743|  HOSP. SAPOPEMBA|        JD. PALANQUE|                     6|       2023-09-15|\n",
      "|6026-10|          6|TRANSWOLFF TRANSP...|TRANSWOLFF TRANSP...|   08:50|   2023-09-15|          6026-10|                  87| TERM. STO. AMARO|          JD. ICARAÍ|                     5|       2023-09-15|\n",
      "|857A-10|          7|      CONSÓRCIO KBPX|KBPX ADMINISTRAÇÃ...|   08:50|   2023-09-15|          857A-10|               34693|  METRÔ STA. CRUZ|   TERM. CAMPO LIMPO|                     5|       2023-09-15|\n",
      "|6820-10|          7| CONSÓRCIO TRANSVIDA|VIAÇÃO CAMPO BELO...|   08:50|   2023-09-15|          6820-10|               32787|  TERM. CAPELINHA|       JD. DAS ROSAS|                     3|       2023-09-15|\n",
      "|4726-10|          5|MOVEBUSS Soluções...|MOVEBUSS Soluções...|   08:50|   2023-09-15|          4726-10|                1680|    METRÔ TATUAPÉ|               MOOCA|                     5|       2023-09-15|\n",
      "|8600-10|          1|CONSÓRCIO BANDEIR...|VIAÇÃO SANTA BRIG...|   08:50|   2023-09-15|          8600-10|                1432|LGO. DO PAISSANDÚ|      TERM. PIRITUBA|                     8|       2023-09-15|\n",
      "|5013-10|          6| A2 TRANSPORTES LTDA| A2 TRANSPORTES LTDA|   08:50|   2023-09-15|          5013-10|                1117|       STO. AMARO|            JD. LUSO|                    10|       2023-09-15|\n",
      "|2704-10|          3|TRANSUNIÃO TRANSP...|TRANSUNIÃO TRANSP...|   08:50|   2023-09-15|          2704-10|               33684|   METRÔ ITAQUERA|           JD. ROBRU|                     5|       2023-09-15|\n",
      "|5106-31|          6|MOBIBRASIL TRANSP...|MOBIBRASIL TRANSP...|   08:50|   2023-09-15|          5106-31|               34073|   METRÔ ANA ROSA|           JD. SELMA|                     2|       2023-09-15|\n",
      "|175T-10|          2|SAMBAIBA TRANSPOR...|SAMBAIBA TRANSPOR...|   08:50|   2023-09-15|          175T-10|               33391|  METRÔ JABAQUARA|       METRÔ SANTANA|                     8|       2023-09-15|\n",
      "|971R-42|          2|SAMBAIBA TRANSPOR...|SAMBAIBA TRANSPOR...|   08:50|   2023-09-15|          971R-42|               33384|    METRÔ SANTANA|          CDHU VOITH|                     3|       2023-09-15|\n",
      "|5034-10|          5|VIA SUDESTE TRANS...|VIA SUDESTE TRANS...|   08:50|   2023-09-15|          5034-10|               34431|     TERM. SACOMÃ|         VL. LIVIERO|                     5|       2023-09-15|\n",
      "|524M-10|          5|MOVEBUSS Soluções...|MOVEBUSS Soluções...|   08:50|   2023-09-15|          524M-10|               34399| SHOP. ARICANDUVA|MASCARENHAS DE MO...|                     8|       2023-09-15|\n",
      "|3029-10|          4|ALLIBUS TRANSPORT...|ALLIBUS TRANSPORT...|   08:50|   2023-09-15|          3029-10|               33734|    METRÔ TATUAPÉ|       JD. DAS ROSAS|                    12|       2023-09-15|\n",
      "|8100-10|          1|CONSÓRCIO BANDEIR...|VIAÇÃO SANTA BRIG...|   08:50|   2023-09-15|          8100-10|               34030|       TERM. LAPA|      TERM. PIRITUBA|                     5|       2023-09-15|\n",
      "|675K-10|          7|VIAÇÃO METRÓPOLE ...|VIAÇÃO METRÓPOLE ...|   08:50|   2023-09-15|          675K-10|               32966|  METRÔ STA. CRUZ|    TERM. JD. ÂNGELA|                    10|       2023-09-15|\n",
      "|857R-10|          8| CONSÓRCIO TRANSVIDA|TRANSPPASS TRANSP...|   08:50|   2023-09-15|          857R-10|               34660|        ACLIMAÇÃO|   TERM. CAMPO LIMPO|                     4|       2023-09-15|\n",
      "|746P-10|          8|AUTO VIAÇÃO TRANS...|AUTO VIAÇÃO TRANS...|   08:50|   2023-09-15|          746P-10|               33556|       STO. AMARO|        PARAISÓPOLIS|                     9|       2023-09-15|\n",
      "|148P-10|          2|SAMBAIBA TRANSPOR...|SAMBAIBA TRANSPOR...|   08:50|   2023-09-15|          148P-10|                 534|METRÔ BARRA FUNDA|        PEDRA BRANCA|                     7|       2023-09-15|\n",
      "|5110-10|          5|VIA SUDESTE TRANS...|VIA SUDESTE TRANS...|   08:50|   2023-09-15|          5110-10|                2209|    TERM. MERCADO|    TERM. SÃO MATEUS|                    13|       2023-09-15|\n",
      "+-------+-----------+--------------------+--------------------+--------+-------------+-----------------+--------------------+-----------------+--------------------+----------------------+-----------------+\n",
      "only showing top 20 rows\n",
      "\n"
     ]
    }
   ],
   "source": [
    "dataframes_agrupados_completo = union_all(dataframes_agrupados)\n",
    "dataframes_agrupados_completo.show()"
   ]
  },
  {
   "cell_type": "code",
   "execution_count": 96,
   "metadata": {},
   "outputs": [
    {
     "name": "stdout",
     "output_type": "stream",
     "text": [
      "root\n",
      " |-- LINHA: string (nullable = true)\n",
      " |-- CODIGO_AREA: string (nullable = true)\n",
      " |-- CONSOCIO: string (nullable = true)\n",
      " |-- EMPRESA: string (nullable = true)\n",
      " |-- HORA_API: string (nullable = true)\n",
      " |-- DATA_EXTRACAO: date (nullable = true)\n",
      " |-- LETREIRO_COMPLETO: string (nullable = true)\n",
      " |-- CODIGO_IDENTIFICADOR: long (nullable = true)\n",
      " |-- LETREIRO_ORIGEM: string (nullable = true)\n",
      " |-- LETREIRO_DESTINO: string (nullable = true)\n",
      " |-- QTDE_VEICULOS_OPERACAO: long (nullable = true)\n",
      " |-- DATA_EXTRACAO_API: date (nullable = true)\n",
      "\n"
     ]
    }
   ],
   "source": [
    "dataframes_agrupados_completo.printSchema()"
   ]
  },
  {
   "cell_type": "code",
   "execution_count": 97,
   "metadata": {},
   "outputs": [
    {
     "name": "stdout",
     "output_type": "stream",
     "text": [
      "+-------+-----------+--------------------+--------------------+--------+-------------+-----------------+--------------------+-----------------+--------------------+----------------------+\n",
      "|  LINHA|CODIGO_AREA|            CONSOCIO|             EMPRESA|HORA_API|DATA_EXTRACAO|LETREIRO_COMPLETO|CODIGO_IDENTIFICADOR|  LETREIRO_ORIGEM|    LETREIRO_DESTINO|QTDE_VEICULOS_OPERACAO|\n",
      "+-------+-----------+--------------------+--------------------+--------+-------------+-----------------+--------------------+-----------------+--------------------+----------------------+\n",
      "|3054-10|          4|PÊSSEGO TRANSPORT...|PÊSSEGO TRANSPORT...|   08:50|   2023-09-15|          3054-10|               33743|  HOSP. SAPOPEMBA|        JD. PALANQUE|                     6|\n",
      "|6026-10|          6|TRANSWOLFF TRANSP...|TRANSWOLFF TRANSP...|   08:50|   2023-09-15|          6026-10|                  87| TERM. STO. AMARO|          JD. ICARAÍ|                     5|\n",
      "|857A-10|          7|      CONSÓRCIO KBPX|KBPX ADMINISTRAÇÃ...|   08:50|   2023-09-15|          857A-10|               34693|  METRÔ STA. CRUZ|   TERM. CAMPO LIMPO|                     5|\n",
      "|6820-10|          7| CONSÓRCIO TRANSVIDA|VIAÇÃO CAMPO BELO...|   08:50|   2023-09-15|          6820-10|               32787|  TERM. CAPELINHA|       JD. DAS ROSAS|                     3|\n",
      "|4726-10|          5|MOVEBUSS Soluções...|MOVEBUSS Soluções...|   08:50|   2023-09-15|          4726-10|                1680|    METRÔ TATUAPÉ|               MOOCA|                     5|\n",
      "|8600-10|          1|CONSÓRCIO BANDEIR...|VIAÇÃO SANTA BRIG...|   08:50|   2023-09-15|          8600-10|                1432|LGO. DO PAISSANDÚ|      TERM. PIRITUBA|                     8|\n",
      "|5013-10|          6| A2 TRANSPORTES LTDA| A2 TRANSPORTES LTDA|   08:50|   2023-09-15|          5013-10|                1117|       STO. AMARO|            JD. LUSO|                    10|\n",
      "|2704-10|          3|TRANSUNIÃO TRANSP...|TRANSUNIÃO TRANSP...|   08:50|   2023-09-15|          2704-10|               33684|   METRÔ ITAQUERA|           JD. ROBRU|                     5|\n",
      "|5106-31|          6|MOBIBRASIL TRANSP...|MOBIBRASIL TRANSP...|   08:50|   2023-09-15|          5106-31|               34073|   METRÔ ANA ROSA|           JD. SELMA|                     2|\n",
      "|175T-10|          2|SAMBAIBA TRANSPOR...|SAMBAIBA TRANSPOR...|   08:50|   2023-09-15|          175T-10|               33391|  METRÔ JABAQUARA|       METRÔ SANTANA|                     8|\n",
      "|971R-42|          2|SAMBAIBA TRANSPOR...|SAMBAIBA TRANSPOR...|   08:50|   2023-09-15|          971R-42|               33384|    METRÔ SANTANA|          CDHU VOITH|                     3|\n",
      "|5034-10|          5|VIA SUDESTE TRANS...|VIA SUDESTE TRANS...|   08:50|   2023-09-15|          5034-10|               34431|     TERM. SACOMÃ|         VL. LIVIERO|                     5|\n",
      "|524M-10|          5|MOVEBUSS Soluções...|MOVEBUSS Soluções...|   08:50|   2023-09-15|          524M-10|               34399| SHOP. ARICANDUVA|MASCARENHAS DE MO...|                     8|\n",
      "|3029-10|          4|ALLIBUS TRANSPORT...|ALLIBUS TRANSPORT...|   08:50|   2023-09-15|          3029-10|               33734|    METRÔ TATUAPÉ|       JD. DAS ROSAS|                    12|\n",
      "|8100-10|          1|CONSÓRCIO BANDEIR...|VIAÇÃO SANTA BRIG...|   08:50|   2023-09-15|          8100-10|               34030|       TERM. LAPA|      TERM. PIRITUBA|                     5|\n",
      "|675K-10|          7|VIAÇÃO METRÓPOLE ...|VIAÇÃO METRÓPOLE ...|   08:50|   2023-09-15|          675K-10|               32966|  METRÔ STA. CRUZ|    TERM. JD. ÂNGELA|                    10|\n",
      "|857R-10|          8| CONSÓRCIO TRANSVIDA|TRANSPPASS TRANSP...|   08:50|   2023-09-15|          857R-10|               34660|        ACLIMAÇÃO|   TERM. CAMPO LIMPO|                     4|\n",
      "|746P-10|          8|AUTO VIAÇÃO TRANS...|AUTO VIAÇÃO TRANS...|   08:50|   2023-09-15|          746P-10|               33556|       STO. AMARO|        PARAISÓPOLIS|                     9|\n",
      "|148P-10|          2|SAMBAIBA TRANSPOR...|SAMBAIBA TRANSPOR...|   08:50|   2023-09-15|          148P-10|                 534|METRÔ BARRA FUNDA|        PEDRA BRANCA|                     7|\n",
      "|5110-10|          5|VIA SUDESTE TRANS...|VIA SUDESTE TRANS...|   08:50|   2023-09-15|          5110-10|                2209|    TERM. MERCADO|    TERM. SÃO MATEUS|                    13|\n",
      "+-------+-----------+--------------------+--------------------+--------+-------------+-----------------+--------------------+-----------------+--------------------+----------------------+\n",
      "only showing top 20 rows\n",
      "\n"
     ]
    }
   ],
   "source": [
    "dataframes_agrupados_completo = dataframes_agrupados_completo.drop('DATA_EXTRACAO_API')\n",
    "dataframes_agrupados_completo.show()"
   ]
  },
  {
   "cell_type": "code",
   "execution_count": 98,
   "metadata": {},
   "outputs": [
    {
     "name": "stdout",
     "output_type": "stream",
     "text": [
      "root\n",
      " |-- LINHA: string (nullable = true)\n",
      " |-- CODIGO_AREA: string (nullable = true)\n",
      " |-- CONSOCIO: string (nullable = true)\n",
      " |-- EMPRESA: string (nullable = true)\n",
      " |-- HORA_API: string (nullable = true)\n",
      " |-- DATA_EXTRACAO: date (nullable = true)\n",
      " |-- LETREIRO_COMPLETO: string (nullable = true)\n",
      " |-- CODIGO_IDENTIFICADOR: long (nullable = true)\n",
      " |-- LETREIRO_ORIGEM: string (nullable = true)\n",
      " |-- LETREIRO_DESTINO: string (nullable = true)\n",
      " |-- QTDE_VEICULOS_OPERACAO: long (nullable = true)\n",
      "\n"
     ]
    }
   ],
   "source": [
    "dataframes_agrupados_completo.printSchema()"
   ]
  },
  {
   "cell_type": "code",
   "execution_count": 99,
   "metadata": {},
   "outputs": [],
   "source": [
    "@f.udf(returnType=t.StringType())\n",
    "def turno(hora: str):\n",
    "    hora_formatada = datetime.strptime(hora, '%H:%M').time()\n",
    "    if 0 <= hora_formatada.hour < 6:\n",
    "        return 'Madrugada'\n",
    "    elif 6 <= hora_formatada.hour < 12:\n",
    "        return 'Manhã'\n",
    "    elif 12 <= hora_formatada.hour < 18:\n",
    "        return 'Tarde'\n",
    "    else:\n",
    "        return 'Noite'\n",
    "        "
   ]
  },
  {
   "cell_type": "code",
   "execution_count": 100,
   "metadata": {},
   "outputs": [
    {
     "data": {
      "text/plain": [
       "Column<'turno(23:55)'>"
      ]
     },
     "execution_count": 100,
     "metadata": {},
     "output_type": "execute_result"
    }
   ],
   "source": [
    "turno('23:55')"
   ]
  },
  {
   "cell_type": "code",
   "execution_count": 101,
   "metadata": {},
   "outputs": [
    {
     "name": "stdout",
     "output_type": "stream",
     "text": [
      "+-----------------------+-----+-------------+---------------+----------------+--------+-----------------+----------------------+--------------------+\n",
      "|CONSOCIO               |TURNO|DATA_EXTRACAO|LETREIRO_ORIGEM|LETREIRO_DESTINO|HORA_API|LETREIRO_COMPLETO|QTDE_VEICULOS_OPERACAO|CODIGO_IDENTIFICADOR|\n",
      "+-----------------------+-----+-------------+---------------+----------------+--------+-----------------+----------------------+--------------------+\n",
      "|CONSÓRCIO TRANSNOROESTE|Noite|2023-09-15   |LAPA           |JD. PAULISTANO  |18:00   |9047-10          |9                     |33651               |\n",
      "|CONSÓRCIO TRANSNOROESTE|Noite|2023-09-15   |LAPA           |JD. PAULISTANO  |18:00   |9047-10          |5                     |883                 |\n",
      "|CONSÓRCIO TRANSNOROESTE|Noite|2023-09-15   |LAPA           |JD. PAULISTANO  |18:05   |9047-10          |7                     |33651               |\n",
      "|CONSÓRCIO TRANSNOROESTE|Noite|2023-09-15   |LAPA           |JD. PAULISTANO  |18:05   |9047-10          |6                     |883                 |\n",
      "|CONSÓRCIO TRANSNOROESTE|Noite|2023-09-15   |LAPA           |JD. PAULISTANO  |18:10   |9047-10          |10                    |33651               |\n",
      "|CONSÓRCIO TRANSNOROESTE|Noite|2023-09-15   |LAPA           |JD. PAULISTANO  |18:10   |9047-10          |5                     |883                 |\n",
      "|CONSÓRCIO TRANSNOROESTE|Noite|2023-09-15   |LAPA           |JD. PAULISTANO  |18:15   |9047-10          |9                     |33651               |\n",
      "|CONSÓRCIO TRANSNOROESTE|Noite|2023-09-15   |LAPA           |JD. PAULISTANO  |18:15   |9047-10          |5                     |883                 |\n",
      "|CONSÓRCIO TRANSNOROESTE|Noite|2023-09-15   |LAPA           |JD. PAULISTANO  |18:20   |9047-10          |5                     |883                 |\n",
      "|CONSÓRCIO TRANSNOROESTE|Noite|2023-09-15   |LAPA           |JD. PAULISTANO  |18:20   |9047-10          |10                    |33651               |\n",
      "|CONSÓRCIO TRANSNOROESTE|Noite|2023-09-15   |LAPA           |JD. PAULISTANO  |18:25   |9047-10          |4                     |883                 |\n",
      "|CONSÓRCIO TRANSNOROESTE|Noite|2023-09-15   |LAPA           |JD. PAULISTANO  |18:25   |9047-10          |12                    |33651               |\n",
      "|CONSÓRCIO TRANSNOROESTE|Noite|2023-09-15   |LAPA           |JD. PAULISTANO  |18:30   |9047-10          |5                     |883                 |\n",
      "|CONSÓRCIO TRANSNOROESTE|Noite|2023-09-15   |LAPA           |JD. PAULISTANO  |18:30   |9047-10          |10                    |33651               |\n",
      "|CONSÓRCIO TRANSNOROESTE|Noite|2023-09-15   |LAPA           |JD. PAULISTANO  |18:35   |9047-10          |8                     |33651               |\n",
      "|CONSÓRCIO TRANSNOROESTE|Noite|2023-09-15   |LAPA           |JD. PAULISTANO  |18:35   |9047-10          |5                     |883                 |\n",
      "|CONSÓRCIO TRANSNOROESTE|Noite|2023-09-15   |LAPA           |JD. PAULISTANO  |18:40   |9047-10          |5                     |883                 |\n",
      "|CONSÓRCIO TRANSNOROESTE|Noite|2023-09-15   |LAPA           |JD. PAULISTANO  |18:40   |9047-10          |9                     |33651               |\n",
      "|CONSÓRCIO TRANSNOROESTE|Noite|2023-09-15   |LAPA           |JD. PAULISTANO  |18:45   |9047-10          |7                     |883                 |\n",
      "|CONSÓRCIO TRANSNOROESTE|Noite|2023-09-15   |LAPA           |JD. PAULISTANO  |18:45   |9047-10          |7                     |33651               |\n",
      "+-----------------------+-----+-------------+---------------+----------------+--------+-----------------+----------------------+--------------------+\n",
      "only showing top 20 rows\n",
      "\n"
     ]
    }
   ],
   "source": [
    "dataframes_agrupados_completo = dataframes_agrupados_completo.withColumn('TURNO', turno(f.col('HORA_API'))) \n",
    "\n",
    "df_filter = dataframes_agrupados_completo.select(\n",
    "    dataframes_agrupados_completo.CONSOCIO,\n",
    "    dataframes_agrupados_completo.TURNO,\n",
    "    dataframes_agrupados_completo.DATA_EXTRACAO ,\n",
    "    dataframes_agrupados_completo.LETREIRO_ORIGEM,\n",
    "    dataframes_agrupados_completo.LETREIRO_DESTINO,\n",
    "    dataframes_agrupados_completo.HORA_API,\n",
    "    dataframes_agrupados_completo.LETREIRO_COMPLETO,\n",
    "    dataframes_agrupados_completo.QTDE_VEICULOS_OPERACAO,\n",
    "    dataframes_agrupados_completo.CODIGO_IDENTIFICADOR,\n",
    "    ).filter(\n",
    "        (dataframes_agrupados_completo.DATA_EXTRACAO == '2023-09-15' ) & \n",
    "        (dataframes_agrupados_completo.TURNO == 'Noite') &\n",
    "        (dataframes_agrupados_completo.LETREIRO_COMPLETO == '9047-10')\n",
    "        )\n",
    "df_filter.show(truncate=False)"
   ]
  },
  {
   "cell_type": "code",
   "execution_count": 102,
   "metadata": {},
   "outputs": [
    {
     "name": "stderr",
     "output_type": "stream",
     "text": [
      "[Stage 89:>                                                         (0 + 4) / 4]\r"
     ]
    },
    {
     "name": "stdout",
     "output_type": "stream",
     "text": [
      "+-----------------------+-----------------+---------------+----------------+--------+-----+----------------------------+\n",
      "|CONSOCIO               |LETREIRO_COMPLETO|LETREIRO_ORIGEM|LETREIRO_DESTINO|HORA_API|TURNO|QUANTIDADE_VEICULOS_OPERACAO|\n",
      "+-----------------------+-----------------+---------------+----------------+--------+-----+----------------------------+\n",
      "|CONSÓRCIO TRANSNOROESTE|9047-10          |LAPA           |JD. PAULISTANO  |18:00   |Noite|14                          |\n",
      "|CONSÓRCIO TRANSNOROESTE|9047-10          |LAPA           |JD. PAULISTANO  |18:05   |Noite|13                          |\n",
      "|CONSÓRCIO TRANSNOROESTE|9047-10          |LAPA           |JD. PAULISTANO  |18:10   |Noite|15                          |\n",
      "|CONSÓRCIO TRANSNOROESTE|9047-10          |LAPA           |JD. PAULISTANO  |18:15   |Noite|14                          |\n",
      "|CONSÓRCIO TRANSNOROESTE|9047-10          |LAPA           |JD. PAULISTANO  |18:20   |Noite|15                          |\n",
      "|CONSÓRCIO TRANSNOROESTE|9047-10          |LAPA           |JD. PAULISTANO  |18:25   |Noite|16                          |\n",
      "|CONSÓRCIO TRANSNOROESTE|9047-10          |LAPA           |JD. PAULISTANO  |18:30   |Noite|15                          |\n",
      "|CONSÓRCIO TRANSNOROESTE|9047-10          |LAPA           |JD. PAULISTANO  |18:35   |Noite|13                          |\n",
      "|CONSÓRCIO TRANSNOROESTE|9047-10          |LAPA           |JD. PAULISTANO  |18:40   |Noite|14                          |\n",
      "|CONSÓRCIO TRANSNOROESTE|9047-10          |LAPA           |JD. PAULISTANO  |18:45   |Noite|14                          |\n",
      "|CONSÓRCIO TRANSNOROESTE|9047-10          |LAPA           |JD. PAULISTANO  |18:50   |Noite|14                          |\n",
      "|CONSÓRCIO TRANSNOROESTE|9047-10          |LAPA           |JD. PAULISTANO  |18:55   |Noite|14                          |\n",
      "|CONSÓRCIO TRANSNOROESTE|9047-10          |LAPA           |JD. PAULISTANO  |19:00   |Noite|14                          |\n",
      "|CONSÓRCIO TRANSNOROESTE|9047-10          |LAPA           |JD. PAULISTANO  |19:05   |Noite|12                          |\n",
      "|CONSÓRCIO TRANSNOROESTE|9047-10          |LAPA           |JD. PAULISTANO  |19:10   |Noite|14                          |\n",
      "|CONSÓRCIO TRANSNOROESTE|9047-10          |LAPA           |JD. PAULISTANO  |19:15   |Noite|14                          |\n",
      "|CONSÓRCIO TRANSNOROESTE|9047-10          |LAPA           |JD. PAULISTANO  |19:20   |Noite|11                          |\n",
      "|CONSÓRCIO TRANSNOROESTE|9047-10          |LAPA           |JD. PAULISTANO  |19:25   |Noite|12                          |\n",
      "|CONSÓRCIO TRANSNOROESTE|9047-10          |LAPA           |JD. PAULISTANO  |19:30   |Noite|12                          |\n",
      "|CONSÓRCIO TRANSNOROESTE|9047-10          |LAPA           |JD. PAULISTANO  |19:35   |Noite|12                          |\n",
      "+-----------------------+-----------------+---------------+----------------+--------+-----+----------------------------+\n",
      "only showing top 20 rows\n",
      "\n"
     ]
    },
    {
     "name": "stderr",
     "output_type": "stream",
     "text": [
      "                                                                                \r"
     ]
    }
   ],
   "source": [
    "df_filter.groupBy(['CONSOCIO', 'LETREIRO_COMPLETO',  'LETREIRO_ORIGEM', 'LETREIRO_DESTINO','HORA_API', 'TURNO']) \\\n",
    "    .agg(\n",
    "        F.sum('QTDE_VEICULOS_OPERACAO') \\\n",
    "         .alias('QUANTIDADE_VEICULOS_OPERACAO')\n",
    "    ) \\\n",
    "    .orderBy('HORA_API')\\\n",
    "    .show(truncate=False)"
   ]
  },
  {
   "cell_type": "code",
   "execution_count": 103,
   "metadata": {},
   "outputs": [],
   "source": [
    "directory_path = \"/home/rodrigo/projetos/monitoramento_sptrans/data/datalake/prata/operacao_desagrupada\"\n",
    "file_list = os.listdir(directory_path)\n",
    "dataframes_desagrupados = []\n",
    "for item in file_list:\n",
    "    if item.endswith('.parquet'):\n",
    "        caminho_completo = os.path.join(directory_path, item)\n",
    "\n",
    "        df = spark.read.parquet(caminho_completo)\n",
    "        dataframes_desagrupados.append(df)\n",
    "\n"
   ]
  },
  {
   "cell_type": "code",
   "execution_count": 128,
   "metadata": {},
   "outputs": [
    {
     "name": "stderr",
     "output_type": "stream",
     "text": [
      "[Stage 174:==========================================>              (3 + 1) / 4]\r"
     ]
    },
    {
     "name": "stdout",
     "output_type": "stream",
     "text": [
      "+-----------+-------------------------------------------+-------------------------------------------+-------------+--------+-----------------+----------------+--------------------------+--------------+-----------------------------+-------------------+-------------------+-----------------+-----+\n",
      "|CODIGO_AREA|CONSOCIO                                   |EMPRESA                                    |DATA_EXTRACAO|HORA_API|LETREIRO_COMPLETO|SENTIDO_OPERACAO|CODIGO_IDENTIFICADOR_LINHA|PREFIXO_ONIBUS|DATA_HORA_CAPTURA_LOCALIZACAO|LATITUDE           |LONGITUDE          |DATA_EXTRACAO_API|TURNO|\n",
      "+-----------+-------------------------------------------+-------------------------------------------+-------------+--------+-----------------+----------------+--------------------------+--------------+-----------------------------+-------------------+-------------------+-----------------+-----+\n",
      "|4          |PÊSSEGO TRANSPORTES LTDA                   |PÊSSEGO TRANSPORTES LTDA                   |2023-09-15   |08:50   |3054-10          |2               |33743                     |47399         |2023-09-15T11:50:12Z         |-23.598638         |-46.416157         |2023-09-15       |Manhã|\n",
      "|4          |PÊSSEGO TRANSPORTES LTDA                   |PÊSSEGO TRANSPORTES LTDA                   |2023-09-15   |08:50   |3054-10          |2               |33743                     |47606         |2023-09-15T11:50:02Z         |-23.61249          |-46.4756075        |2023-09-15       |Manhã|\n",
      "|4          |PÊSSEGO TRANSPORTES LTDA                   |PÊSSEGO TRANSPORTES LTDA                   |2023-09-15   |08:50   |3054-10          |2               |33743                     |47212         |2023-09-15T11:50:04Z         |-23.609623         |-46.4081455        |2023-09-15       |Manhã|\n",
      "|4          |PÊSSEGO TRANSPORTES LTDA                   |PÊSSEGO TRANSPORTES LTDA                   |2023-09-15   |08:50   |3054-10          |2               |33743                     |47101         |2023-09-15T11:49:49Z         |-23.609623         |-46.4081455        |2023-09-15       |Manhã|\n",
      "|4          |PÊSSEGO TRANSPORTES LTDA                   |PÊSSEGO TRANSPORTES LTDA                   |2023-09-15   |08:50   |3054-10          |2               |33743                     |47262         |2023-09-15T11:50:11Z         |-23.600084         |-46.4220605        |2023-09-15       |Manhã|\n",
      "|4          |PÊSSEGO TRANSPORTES LTDA                   |PÊSSEGO TRANSPORTES LTDA                   |2023-09-15   |08:50   |3054-10          |2               |33743                     |47809         |2023-09-15T11:49:32Z         |-23.6112465        |-46.493599         |2023-09-15       |Manhã|\n",
      "|6          |TRANSWOLFF TRANSPORTES E TURISMO LTDA      |TRANSWOLFF TRANSPORTES E TURISMO LTDA      |2023-09-15   |08:50   |6026-10          |1               |87                        |66297         |2023-09-15T11:49:50Z         |-23.661856999999998|-46.693272500000006|2023-09-15       |Manhã|\n",
      "|6          |TRANSWOLFF TRANSPORTES E TURISMO LTDA      |TRANSWOLFF TRANSPORTES E TURISMO LTDA      |2023-09-15   |08:50   |6026-10          |1               |87                        |66185         |2023-09-15T11:49:56Z         |-23.7093575        |-46.699754999999996|2023-09-15       |Manhã|\n",
      "|6          |TRANSWOLFF TRANSPORTES E TURISMO LTDA      |TRANSWOLFF TRANSPORTES E TURISMO LTDA      |2023-09-15   |08:50   |6026-10          |1               |87                        |66821         |2023-09-15T11:49:38Z         |-23.651654         |-46.7119825        |2023-09-15       |Manhã|\n",
      "|6          |TRANSWOLFF TRANSPORTES E TURISMO LTDA      |TRANSWOLFF TRANSPORTES E TURISMO LTDA      |2023-09-15   |08:50   |6026-10          |1               |87                        |66213         |2023-09-15T11:49:45Z         |-23.748356         |-46.703650999999994|2023-09-15       |Manhã|\n",
      "|6          |TRANSWOLFF TRANSPORTES E TURISMO LTDA      |TRANSWOLFF TRANSPORTES E TURISMO LTDA      |2023-09-15   |08:50   |6026-10          |1               |87                        |66303         |2023-09-15T11:49:36Z         |-23.681303749999998|-46.694077750000005|2023-09-15       |Manhã|\n",
      "|7          |CONSÓRCIO KBPX                             |KBPX ADMINISTRAÇÃO E PARTICIPAÇÃO LTDA     |2023-09-15   |08:50   |857A-10          |2               |34693                     |77410         |2023-09-15T11:50:13Z         |-23.5861895        |-46.7233995        |2023-09-15       |Manhã|\n",
      "|7          |CONSÓRCIO KBPX                             |KBPX ADMINISTRAÇÃO E PARTICIPAÇÃO LTDA     |2023-09-15   |08:50   |857A-10          |2               |34693                     |77864         |2023-09-15T11:49:56Z         |-23.596510374999998|-46.739776500000005|2023-09-15       |Manhã|\n",
      "|7          |CONSÓRCIO KBPX                             |KBPX ADMINISTRAÇÃO E PARTICIPAÇÃO LTDA     |2023-09-15   |08:50   |857A-10          |2               |34693                     |77601         |2023-09-15T11:49:34Z         |-23.5850205        |-46.68194475       |2023-09-15       |Manhã|\n",
      "|7          |CONSÓRCIO KBPX                             |KBPX ADMINISTRAÇÃO E PARTICIPAÇÃO LTDA     |2023-09-15   |08:50   |857A-10          |2               |34693                     |77604         |2023-09-15T11:50:11Z         |-23.631218         |-46.773197499999995|2023-09-15       |Manhã|\n",
      "|7          |CONSÓRCIO KBPX                             |KBPX ADMINISTRAÇÃO E PARTICIPAÇÃO LTDA     |2023-09-15   |08:50   |857A-10          |2               |34693                     |77862         |2023-09-15T11:49:50Z         |-23.580710500000002|-46.664289499999995|2023-09-15       |Manhã|\n",
      "|7          |CONSÓRCIO TRANSVIDA                        |VIAÇÃO CAMPO BELO LTDA.                    |2023-09-15   |08:50   |6820-10          |2               |32787                     |72920         |2023-09-15T11:49:58Z         |-23.665846000000002|-46.788559         |2023-09-15       |Manhã|\n",
      "|7          |CONSÓRCIO TRANSVIDA                        |VIAÇÃO CAMPO BELO LTDA.                    |2023-09-15   |08:50   |6820-10          |2               |32787                     |72928         |2023-09-15T11:50:10Z         |-23.658020999999998|-46.7897125        |2023-09-15       |Manhã|\n",
      "|7          |CONSÓRCIO TRANSVIDA                        |VIAÇÃO CAMPO BELO LTDA.                    |2023-09-15   |08:50   |6820-10          |2               |32787                     |72808         |2023-09-15T11:50:03Z         |-23.654844500000003|-46.76161          |2023-09-15       |Manhã|\n",
      "|5          |MOVEBUSS Soluções em Mobilidade Urbana Ltda|MOVEBUSS Soluções em Mobilidade Urbana Ltda|2023-09-15   |08:50   |4726-10          |1               |1680                      |55393         |2023-09-15T11:50:05Z         |-23.5592635        |-46.585043         |2023-09-15       |Manhã|\n",
      "+-----------+-------------------------------------------+-------------------------------------------+-------------+--------+-----------------+----------------+--------------------------+--------------+-----------------------------+-------------------+-------------------+-----------------+-----+\n",
      "only showing top 20 rows\n",
      "\n"
     ]
    },
    {
     "name": "stderr",
     "output_type": "stream",
     "text": [
      "                                                                                \r"
     ]
    }
   ],
   "source": [
    "dataframes_desagrupados_completo = union_all(dataframes_desagrupados)\n",
    "dataframes_desagrupados_completo = dataframes_desagrupados_completo.drop('LINHA')\n",
    "dataframes_desagrupados_completo = dataframes_desagrupados_completo.withColumn('TURNO', turno(f.col('HORA_API')))\n",
    "dataframes_desagrupados_completo.show(truncate=False)"
   ]
  },
  {
   "cell_type": "code",
   "execution_count": 141,
   "metadata": {},
   "outputs": [
    {
     "name": "stderr",
     "output_type": "stream",
     "text": [
      "[Stage 238:==================================================>     (9 + 1) / 10]\r"
     ]
    },
    {
     "name": "stdout",
     "output_type": "stream",
     "text": [
      "+--------+--------------+-----------------+-------------------+-------------------+\n",
      "|HORA_API|PREFIXO_ONIBUS|LETREIRO_COMPLETO|           LATITUDE|          LONGITUDE|\n",
      "+--------+--------------+-----------------+-------------------+-------------------+\n",
      "|   18:00|         66821|          6026-10|-23.685382250000004|       -46.69115925|\n",
      "|   18:05|         66821|          6026-10|        -23.7037105|         -46.686306|\n",
      "|   18:10|         66821|          6026-10|-23.703379499999997|         -46.688385|\n",
      "|   18:15|         66821|          6026-10|-23.708141750000003|        -46.7000405|\n",
      "|   18:20|         66821|          6026-10|-23.717132999999997| -46.69933425000001|\n",
      "|   18:25|         66821|          6026-10|        -23.7227975|        -46.7083715|\n",
      "|   18:32|         66821|          6026-10|        -23.7329835|        -46.7143215|\n",
      "|   18:35|         66821|          6026-10|       -23.73797275|        -46.7098225|\n",
      "|   18:40|         66821|          6026-10|        -23.7414215|        -46.7058345|\n",
      "|   18:45|         66821|          6026-10|       -23.74675975|       -46.70351925|\n",
      "|   18:50|         66821|          6026-10|         -23.748841|         -46.703187|\n",
      "|   18:55|         66821|          6026-10|         -23.748841|         -46.703187|\n",
      "|   19:00|         66821|          6026-10|         -23.748841|         -46.703187|\n",
      "|   19:05|         66821|          6026-10|         -23.748841|         -46.703187|\n",
      "|   19:10|         66821|          6026-10|         -23.748841|         -46.703187|\n",
      "|   19:15|         66821|          6026-10|         -23.748841|         -46.703187|\n",
      "|   19:20|         66821|          6026-10|         -23.748841|         -46.703187|\n",
      "|   19:25|         66821|          6026-10|         -23.748356|-46.703650999999994|\n",
      "|   19:30|         66821|          6026-10|         -23.745385|        -46.7070845|\n",
      "|   19:35|         66821|          6026-10|-23.737052499999997|         -46.710246|\n",
      "|   19:40|         66821|          6026-10|         -23.725714|           -46.7125|\n",
      "|   19:45|         66821|          6026-10|      -23.718775875|      -46.700039625|\n",
      "|   19:50|         66821|          6026-10|       -23.71159725|         -46.699049|\n",
      "|   19:55|         66821|          6026-10|       -23.70267325| -46.69163974999999|\n",
      "|   20:00|         66821|          6026-10|-23.698183999999998|-46.684290250000004|\n",
      "|   20:05|         66821|          6026-10|-23.683918499999997|         -46.691867|\n",
      "|   20:15|         66821|          6026-10|       -23.66439125| -46.69100350000001|\n",
      "|   20:20|         66821|          6026-10|         -23.658659|          -46.69838|\n",
      "|   20:25|         66821|          6026-10|         -23.649486|         -46.702664|\n",
      "|   20:30|         66821|          6026-10|         -23.651622|-46.715934250000004|\n",
      "|   20:35|         66821|          6026-10|-23.654166500000002|         -46.711513|\n",
      "|   20:40|         66821|          6026-10|       -23.65397075|        -46.7077515|\n",
      "|   20:45|         66821|          6026-10|       -23.65648875|        -46.7011785|\n",
      "+--------+--------------+-----------------+-------------------+-------------------+\n",
      "only showing top 33 rows\n",
      "\n"
     ]
    },
    {
     "name": "stderr",
     "output_type": "stream",
     "text": [
      "                                                                                \r"
     ]
    }
   ],
   "source": [
    "dataframe_prefixo_onibus = dataframes_desagrupados_completo \\\n",
    "    .select(\n",
    "        dataframes_desagrupados_completo.HORA_API,\n",
    "        dataframes_desagrupados_completo.PREFIXO_ONIBUS,\n",
    "        dataframes_desagrupados_completo.LETREIRO_COMPLETO,\n",
    "        dataframes_desagrupados_completo.LATITUDE,\n",
    "        dataframes_desagrupados_completo.LONGITUDE,\n",
    "    ) \\\n",
    "    .filter(\n",
    "        (dataframes_desagrupados_completo.PREFIXO_ONIBUS == '66821') &\n",
    "        (dataframes_desagrupados_completo.TURNO == 'Noite') &\n",
    "        (dataframes_desagrupados_completo.DATA_EXTRACAO == '2023-09-18')\n",
    "    )\n",
    "\n",
    "\n",
    "\n",
    "dataframe_prefixo_onibus.show(33)"
   ]
  },
  {
   "cell_type": "code",
   "execution_count": 142,
   "metadata": {},
   "outputs": [
    {
     "name": "stderr",
     "output_type": "stream",
     "text": [
      "                                                                                \r"
     ]
    },
    {
     "name": "stdout",
     "output_type": "stream",
     "text": [
      "+--------+--------------+-----------------+-------------------+-------------------+-------------------+\n",
      "|HORA_API|PREFIXO_ONIBUS|LETREIRO_COMPLETO|           LATITUDE|          LONGITUDE|          DISTANCIA|\n",
      "+--------+--------------+-----------------+-------------------+-------------------+-------------------+\n",
      "|   18:00|         66821|          6026-10|-23.685382250000004|       -46.69115925|                0.0|\n",
      "|   18:05|         66821|          6026-10|        -23.7037105|         -46.686306|  2.097063785225343|\n",
      "|   18:10|         66821|          6026-10|-23.703379499999997|         -46.688385|0.21484791182168067|\n",
      "|   18:15|         66821|          6026-10|-23.708141750000003|        -46.7000405|  1.299465514754715|\n",
      "|   18:20|         66821|          6026-10|-23.717132999999997| -46.69933425000001|  1.002363514667756|\n",
      "|   18:25|         66821|          6026-10|        -23.7227975|        -46.7083715|  1.114960891347674|\n",
      "|   18:32|         66821|          6026-10|        -23.7329835|        -46.7143215|  1.284408287896768|\n",
      "|   18:35|         66821|          6026-10|       -23.73797275|        -46.7098225| 0.7193736727702817|\n",
      "|   18:40|         66821|          6026-10|        -23.7414215|        -46.7058345| 0.5584199772445099|\n",
      "|   18:45|         66821|          6026-10|       -23.74675975|       -46.70351925|  0.638652229839828|\n",
      "|   18:50|         66821|          6026-10|         -23.748841|         -46.703187|0.23388205297399808|\n",
      "|   18:55|         66821|          6026-10|         -23.748841|         -46.703187|                0.0|\n",
      "|   19:00|         66821|          6026-10|         -23.748841|         -46.703187|                0.0|\n",
      "|   19:05|         66821|          6026-10|         -23.748841|         -46.703187|                0.0|\n",
      "|   19:10|         66821|          6026-10|         -23.748841|         -46.703187|                0.0|\n",
      "|   19:15|         66821|          6026-10|         -23.748841|         -46.703187|                0.0|\n",
      "|   19:20|         66821|          6026-10|         -23.748841|         -46.703187|                0.0|\n",
      "|   19:25|         66821|          6026-10|         -23.748356|-46.703650999999994|0.07168432730574222|\n",
      "|   19:30|         66821|          6026-10|         -23.745385|        -46.7070845|   0.48089738730278|\n",
      "|   19:35|         66821|          6026-10|-23.737052499999997|         -46.710246| 0.9808219299276016|\n",
      "|   19:40|         66821|          6026-10|         -23.725714|           -46.7125| 1.2814906810687916|\n",
      "|   19:45|         66821|          6026-10|      -23.718775875|      -46.700039625| 1.4846495125363706|\n",
      "|   19:50|         66821|          6026-10|       -23.71159725|         -46.699049| 0.8045723765611323|\n",
      "|   19:55|         66821|          6026-10|       -23.70267325| -46.69163974999999| 1.2464770788300081|\n",
      "|   20:00|         66821|          6026-10|-23.698183999999998|-46.684290250000004| 0.8995210603031248|\n",
      "|   20:05|         66821|          6026-10|-23.683918499999997|         -46.691867| 1.7639154279017086|\n",
      "|   20:15|         66821|          6026-10|       -23.66439125| -46.69100350000001|  2.173111063397846|\n",
      "|   20:20|         66821|          6026-10|         -23.658659|          -46.69838| 0.9852352912251108|\n",
      "|   20:25|         66821|          6026-10|         -23.649486|         -46.702664| 1.1094017288313156|\n",
      "|   20:30|         66821|          6026-10|         -23.651622|-46.715934250000004|  1.372358096311353|\n",
      "|   20:35|         66821|          6026-10|-23.654166500000002|         -46.711513| 0.5318283392608114|\n",
      "|   20:40|         66821|          6026-10|       -23.65397075|        -46.7077515| 0.3837372427448695|\n",
      "|   20:45|         66821|          6026-10|       -23.65648875|        -46.7011785| 0.7256634655047162|\n",
      "+--------+--------------+-----------------+-------------------+-------------------+-------------------+\n",
      "only showing top 33 rows\n",
      "\n"
     ]
    },
    {
     "name": "stderr",
     "output_type": "stream",
     "text": [
      "[Stage 242:===============================================>       (13 + 2) / 15]\r"
     ]
    },
    {
     "name": "stdout",
     "output_type": "stream",
     "text": [
      "Soma das distâncias: 31.62 km\n"
     ]
    },
    {
     "name": "stderr",
     "output_type": "stream",
     "text": [
      "                                                                                \r"
     ]
    }
   ],
   "source": [
    "def haversine(lat1, lon1, lat2, lon2):\n",
    "\n",
    "    r = 6371.0\n",
    "\n",
    "    lat1 = math.radians(lat1)\n",
    "    lon1 = math.radians(lon1)\n",
    "    lat2 = math.radians(lat2)\n",
    "    lon2 = math.radians(lon2)\n",
    "\n",
    "    dlat = lat2 - lat1\n",
    "    dlon = lon2 - lon1\n",
    "\n",
    " \n",
    "    a = math.sin(dlat / 2)**2 + math.cos(lat1) * math.cos(lat2) * math.sin(dlon / 2)**2\n",
    "    c = 2 * math.atan2(math.sqrt(a), math.sqrt(1 - a))\n",
    "\n",
    "    distance = r * c\n",
    "\n",
    "    return distance\n",
    "\n",
    "@pandas_udf(DoubleType())\n",
    "def haversine_udf(lat, lon):\n",
    "    distances = []\n",
    "    for i in range(len(lat)):\n",
    "        \n",
    "        if i == 0:\n",
    "            distances.append(0.0)  \n",
    "        else:\n",
    "            distance = haversine(lat[i], lon[i], lat[i - 1], lon[i - 1])\n",
    "            distances.append(distance)\n",
    "    return pd.Series(distances)\n",
    "\n",
    "df= dataframe_prefixo_onibus.withColumn(\"DISTANCIA\", haversine_udf(dataframe_prefixo_onibus[\"LATITUDE\"], dataframe_prefixo_onibus[\"LONGITUDE\"]))\n",
    "\n",
    "\n",
    "df.show(33)\n",
    "\n",
    "\n",
    "soma_distancias = df.selectExpr(\"sum(DISTANCIA)\").collect()[0][0]\n",
    "print(f'Soma das distâncias: {soma_distancias:.2f} km')\n",
    "\n"
   ]
  }
 ],
 "metadata": {
  "kernelspec": {
   "display_name": "venv",
   "language": "python",
   "name": "python3"
  },
  "language_info": {
   "codemirror_mode": {
    "name": "ipython",
    "version": 3
   },
   "file_extension": ".py",
   "mimetype": "text/x-python",
   "name": "python",
   "nbconvert_exporter": "python",
   "pygments_lexer": "ipython3",
   "version": "3.10.12"
  },
  "orig_nbformat": 4
 },
 "nbformat": 4,
 "nbformat_minor": 2
}
