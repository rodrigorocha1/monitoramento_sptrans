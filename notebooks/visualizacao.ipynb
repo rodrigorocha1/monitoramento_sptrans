{
 "cells": [
  {
   "cell_type": "code",
   "execution_count": 60,
   "metadata": {},
   "outputs": [],
   "source": [
    "from pyspark.sql import SparkSession\n",
    "from pyspark.sql import functions as F\n",
    "import pyspark.sql.functions as f\n",
    "import pyspark.sql.types as t\n",
    "import os\n",
    "from functools import reduce\n",
    "from datetime import datetime, time\n",
    "from pyspark.sql import DataFrame\n",
    "from pyspark.sql import SparkSession\n",
    "from pyspark.sql.functions import lag\n",
    "from pyspark.sql.window import Window\n",
    "from pyspark.sql.functions import pandas_udf\n",
    "from pyspark.sql.types import DoubleType\n",
    "import pandas as pd\n",
    "import math\n"
   ]
  },
  {
   "cell_type": "code",
   "execution_count": 61,
   "metadata": {},
   "outputs": [],
   "source": [
    "spark = SparkSession.builder.master('local[*]') \\\n",
    "    .appName('Métricas') \\\n",
    "    .getOrCreate()"
   ]
  },
  {
   "cell_type": "markdown",
   "metadata": {},
   "source": [
    "<p>1 – Quantidade de ônibus em operação</p>"
   ]
  },
  {
   "cell_type": "code",
   "execution_count": 62,
   "metadata": {},
   "outputs": [],
   "source": [
    "directory_path = \"/home/rodrigo/projetos/monitoramento_sptrans/data/datalake/prata/operacao_agrupada\"\n",
    "file_list = os.listdir(directory_path)\n",
    "dataframes_agrupados = []\n",
    "for item in file_list:\n",
    "    if item.endswith('.parquet'):\n",
    "        caminho_completo = os.path.join(directory_path, item)\n",
    "\n",
    "        df = spark.read.parquet(caminho_completo)\n",
    "        dataframes_agrupados.append(df)\n",
    "\n"
   ]
  },
  {
   "cell_type": "code",
   "execution_count": 63,
   "metadata": {},
   "outputs": [
    {
     "data": {
      "text/plain": [
       "1083996"
      ]
     },
     "execution_count": 63,
     "metadata": {},
     "output_type": "execute_result"
    }
   ],
   "source": [
    "soma = 0\n",
    "for d in dataframes_agrupados:\n",
    "\n",
    "    soma += d.count()\n",
    "soma"
   ]
  },
  {
   "cell_type": "code",
   "execution_count": 64,
   "metadata": {},
   "outputs": [],
   "source": [
    "def union_all(dfs):\n",
    "    return reduce(DataFrame.unionAll, dfs)"
   ]
  },
  {
   "cell_type": "code",
   "execution_count": 65,
   "metadata": {},
   "outputs": [
    {
     "name": "stdout",
     "output_type": "stream",
     "text": [
      "+-------+-----------+--------------------+--------------------+--------+-------------+-----------------+--------------------+-----------------+--------------------+----------------------+-----------------+\n",
      "|  LINHA|CODIGO_AREA|            CONSOCIO|             EMPRESA|HORA_API|DATA_EXTRACAO|LETREIRO_COMPLETO|CODIGO_IDENTIFICADOR|  LETREIRO_ORIGEM|    LETREIRO_DESTINO|QTDE_VEICULOS_OPERACAO|DATA_EXTRACAO_API|\n",
      "+-------+-----------+--------------------+--------------------+--------+-------------+-----------------+--------------------+-----------------+--------------------+----------------------+-----------------+\n",
      "|3054-10|          4|PÊSSEGO TRANSPORT...|PÊSSEGO TRANSPORT...|   08:50|   2023-09-15|          3054-10|               33743|  HOSP. SAPOPEMBA|        JD. PALANQUE|                     6|       2023-09-15|\n",
      "|6026-10|          6|TRANSWOLFF TRANSP...|TRANSWOLFF TRANSP...|   08:50|   2023-09-15|          6026-10|                  87| TERM. STO. AMARO|          JD. ICARAÍ|                     5|       2023-09-15|\n",
      "|857A-10|          7|      CONSÓRCIO KBPX|KBPX ADMINISTRAÇÃ...|   08:50|   2023-09-15|          857A-10|               34693|  METRÔ STA. CRUZ|   TERM. CAMPO LIMPO|                     5|       2023-09-15|\n",
      "|6820-10|          7| CONSÓRCIO TRANSVIDA|VIAÇÃO CAMPO BELO...|   08:50|   2023-09-15|          6820-10|               32787|  TERM. CAPELINHA|       JD. DAS ROSAS|                     3|       2023-09-15|\n",
      "|4726-10|          5|MOVEBUSS Soluções...|MOVEBUSS Soluções...|   08:50|   2023-09-15|          4726-10|                1680|    METRÔ TATUAPÉ|               MOOCA|                     5|       2023-09-15|\n",
      "|8600-10|          1|CONSÓRCIO BANDEIR...|VIAÇÃO SANTA BRIG...|   08:50|   2023-09-15|          8600-10|                1432|LGO. DO PAISSANDÚ|      TERM. PIRITUBA|                     8|       2023-09-15|\n",
      "|5013-10|          6| A2 TRANSPORTES LTDA| A2 TRANSPORTES LTDA|   08:50|   2023-09-15|          5013-10|                1117|       STO. AMARO|            JD. LUSO|                    10|       2023-09-15|\n",
      "|2704-10|          3|TRANSUNIÃO TRANSP...|TRANSUNIÃO TRANSP...|   08:50|   2023-09-15|          2704-10|               33684|   METRÔ ITAQUERA|           JD. ROBRU|                     5|       2023-09-15|\n",
      "|5106-31|          6|MOBIBRASIL TRANSP...|MOBIBRASIL TRANSP...|   08:50|   2023-09-15|          5106-31|               34073|   METRÔ ANA ROSA|           JD. SELMA|                     2|       2023-09-15|\n",
      "|175T-10|          2|SAMBAIBA TRANSPOR...|SAMBAIBA TRANSPOR...|   08:50|   2023-09-15|          175T-10|               33391|  METRÔ JABAQUARA|       METRÔ SANTANA|                     8|       2023-09-15|\n",
      "|971R-42|          2|SAMBAIBA TRANSPOR...|SAMBAIBA TRANSPOR...|   08:50|   2023-09-15|          971R-42|               33384|    METRÔ SANTANA|          CDHU VOITH|                     3|       2023-09-15|\n",
      "|5034-10|          5|VIA SUDESTE TRANS...|VIA SUDESTE TRANS...|   08:50|   2023-09-15|          5034-10|               34431|     TERM. SACOMÃ|         VL. LIVIERO|                     5|       2023-09-15|\n",
      "|524M-10|          5|MOVEBUSS Soluções...|MOVEBUSS Soluções...|   08:50|   2023-09-15|          524M-10|               34399| SHOP. ARICANDUVA|MASCARENHAS DE MO...|                     8|       2023-09-15|\n",
      "|3029-10|          4|ALLIBUS TRANSPORT...|ALLIBUS TRANSPORT...|   08:50|   2023-09-15|          3029-10|               33734|    METRÔ TATUAPÉ|       JD. DAS ROSAS|                    12|       2023-09-15|\n",
      "|8100-10|          1|CONSÓRCIO BANDEIR...|VIAÇÃO SANTA BRIG...|   08:50|   2023-09-15|          8100-10|               34030|       TERM. LAPA|      TERM. PIRITUBA|                     5|       2023-09-15|\n",
      "|675K-10|          7|VIAÇÃO METRÓPOLE ...|VIAÇÃO METRÓPOLE ...|   08:50|   2023-09-15|          675K-10|               32966|  METRÔ STA. CRUZ|    TERM. JD. ÂNGELA|                    10|       2023-09-15|\n",
      "|857R-10|          8| CONSÓRCIO TRANSVIDA|TRANSPPASS TRANSP...|   08:50|   2023-09-15|          857R-10|               34660|        ACLIMAÇÃO|   TERM. CAMPO LIMPO|                     4|       2023-09-15|\n",
      "|746P-10|          8|AUTO VIAÇÃO TRANS...|AUTO VIAÇÃO TRANS...|   08:50|   2023-09-15|          746P-10|               33556|       STO. AMARO|        PARAISÓPOLIS|                     9|       2023-09-15|\n",
      "|148P-10|          2|SAMBAIBA TRANSPOR...|SAMBAIBA TRANSPOR...|   08:50|   2023-09-15|          148P-10|                 534|METRÔ BARRA FUNDA|        PEDRA BRANCA|                     7|       2023-09-15|\n",
      "|5110-10|          5|VIA SUDESTE TRANS...|VIA SUDESTE TRANS...|   08:50|   2023-09-15|          5110-10|                2209|    TERM. MERCADO|    TERM. SÃO MATEUS|                    13|       2023-09-15|\n",
      "+-------+-----------+--------------------+--------------------+--------+-------------+-----------------+--------------------+-----------------+--------------------+----------------------+-----------------+\n",
      "only showing top 20 rows\n",
      "\n"
     ]
    }
   ],
   "source": [
    "dataframes_agrupados_completo = union_all(dataframes_agrupados)\n",
    "dataframes_agrupados_completo.show()"
   ]
  },
  {
   "cell_type": "code",
   "execution_count": 66,
   "metadata": {},
   "outputs": [
    {
     "name": "stdout",
     "output_type": "stream",
     "text": [
      "root\n",
      " |-- LINHA: string (nullable = true)\n",
      " |-- CODIGO_AREA: string (nullable = true)\n",
      " |-- CONSOCIO: string (nullable = true)\n",
      " |-- EMPRESA: string (nullable = true)\n",
      " |-- HORA_API: string (nullable = true)\n",
      " |-- DATA_EXTRACAO: date (nullable = true)\n",
      " |-- LETREIRO_COMPLETO: string (nullable = true)\n",
      " |-- CODIGO_IDENTIFICADOR: long (nullable = true)\n",
      " |-- LETREIRO_ORIGEM: string (nullable = true)\n",
      " |-- LETREIRO_DESTINO: string (nullable = true)\n",
      " |-- QTDE_VEICULOS_OPERACAO: long (nullable = true)\n",
      " |-- DATA_EXTRACAO_API: date (nullable = true)\n",
      "\n"
     ]
    }
   ],
   "source": [
    "dataframes_agrupados_completo.printSchema()"
   ]
  },
  {
   "cell_type": "code",
   "execution_count": 67,
   "metadata": {},
   "outputs": [
    {
     "name": "stdout",
     "output_type": "stream",
     "text": [
      "+-------+-----------+--------------------+--------------------+--------+-------------+-----------------+--------------------+-----------------+--------------------+----------------------+\n",
      "|  LINHA|CODIGO_AREA|            CONSOCIO|             EMPRESA|HORA_API|DATA_EXTRACAO|LETREIRO_COMPLETO|CODIGO_IDENTIFICADOR|  LETREIRO_ORIGEM|    LETREIRO_DESTINO|QTDE_VEICULOS_OPERACAO|\n",
      "+-------+-----------+--------------------+--------------------+--------+-------------+-----------------+--------------------+-----------------+--------------------+----------------------+\n",
      "|3054-10|          4|PÊSSEGO TRANSPORT...|PÊSSEGO TRANSPORT...|   08:50|   2023-09-15|          3054-10|               33743|  HOSP. SAPOPEMBA|        JD. PALANQUE|                     6|\n",
      "|6026-10|          6|TRANSWOLFF TRANSP...|TRANSWOLFF TRANSP...|   08:50|   2023-09-15|          6026-10|                  87| TERM. STO. AMARO|          JD. ICARAÍ|                     5|\n",
      "|857A-10|          7|      CONSÓRCIO KBPX|KBPX ADMINISTRAÇÃ...|   08:50|   2023-09-15|          857A-10|               34693|  METRÔ STA. CRUZ|   TERM. CAMPO LIMPO|                     5|\n",
      "|6820-10|          7| CONSÓRCIO TRANSVIDA|VIAÇÃO CAMPO BELO...|   08:50|   2023-09-15|          6820-10|               32787|  TERM. CAPELINHA|       JD. DAS ROSAS|                     3|\n",
      "|4726-10|          5|MOVEBUSS Soluções...|MOVEBUSS Soluções...|   08:50|   2023-09-15|          4726-10|                1680|    METRÔ TATUAPÉ|               MOOCA|                     5|\n",
      "|8600-10|          1|CONSÓRCIO BANDEIR...|VIAÇÃO SANTA BRIG...|   08:50|   2023-09-15|          8600-10|                1432|LGO. DO PAISSANDÚ|      TERM. PIRITUBA|                     8|\n",
      "|5013-10|          6| A2 TRANSPORTES LTDA| A2 TRANSPORTES LTDA|   08:50|   2023-09-15|          5013-10|                1117|       STO. AMARO|            JD. LUSO|                    10|\n",
      "|2704-10|          3|TRANSUNIÃO TRANSP...|TRANSUNIÃO TRANSP...|   08:50|   2023-09-15|          2704-10|               33684|   METRÔ ITAQUERA|           JD. ROBRU|                     5|\n",
      "|5106-31|          6|MOBIBRASIL TRANSP...|MOBIBRASIL TRANSP...|   08:50|   2023-09-15|          5106-31|               34073|   METRÔ ANA ROSA|           JD. SELMA|                     2|\n",
      "|175T-10|          2|SAMBAIBA TRANSPOR...|SAMBAIBA TRANSPOR...|   08:50|   2023-09-15|          175T-10|               33391|  METRÔ JABAQUARA|       METRÔ SANTANA|                     8|\n",
      "|971R-42|          2|SAMBAIBA TRANSPOR...|SAMBAIBA TRANSPOR...|   08:50|   2023-09-15|          971R-42|               33384|    METRÔ SANTANA|          CDHU VOITH|                     3|\n",
      "|5034-10|          5|VIA SUDESTE TRANS...|VIA SUDESTE TRANS...|   08:50|   2023-09-15|          5034-10|               34431|     TERM. SACOMÃ|         VL. LIVIERO|                     5|\n",
      "|524M-10|          5|MOVEBUSS Soluções...|MOVEBUSS Soluções...|   08:50|   2023-09-15|          524M-10|               34399| SHOP. ARICANDUVA|MASCARENHAS DE MO...|                     8|\n",
      "|3029-10|          4|ALLIBUS TRANSPORT...|ALLIBUS TRANSPORT...|   08:50|   2023-09-15|          3029-10|               33734|    METRÔ TATUAPÉ|       JD. DAS ROSAS|                    12|\n",
      "|8100-10|          1|CONSÓRCIO BANDEIR...|VIAÇÃO SANTA BRIG...|   08:50|   2023-09-15|          8100-10|               34030|       TERM. LAPA|      TERM. PIRITUBA|                     5|\n",
      "|675K-10|          7|VIAÇÃO METRÓPOLE ...|VIAÇÃO METRÓPOLE ...|   08:50|   2023-09-15|          675K-10|               32966|  METRÔ STA. CRUZ|    TERM. JD. ÂNGELA|                    10|\n",
      "|857R-10|          8| CONSÓRCIO TRANSVIDA|TRANSPPASS TRANSP...|   08:50|   2023-09-15|          857R-10|               34660|        ACLIMAÇÃO|   TERM. CAMPO LIMPO|                     4|\n",
      "|746P-10|          8|AUTO VIAÇÃO TRANS...|AUTO VIAÇÃO TRANS...|   08:50|   2023-09-15|          746P-10|               33556|       STO. AMARO|        PARAISÓPOLIS|                     9|\n",
      "|148P-10|          2|SAMBAIBA TRANSPOR...|SAMBAIBA TRANSPOR...|   08:50|   2023-09-15|          148P-10|                 534|METRÔ BARRA FUNDA|        PEDRA BRANCA|                     7|\n",
      "|5110-10|          5|VIA SUDESTE TRANS...|VIA SUDESTE TRANS...|   08:50|   2023-09-15|          5110-10|                2209|    TERM. MERCADO|    TERM. SÃO MATEUS|                    13|\n",
      "+-------+-----------+--------------------+--------------------+--------+-------------+-----------------+--------------------+-----------------+--------------------+----------------------+\n",
      "only showing top 20 rows\n",
      "\n"
     ]
    }
   ],
   "source": [
    "dataframes_agrupados_completo = dataframes_agrupados_completo.drop('DATA_EXTRACAO_API')\n",
    "dataframes_agrupados_completo.show()"
   ]
  },
  {
   "cell_type": "code",
   "execution_count": 68,
   "metadata": {},
   "outputs": [
    {
     "name": "stdout",
     "output_type": "stream",
     "text": [
      "root\n",
      " |-- LINHA: string (nullable = true)\n",
      " |-- CODIGO_AREA: string (nullable = true)\n",
      " |-- CONSOCIO: string (nullable = true)\n",
      " |-- EMPRESA: string (nullable = true)\n",
      " |-- HORA_API: string (nullable = true)\n",
      " |-- DATA_EXTRACAO: date (nullable = true)\n",
      " |-- LETREIRO_COMPLETO: string (nullable = true)\n",
      " |-- CODIGO_IDENTIFICADOR: long (nullable = true)\n",
      " |-- LETREIRO_ORIGEM: string (nullable = true)\n",
      " |-- LETREIRO_DESTINO: string (nullable = true)\n",
      " |-- QTDE_VEICULOS_OPERACAO: long (nullable = true)\n",
      "\n"
     ]
    }
   ],
   "source": [
    "dataframes_agrupados_completo.printSchema()"
   ]
  },
  {
   "cell_type": "code",
   "execution_count": 69,
   "metadata": {},
   "outputs": [],
   "source": [
    "@f.udf(returnType=t.StringType())\n",
    "def turno(hora: str):\n",
    "    hora_formatada = datetime.strptime(hora, '%H:%M').time()\n",
    "    if 0 <= hora_formatada.hour < 6:\n",
    "        return 'Madrugada'\n",
    "    elif 6 <= hora_formatada.hour < 12:\n",
    "        return 'Manhã'\n",
    "    elif 12 <= hora_formatada.hour < 18:\n",
    "        return 'Tarde'\n",
    "    else:\n",
    "        return 'Noite'\n",
    "        "
   ]
  },
  {
   "cell_type": "code",
   "execution_count": 70,
   "metadata": {},
   "outputs": [
    {
     "data": {
      "text/plain": [
       "Column<'turno(23:55)'>"
      ]
     },
     "execution_count": 70,
     "metadata": {},
     "output_type": "execute_result"
    }
   ],
   "source": [
    "turno('23:55')"
   ]
  },
  {
   "cell_type": "code",
   "execution_count": 71,
   "metadata": {},
   "outputs": [
    {
     "name": "stderr",
     "output_type": "stream",
     "text": [
      "[Stage 18:>                                                         (0 + 1) / 1]\r"
     ]
    },
    {
     "name": "stdout",
     "output_type": "stream",
     "text": [
      "+-----------------------+-----+-------------+---------------+----------------+--------+-----------------+----------------------+--------------------+\n",
      "|CONSOCIO               |TURNO|DATA_EXTRACAO|LETREIRO_ORIGEM|LETREIRO_DESTINO|HORA_API|LETREIRO_COMPLETO|QTDE_VEICULOS_OPERACAO|CODIGO_IDENTIFICADOR|\n",
      "+-----------------------+-----+-------------+---------------+----------------+--------+-----------------+----------------------+--------------------+\n",
      "|CONSÓRCIO TRANSNOROESTE|Noite|2023-09-15   |LAPA           |JD. PAULISTANO  |18:00   |9047-10          |9                     |33651               |\n",
      "|CONSÓRCIO TRANSNOROESTE|Noite|2023-09-15   |LAPA           |JD. PAULISTANO  |18:00   |9047-10          |5                     |883                 |\n",
      "|CONSÓRCIO TRANSNOROESTE|Noite|2023-09-15   |LAPA           |JD. PAULISTANO  |18:05   |9047-10          |7                     |33651               |\n",
      "|CONSÓRCIO TRANSNOROESTE|Noite|2023-09-15   |LAPA           |JD. PAULISTANO  |18:05   |9047-10          |6                     |883                 |\n",
      "|CONSÓRCIO TRANSNOROESTE|Noite|2023-09-15   |LAPA           |JD. PAULISTANO  |18:10   |9047-10          |10                    |33651               |\n",
      "|CONSÓRCIO TRANSNOROESTE|Noite|2023-09-15   |LAPA           |JD. PAULISTANO  |18:10   |9047-10          |5                     |883                 |\n",
      "|CONSÓRCIO TRANSNOROESTE|Noite|2023-09-15   |LAPA           |JD. PAULISTANO  |18:15   |9047-10          |9                     |33651               |\n",
      "|CONSÓRCIO TRANSNOROESTE|Noite|2023-09-15   |LAPA           |JD. PAULISTANO  |18:15   |9047-10          |5                     |883                 |\n",
      "|CONSÓRCIO TRANSNOROESTE|Noite|2023-09-15   |LAPA           |JD. PAULISTANO  |18:20   |9047-10          |5                     |883                 |\n",
      "|CONSÓRCIO TRANSNOROESTE|Noite|2023-09-15   |LAPA           |JD. PAULISTANO  |18:20   |9047-10          |10                    |33651               |\n",
      "|CONSÓRCIO TRANSNOROESTE|Noite|2023-09-15   |LAPA           |JD. PAULISTANO  |18:25   |9047-10          |4                     |883                 |\n",
      "|CONSÓRCIO TRANSNOROESTE|Noite|2023-09-15   |LAPA           |JD. PAULISTANO  |18:25   |9047-10          |12                    |33651               |\n",
      "|CONSÓRCIO TRANSNOROESTE|Noite|2023-09-15   |LAPA           |JD. PAULISTANO  |18:30   |9047-10          |5                     |883                 |\n",
      "|CONSÓRCIO TRANSNOROESTE|Noite|2023-09-15   |LAPA           |JD. PAULISTANO  |18:30   |9047-10          |10                    |33651               |\n",
      "|CONSÓRCIO TRANSNOROESTE|Noite|2023-09-15   |LAPA           |JD. PAULISTANO  |18:35   |9047-10          |8                     |33651               |\n",
      "|CONSÓRCIO TRANSNOROESTE|Noite|2023-09-15   |LAPA           |JD. PAULISTANO  |18:35   |9047-10          |5                     |883                 |\n",
      "|CONSÓRCIO TRANSNOROESTE|Noite|2023-09-15   |LAPA           |JD. PAULISTANO  |18:40   |9047-10          |5                     |883                 |\n",
      "|CONSÓRCIO TRANSNOROESTE|Noite|2023-09-15   |LAPA           |JD. PAULISTANO  |18:40   |9047-10          |9                     |33651               |\n",
      "|CONSÓRCIO TRANSNOROESTE|Noite|2023-09-15   |LAPA           |JD. PAULISTANO  |18:45   |9047-10          |7                     |883                 |\n",
      "|CONSÓRCIO TRANSNOROESTE|Noite|2023-09-15   |LAPA           |JD. PAULISTANO  |18:45   |9047-10          |7                     |33651               |\n",
      "+-----------------------+-----+-------------+---------------+----------------+--------+-----------------+----------------------+--------------------+\n",
      "only showing top 20 rows\n",
      "\n"
     ]
    },
    {
     "name": "stderr",
     "output_type": "stream",
     "text": [
      "                                                                                \r"
     ]
    }
   ],
   "source": [
    "dataframes_agrupados_completo = dataframes_agrupados_completo.withColumn('TURNO', turno(f.col('HORA_API'))) \n",
    "\n",
    "df_filter = dataframes_agrupados_completo.select(\n",
    "    dataframes_agrupados_completo.CONSOCIO,\n",
    "    dataframes_agrupados_completo.TURNO,\n",
    "    dataframes_agrupados_completo.DATA_EXTRACAO ,\n",
    "    dataframes_agrupados_completo.LETREIRO_ORIGEM,\n",
    "    dataframes_agrupados_completo.LETREIRO_DESTINO,\n",
    "    dataframes_agrupados_completo.HORA_API,\n",
    "    dataframes_agrupados_completo.LETREIRO_COMPLETO,\n",
    "    dataframes_agrupados_completo.QTDE_VEICULOS_OPERACAO,\n",
    "    dataframes_agrupados_completo.CODIGO_IDENTIFICADOR,\n",
    "    ).filter(\n",
    "        (dataframes_agrupados_completo.DATA_EXTRACAO == '2023-09-15' ) & \n",
    "        (dataframes_agrupados_completo.TURNO == 'Noite') &\n",
    "        (dataframes_agrupados_completo.LETREIRO_COMPLETO == '9047-10')\n",
    "        )\n",
    "df_filter.show(truncate=False)"
   ]
  },
  {
   "cell_type": "code",
   "execution_count": 72,
   "metadata": {},
   "outputs": [
    {
     "name": "stdout",
     "output_type": "stream",
     "text": [
      "+-----------------------+-----------------+---------------+----------------+--------+-----+----------------------------+\n",
      "|CONSOCIO               |LETREIRO_COMPLETO|LETREIRO_ORIGEM|LETREIRO_DESTINO|HORA_API|TURNO|QUANTIDADE_VEICULOS_OPERACAO|\n",
      "+-----------------------+-----------------+---------------+----------------+--------+-----+----------------------------+\n",
      "|CONSÓRCIO TRANSNOROESTE|9047-10          |LAPA           |JD. PAULISTANO  |18:00   |Noite|14                          |\n",
      "|CONSÓRCIO TRANSNOROESTE|9047-10          |LAPA           |JD. PAULISTANO  |18:05   |Noite|13                          |\n",
      "|CONSÓRCIO TRANSNOROESTE|9047-10          |LAPA           |JD. PAULISTANO  |18:10   |Noite|15                          |\n",
      "|CONSÓRCIO TRANSNOROESTE|9047-10          |LAPA           |JD. PAULISTANO  |18:15   |Noite|14                          |\n",
      "|CONSÓRCIO TRANSNOROESTE|9047-10          |LAPA           |JD. PAULISTANO  |18:20   |Noite|15                          |\n",
      "|CONSÓRCIO TRANSNOROESTE|9047-10          |LAPA           |JD. PAULISTANO  |18:25   |Noite|16                          |\n",
      "|CONSÓRCIO TRANSNOROESTE|9047-10          |LAPA           |JD. PAULISTANO  |18:30   |Noite|15                          |\n",
      "|CONSÓRCIO TRANSNOROESTE|9047-10          |LAPA           |JD. PAULISTANO  |18:35   |Noite|13                          |\n",
      "|CONSÓRCIO TRANSNOROESTE|9047-10          |LAPA           |JD. PAULISTANO  |18:40   |Noite|14                          |\n",
      "|CONSÓRCIO TRANSNOROESTE|9047-10          |LAPA           |JD. PAULISTANO  |18:45   |Noite|14                          |\n",
      "|CONSÓRCIO TRANSNOROESTE|9047-10          |LAPA           |JD. PAULISTANO  |18:50   |Noite|14                          |\n",
      "|CONSÓRCIO TRANSNOROESTE|9047-10          |LAPA           |JD. PAULISTANO  |18:55   |Noite|14                          |\n",
      "|CONSÓRCIO TRANSNOROESTE|9047-10          |LAPA           |JD. PAULISTANO  |19:00   |Noite|14                          |\n",
      "|CONSÓRCIO TRANSNOROESTE|9047-10          |LAPA           |JD. PAULISTANO  |19:05   |Noite|12                          |\n",
      "|CONSÓRCIO TRANSNOROESTE|9047-10          |LAPA           |JD. PAULISTANO  |19:10   |Noite|14                          |\n",
      "|CONSÓRCIO TRANSNOROESTE|9047-10          |LAPA           |JD. PAULISTANO  |19:15   |Noite|14                          |\n",
      "|CONSÓRCIO TRANSNOROESTE|9047-10          |LAPA           |JD. PAULISTANO  |19:20   |Noite|11                          |\n",
      "|CONSÓRCIO TRANSNOROESTE|9047-10          |LAPA           |JD. PAULISTANO  |19:25   |Noite|12                          |\n",
      "|CONSÓRCIO TRANSNOROESTE|9047-10          |LAPA           |JD. PAULISTANO  |19:30   |Noite|12                          |\n",
      "|CONSÓRCIO TRANSNOROESTE|9047-10          |LAPA           |JD. PAULISTANO  |19:35   |Noite|12                          |\n",
      "+-----------------------+-----------------+---------------+----------------+--------+-----+----------------------------+\n",
      "only showing top 20 rows\n",
      "\n"
     ]
    }
   ],
   "source": [
    "df_filter.groupBy(['CONSOCIO', 'LETREIRO_COMPLETO',  'LETREIRO_ORIGEM', 'LETREIRO_DESTINO','HORA_API', 'TURNO']) \\\n",
    "    .agg(\n",
    "        F.sum('QTDE_VEICULOS_OPERACAO') \\\n",
    "         .alias('QUANTIDADE_VEICULOS_OPERACAO')\n",
    "    ) \\\n",
    "    .orderBy('HORA_API')\\\n",
    "    .show(truncate=False)"
   ]
  },
  {
   "cell_type": "code",
   "execution_count": 73,
   "metadata": {},
   "outputs": [],
   "source": [
    "directory_path = \"/home/rodrigo/projetos/monitoramento_sptrans/data/datalake/prata/operacao_desagrupada\"\n",
    "file_list = os.listdir(directory_path)\n",
    "dataframes_desagrupados = []\n",
    "for item in file_list:\n",
    "    if item.endswith('.parquet'):\n",
    "        caminho_completo = os.path.join(directory_path, item)\n",
    "\n",
    "        df = spark.read.parquet(caminho_completo)\n",
    "        dataframes_desagrupados.append(df)\n",
    "\n"
   ]
  },
  {
   "cell_type": "code",
   "execution_count": 74,
   "metadata": {},
   "outputs": [
    {
     "name": "stderr",
     "output_type": "stream",
     "text": [
      "[Stage 27:===========================================>              (3 + 1) / 4]\r"
     ]
    },
    {
     "name": "stdout",
     "output_type": "stream",
     "text": [
      "+-----------+-------------------------------------------+-------------------------------------------+-------------+--------+-----------------+----------------+--------------------------+--------------+-----------------------------+-------------------+-------------------+-----------------+-----+\n",
      "|CODIGO_AREA|CONSOCIO                                   |EMPRESA                                    |DATA_EXTRACAO|HORA_API|LETREIRO_COMPLETO|SENTIDO_OPERACAO|CODIGO_IDENTIFICADOR_LINHA|PREFIXO_ONIBUS|DATA_HORA_CAPTURA_LOCALIZACAO|LATITUDE           |LONGITUDE          |DATA_EXTRACAO_API|TURNO|\n",
      "+-----------+-------------------------------------------+-------------------------------------------+-------------+--------+-----------------+----------------+--------------------------+--------------+-----------------------------+-------------------+-------------------+-----------------+-----+\n",
      "|4          |PÊSSEGO TRANSPORTES LTDA                   |PÊSSEGO TRANSPORTES LTDA                   |2023-09-15   |08:50   |3054-10          |2               |33743                     |47399         |2023-09-15T11:50:12Z         |-23.598638         |-46.416157         |2023-09-15       |Manhã|\n",
      "|4          |PÊSSEGO TRANSPORTES LTDA                   |PÊSSEGO TRANSPORTES LTDA                   |2023-09-15   |08:50   |3054-10          |2               |33743                     |47606         |2023-09-15T11:50:02Z         |-23.61249          |-46.4756075        |2023-09-15       |Manhã|\n",
      "|4          |PÊSSEGO TRANSPORTES LTDA                   |PÊSSEGO TRANSPORTES LTDA                   |2023-09-15   |08:50   |3054-10          |2               |33743                     |47212         |2023-09-15T11:50:04Z         |-23.609623         |-46.4081455        |2023-09-15       |Manhã|\n",
      "|4          |PÊSSEGO TRANSPORTES LTDA                   |PÊSSEGO TRANSPORTES LTDA                   |2023-09-15   |08:50   |3054-10          |2               |33743                     |47101         |2023-09-15T11:49:49Z         |-23.609623         |-46.4081455        |2023-09-15       |Manhã|\n",
      "|4          |PÊSSEGO TRANSPORTES LTDA                   |PÊSSEGO TRANSPORTES LTDA                   |2023-09-15   |08:50   |3054-10          |2               |33743                     |47262         |2023-09-15T11:50:11Z         |-23.600084         |-46.4220605        |2023-09-15       |Manhã|\n",
      "|4          |PÊSSEGO TRANSPORTES LTDA                   |PÊSSEGO TRANSPORTES LTDA                   |2023-09-15   |08:50   |3054-10          |2               |33743                     |47809         |2023-09-15T11:49:32Z         |-23.6112465        |-46.493599         |2023-09-15       |Manhã|\n",
      "|6          |TRANSWOLFF TRANSPORTES E TURISMO LTDA      |TRANSWOLFF TRANSPORTES E TURISMO LTDA      |2023-09-15   |08:50   |6026-10          |1               |87                        |66297         |2023-09-15T11:49:50Z         |-23.661856999999998|-46.693272500000006|2023-09-15       |Manhã|\n",
      "|6          |TRANSWOLFF TRANSPORTES E TURISMO LTDA      |TRANSWOLFF TRANSPORTES E TURISMO LTDA      |2023-09-15   |08:50   |6026-10          |1               |87                        |66185         |2023-09-15T11:49:56Z         |-23.7093575        |-46.699754999999996|2023-09-15       |Manhã|\n",
      "|6          |TRANSWOLFF TRANSPORTES E TURISMO LTDA      |TRANSWOLFF TRANSPORTES E TURISMO LTDA      |2023-09-15   |08:50   |6026-10          |1               |87                        |66821         |2023-09-15T11:49:38Z         |-23.651654         |-46.7119825        |2023-09-15       |Manhã|\n",
      "|6          |TRANSWOLFF TRANSPORTES E TURISMO LTDA      |TRANSWOLFF TRANSPORTES E TURISMO LTDA      |2023-09-15   |08:50   |6026-10          |1               |87                        |66213         |2023-09-15T11:49:45Z         |-23.748356         |-46.703650999999994|2023-09-15       |Manhã|\n",
      "|6          |TRANSWOLFF TRANSPORTES E TURISMO LTDA      |TRANSWOLFF TRANSPORTES E TURISMO LTDA      |2023-09-15   |08:50   |6026-10          |1               |87                        |66303         |2023-09-15T11:49:36Z         |-23.681303749999998|-46.694077750000005|2023-09-15       |Manhã|\n",
      "|7          |CONSÓRCIO KBPX                             |KBPX ADMINISTRAÇÃO E PARTICIPAÇÃO LTDA     |2023-09-15   |08:50   |857A-10          |2               |34693                     |77410         |2023-09-15T11:50:13Z         |-23.5861895        |-46.7233995        |2023-09-15       |Manhã|\n",
      "|7          |CONSÓRCIO KBPX                             |KBPX ADMINISTRAÇÃO E PARTICIPAÇÃO LTDA     |2023-09-15   |08:50   |857A-10          |2               |34693                     |77864         |2023-09-15T11:49:56Z         |-23.596510374999998|-46.739776500000005|2023-09-15       |Manhã|\n",
      "|7          |CONSÓRCIO KBPX                             |KBPX ADMINISTRAÇÃO E PARTICIPAÇÃO LTDA     |2023-09-15   |08:50   |857A-10          |2               |34693                     |77601         |2023-09-15T11:49:34Z         |-23.5850205        |-46.68194475       |2023-09-15       |Manhã|\n",
      "|7          |CONSÓRCIO KBPX                             |KBPX ADMINISTRAÇÃO E PARTICIPAÇÃO LTDA     |2023-09-15   |08:50   |857A-10          |2               |34693                     |77604         |2023-09-15T11:50:11Z         |-23.631218         |-46.773197499999995|2023-09-15       |Manhã|\n",
      "|7          |CONSÓRCIO KBPX                             |KBPX ADMINISTRAÇÃO E PARTICIPAÇÃO LTDA     |2023-09-15   |08:50   |857A-10          |2               |34693                     |77862         |2023-09-15T11:49:50Z         |-23.580710500000002|-46.664289499999995|2023-09-15       |Manhã|\n",
      "|7          |CONSÓRCIO TRANSVIDA                        |VIAÇÃO CAMPO BELO LTDA.                    |2023-09-15   |08:50   |6820-10          |2               |32787                     |72920         |2023-09-15T11:49:58Z         |-23.665846000000002|-46.788559         |2023-09-15       |Manhã|\n",
      "|7          |CONSÓRCIO TRANSVIDA                        |VIAÇÃO CAMPO BELO LTDA.                    |2023-09-15   |08:50   |6820-10          |2               |32787                     |72928         |2023-09-15T11:50:10Z         |-23.658020999999998|-46.7897125        |2023-09-15       |Manhã|\n",
      "|7          |CONSÓRCIO TRANSVIDA                        |VIAÇÃO CAMPO BELO LTDA.                    |2023-09-15   |08:50   |6820-10          |2               |32787                     |72808         |2023-09-15T11:50:03Z         |-23.654844500000003|-46.76161          |2023-09-15       |Manhã|\n",
      "|5          |MOVEBUSS Soluções em Mobilidade Urbana Ltda|MOVEBUSS Soluções em Mobilidade Urbana Ltda|2023-09-15   |08:50   |4726-10          |1               |1680                      |55393         |2023-09-15T11:50:05Z         |-23.5592635        |-46.585043         |2023-09-15       |Manhã|\n",
      "+-----------+-------------------------------------------+-------------------------------------------+-------------+--------+-----------------+----------------+--------------------------+--------------+-----------------------------+-------------------+-------------------+-----------------+-----+\n",
      "only showing top 20 rows\n",
      "\n"
     ]
    },
    {
     "name": "stderr",
     "output_type": "stream",
     "text": [
      "                                                                                \r"
     ]
    }
   ],
   "source": [
    "dataframes_desagrupados_completo = union_all(dataframes_desagrupados)\n",
    "dataframes_desagrupados_completo = dataframes_desagrupados_completo.drop('LINHA')\n",
    "dataframes_desagrupados_completo = dataframes_desagrupados_completo.withColumn('TURNO', turno(f.col('HORA_API')))\n",
    "dataframes_desagrupados_completo.show(truncate=False)"
   ]
  },
  {
   "cell_type": "code",
   "execution_count": 79,
   "metadata": {},
   "outputs": [
    {
     "name": "stderr",
     "output_type": "stream",
     "text": [
      "[Stage 46:===========================================>              (3 + 1) / 4]\r"
     ]
    },
    {
     "name": "stdout",
     "output_type": "stream",
     "text": [
      "+-------------------+-------------------+\n",
      "|           LATITUDE|          LONGITUDE|\n",
      "+-------------------+-------------------+\n",
      "|         -23.598638|         -46.416157|\n",
      "|         -23.609925|         -46.407969|\n",
      "|         -23.609623|        -46.4081455|\n",
      "|         -23.609623|        -46.4081455|\n",
      "|         -23.609623|        -46.4081455|\n",
      "|         -23.609623|        -46.4081455|\n",
      "|         -23.609623|        -46.4081455|\n",
      "|         -23.609623|        -46.4081455|\n",
      "|         -23.609623|        -46.4081455|\n",
      "|        -23.5991505|-46.415709500000006|\n",
      "|       -23.59419625|       -46.42337975|\n",
      "|         -23.600084|        -46.4220605|\n",
      "|-23.595737999999997|         -46.423317|\n",
      "|         -23.607842|-46.478333500000005|\n",
      "|-23.599889750000003|-46.484817250000006|\n",
      "|         -23.592762|        -46.4877805|\n",
      "|-23.600738999999997|-46.495580000000004|\n",
      "|       -23.61005975|       -46.49281925|\n",
      "|       -23.61071875|       -46.49325225|\n",
      "|       -23.61071875|       -46.49325225|\n",
      "+-------------------+-------------------+\n",
      "only showing top 20 rows\n",
      "\n"
     ]
    },
    {
     "name": "stderr",
     "output_type": "stream",
     "text": [
      "                                                                                \r"
     ]
    }
   ],
   "source": [
    "dataframe_prefixo_onibus = dataframes_desagrupados_completo \\\n",
    "    .select(\n",
    "        dataframes_desagrupados_completo.LATITUDE,\n",
    "        dataframes_desagrupados_completo.LONGITUDE,\n",
    "    ) \\\n",
    "    .filter(\n",
    "        (dataframes_desagrupados_completo.PREFIXO_ONIBUS == '47399') &\n",
    "        (dataframes_desagrupados_completo.TURNO == 'Manhã') &\n",
    "        (dataframes_desagrupados_completo.DATA_EXTRACAO == '2023-09-15')\n",
    "    )\n",
    "\n",
    "\n",
    "\n",
    "dataframe_prefixo_onibus.show()"
   ]
  },
  {
   "cell_type": "code",
   "execution_count": 87,
   "metadata": {},
   "outputs": [
    {
     "name": "stderr",
     "output_type": "stream",
     "text": [
      "                                                                                \r"
     ]
    },
    {
     "name": "stdout",
     "output_type": "stream",
     "text": [
      "+-------------------+-------------------+--------+--------------------+\n",
      "|           LATITUDE|          LONGITUDE|DISTANCE|           DISTANCIA|\n",
      "+-------------------+-------------------+--------+--------------------+\n",
      "|         -23.598638|         -46.416157|       0|                 0.0|\n",
      "|         -23.609925|         -46.407969|       0|  1.5070517678935427|\n",
      "|         -23.609623|        -46.4081455|       0|0.038092870953506906|\n",
      "|         -23.609623|        -46.4081455|       0|                 0.0|\n",
      "|         -23.609623|        -46.4081455|       0|                 0.0|\n",
      "|         -23.609623|        -46.4081455|       0|                 0.0|\n",
      "|         -23.609623|        -46.4081455|       0|                 0.0|\n",
      "|         -23.609623|        -46.4081455|       0|                 0.0|\n",
      "|         -23.609623|        -46.4081455|       0|                 0.0|\n",
      "|        -23.5991505|-46.415709500000006|       0|  1.3964325322674538|\n",
      "|       -23.59419625|       -46.42337975|       0|  0.9562127650841488|\n",
      "|         -23.600084|        -46.4220605|       0|   0.668346547486132|\n",
      "|-23.595737999999997|         -46.423317|       0| 0.49992604258007045|\n",
      "|         -23.607842|-46.478333500000005|       0|   5.765129013175142|\n",
      "|-23.599889750000003|-46.484817250000006|       0|  1.1037866592222256|\n",
      "|         -23.592762|        -46.4877805|       0|  0.8481388545560508|\n",
      "|-23.600738999999997|-46.495580000000004|       0|   1.190965225594127|\n",
      "|       -23.61005975|       -46.49281925|       0|  1.0739149741260765|\n",
      "|       -23.61071875|       -46.49325225|       0| 0.08553300213153713|\n",
      "|       -23.61071875|       -46.49325225|       0|                 0.0|\n",
      "+-------------------+-------------------+--------+--------------------+\n",
      "only showing top 20 rows\n",
      "\n"
     ]
    },
    {
     "name": "stderr",
     "output_type": "stream",
     "text": [
      "[Stage 57:====================================================>   (14 + 1) / 15]\r"
     ]
    },
    {
     "name": "stdout",
     "output_type": "stream",
     "text": [
      "Soma das distâncias: 20.22 km\n"
     ]
    },
    {
     "name": "stderr",
     "output_type": "stream",
     "text": [
      "                                                                                \r"
     ]
    }
   ],
   "source": [
    "\n",
    "\n",
    "\n",
    "# Função para calcular a distância de Haversine\n",
    "def haversine(lat1, lon1, lat2, lon2):\n",
    "    # Raio da Terra em quilômetros\n",
    "    r = 6371.0\n",
    "\n",
    "    # Converter graus em radianos\n",
    "    lat1 = math.radians(lat1)\n",
    "    lon1 = math.radians(lon1)\n",
    "    lat2 = math.radians(lat2)\n",
    "    lon2 = math.radians(lon2)\n",
    "\n",
    "    # Diferença de latitude e longitude\n",
    "    dlat = lat2 - lat1\n",
    "    dlon = lon2 - lon1\n",
    "\n",
    "    # Fórmula de Haversine\n",
    "    a = math.sin(dlat / 2)**2 + math.cos(lat1) * math.cos(lat2) * math.sin(dlon / 2)**2\n",
    "    c = 2 * math.atan2(math.sqrt(a), math.sqrt(1 - a))\n",
    "\n",
    "    # Distância em quilômetros\n",
    "    distance = r * c\n",
    "\n",
    "    return distance\n",
    "\n",
    "# Função para calcular a distância de Haversine usando pandas_udf\n",
    "@pandas_udf(DoubleType())\n",
    "def haversine_udf(lat, lon):\n",
    "    distances = []\n",
    "    for i in range(len(lat)):\n",
    "        if i == 0:\n",
    "            distances.append(0.0)  # Distância zero para o primeiro ponto\n",
    "        else:\n",
    "            distance = haversine(lat[i], lon[i], lat[i - 1], lon[i - 1])\n",
    "            distances.append(distance)\n",
    "    return pd.Series(distances)\n",
    "\n",
    "# Adicionar coluna de distâncias ao DataFrame usando a função haversine_udf\n",
    "df= dataframe_prefixo_onibus.withColumn(\"DISTANCIA\", haversine_udf(dataframe_prefixo_onibus[\"LATITUDE\"], dataframe_prefixo_onibus[\"LONGITUDE\"]))\n",
    "\n",
    "# Mostrar o DataFrame resultante\n",
    "df.show()\n",
    "\n",
    "# Somar as distâncias\n",
    "soma_distancias = df.selectExpr(\"sum(DISTANCIA)\").collect()[0][0]\n",
    "print(f'Soma das distâncias: {soma_distancias:.2f} km')\n",
    "\n",
    "# Encerrar a sessão Spark\n"
   ]
  },
  {
   "cell_type": "code",
   "execution_count": 82,
   "metadata": {},
   "outputs": [],
   "source": [
    "from pyspark.sql.functions import col, lit, radians, sin, cos, sqrt, asin,when"
   ]
  },
  {
   "cell_type": "code",
   "execution_count": 81,
   "metadata": {},
   "outputs": [],
   "source": [
    "def haversine_distance(lat1, lon1, lat2, lon2):\n",
    "    # Raio da Terra em quilômetros\n",
    "    R = 6371.0\n",
    "\n",
    "    # Converter graus para radianos\n",
    "    lat1_rad = radians(lat1)\n",
    "    lon1_rad = radians(lon1)\n",
    "    lat2_rad = radians(lat2)\n",
    "    lon2_rad = radians(lon2)\n",
    "\n",
    "    # Diferenças de latitude e longitude\n",
    "    dlat = lat2_rad - lat1_rad\n",
    "    dlon = lon2_rad - lon1_rad\n",
    "\n",
    "    # Fórmula de Haversine\n",
    "    a = sin(dlat / 2)**2 + cos(lat1_rad) * cos(lat2_rad) * sin(dlon / 2)**2\n",
    "    c = 2 * asin(sqrt(a))\n",
    "\n",
    "    # Calcular a distância\n",
    "    distance = R * c\n",
    "\n",
    "    return distance\n",
    "\n",
    "# Adicione uma coluna com a distância acumulada\n",
    "df = df.withColumn(\"DISTANCE\", lit(0))  # Inicialize a coluna DISTANCE com 0\n",
    "previous_row = None"
   ]
  },
  {
   "cell_type": "code",
   "execution_count": 85,
   "metadata": {},
   "outputs": [
    {
     "name": "stderr",
     "output_type": "stream",
     "text": [
      "                                                                                \r"
     ]
    },
    {
     "ename": "TypeError",
     "evalue": "Invalid argument, not a string or column: -23.598638 of type <class 'float'>. For column literals, use 'lit', 'array', 'struct' or 'create_map' function.",
     "output_type": "error",
     "traceback": [
      "\u001b[0;31m---------------------------------------------------------------------------\u001b[0m",
      "\u001b[0;31mTypeError\u001b[0m                                 Traceback (most recent call last)",
      "\u001b[1;32m/home/rodrigo/projetos/monitoramento_sptrans/notebooks/visualizacao.ipynb Cell 21\u001b[0m line \u001b[0;36m5\n\u001b[1;32m      <a href='vscode-notebook-cell://wsl%2Bubuntu-22.04/home/rodrigo/projetos/monitoramento_sptrans/notebooks/visualizacao.ipynb#X34sdnNjb2RlLXJlbW90ZQ%3D%3D?line=2'>3</a>\u001b[0m \u001b[39mfor\u001b[39;00m row \u001b[39min\u001b[39;00m dataframe_prefixo_onibus\u001b[39m.\u001b[39mrdd\u001b[39m.\u001b[39mcollect():\n\u001b[1;32m      <a href='vscode-notebook-cell://wsl%2Bubuntu-22.04/home/rodrigo/projetos/monitoramento_sptrans/notebooks/visualizacao.ipynb#X34sdnNjb2RlLXJlbW90ZQ%3D%3D?line=3'>4</a>\u001b[0m     \u001b[39mif\u001b[39;00m previous_row \u001b[39mis\u001b[39;00m \u001b[39mnot\u001b[39;00m \u001b[39mNone\u001b[39;00m:\n\u001b[0;32m----> <a href='vscode-notebook-cell://wsl%2Bubuntu-22.04/home/rodrigo/projetos/monitoramento_sptrans/notebooks/visualizacao.ipynb#X34sdnNjb2RlLXJlbW90ZQ%3D%3D?line=4'>5</a>\u001b[0m         cumulative_distance \u001b[39m=\u001b[39m previous_row[\u001b[39m\"\u001b[39m\u001b[39mDISTANCE\u001b[39m\u001b[39m\"\u001b[39m] \u001b[39m+\u001b[39m haversine_distance(\n\u001b[1;32m      <a href='vscode-notebook-cell://wsl%2Bubuntu-22.04/home/rodrigo/projetos/monitoramento_sptrans/notebooks/visualizacao.ipynb#X34sdnNjb2RlLXJlbW90ZQ%3D%3D?line=5'>6</a>\u001b[0m             previous_row[\u001b[39m\"\u001b[39;49m\u001b[39mLATITUDE\u001b[39;49m\u001b[39m\"\u001b[39;49m],\n\u001b[1;32m      <a href='vscode-notebook-cell://wsl%2Bubuntu-22.04/home/rodrigo/projetos/monitoramento_sptrans/notebooks/visualizacao.ipynb#X34sdnNjb2RlLXJlbW90ZQ%3D%3D?line=6'>7</a>\u001b[0m             previous_row[\u001b[39m\"\u001b[39;49m\u001b[39mLONGITUDE\u001b[39;49m\u001b[39m\"\u001b[39;49m],\n\u001b[1;32m      <a href='vscode-notebook-cell://wsl%2Bubuntu-22.04/home/rodrigo/projetos/monitoramento_sptrans/notebooks/visualizacao.ipynb#X34sdnNjb2RlLXJlbW90ZQ%3D%3D?line=7'>8</a>\u001b[0m             row[\u001b[39m\"\u001b[39;49m\u001b[39mLATITUDE\u001b[39;49m\u001b[39m\"\u001b[39;49m],\n\u001b[1;32m      <a href='vscode-notebook-cell://wsl%2Bubuntu-22.04/home/rodrigo/projetos/monitoramento_sptrans/notebooks/visualizacao.ipynb#X34sdnNjb2RlLXJlbW90ZQ%3D%3D?line=8'>9</a>\u001b[0m             row[\u001b[39m\"\u001b[39;49m\u001b[39mLONGITUDE\u001b[39;49m\u001b[39m\"\u001b[39;49m]\n\u001b[1;32m     <a href='vscode-notebook-cell://wsl%2Bubuntu-22.04/home/rodrigo/projetos/monitoramento_sptrans/notebooks/visualizacao.ipynb#X34sdnNjb2RlLXJlbW90ZQ%3D%3D?line=9'>10</a>\u001b[0m         )\n\u001b[1;32m     <a href='vscode-notebook-cell://wsl%2Bubuntu-22.04/home/rodrigo/projetos/monitoramento_sptrans/notebooks/visualizacao.ipynb#X34sdnNjb2RlLXJlbW90ZQ%3D%3D?line=10'>11</a>\u001b[0m     \u001b[39melse\u001b[39;00m:\n\u001b[1;32m     <a href='vscode-notebook-cell://wsl%2Bubuntu-22.04/home/rodrigo/projetos/monitoramento_sptrans/notebooks/visualizacao.ipynb#X34sdnNjb2RlLXJlbW90ZQ%3D%3D?line=11'>12</a>\u001b[0m         cumulative_distance \u001b[39m=\u001b[39m \u001b[39m0.0\u001b[39m\n",
      "\u001b[1;32m/home/rodrigo/projetos/monitoramento_sptrans/notebooks/visualizacao.ipynb Cell 21\u001b[0m line \u001b[0;36m6\n\u001b[1;32m      <a href='vscode-notebook-cell://wsl%2Bubuntu-22.04/home/rodrigo/projetos/monitoramento_sptrans/notebooks/visualizacao.ipynb#X34sdnNjb2RlLXJlbW90ZQ%3D%3D?line=2'>3</a>\u001b[0m R \u001b[39m=\u001b[39m \u001b[39m6371.0\u001b[39m\n\u001b[1;32m      <a href='vscode-notebook-cell://wsl%2Bubuntu-22.04/home/rodrigo/projetos/monitoramento_sptrans/notebooks/visualizacao.ipynb#X34sdnNjb2RlLXJlbW90ZQ%3D%3D?line=4'>5</a>\u001b[0m \u001b[39m# Converter graus para radianos\u001b[39;00m\n\u001b[0;32m----> <a href='vscode-notebook-cell://wsl%2Bubuntu-22.04/home/rodrigo/projetos/monitoramento_sptrans/notebooks/visualizacao.ipynb#X34sdnNjb2RlLXJlbW90ZQ%3D%3D?line=5'>6</a>\u001b[0m lat1_rad \u001b[39m=\u001b[39m radians(lat1)\n\u001b[1;32m      <a href='vscode-notebook-cell://wsl%2Bubuntu-22.04/home/rodrigo/projetos/monitoramento_sptrans/notebooks/visualizacao.ipynb#X34sdnNjb2RlLXJlbW90ZQ%3D%3D?line=6'>7</a>\u001b[0m lon1_rad \u001b[39m=\u001b[39m radians(lon1)\n\u001b[1;32m      <a href='vscode-notebook-cell://wsl%2Bubuntu-22.04/home/rodrigo/projetos/monitoramento_sptrans/notebooks/visualizacao.ipynb#X34sdnNjb2RlLXJlbW90ZQ%3D%3D?line=7'>8</a>\u001b[0m lat2_rad \u001b[39m=\u001b[39m radians(lat2)\n",
      "File \u001b[0;32m~/projetos/monitoramento_sptrans/venv/lib/python3.10/site-packages/pyspark/sql/functions.py:924\u001b[0m, in \u001b[0;36mradians\u001b[0;34m(col)\u001b[0m\n\u001b[1;32m    907\u001b[0m \u001b[39mdef\u001b[39;00m \u001b[39mradians\u001b[39m(col: \u001b[39m\"\u001b[39m\u001b[39mColumnOrName\u001b[39m\u001b[39m\"\u001b[39m) \u001b[39m-\u001b[39m\u001b[39m>\u001b[39m Column:\n\u001b[1;32m    908\u001b[0m \u001b[39m    \u001b[39m\u001b[39m\"\"\"\u001b[39;00m\n\u001b[1;32m    909\u001b[0m \u001b[39m    Converts an angle measured in degrees to an approximately equivalent angle\u001b[39;00m\n\u001b[1;32m    910\u001b[0m \u001b[39m    measured in radians.\u001b[39;00m\n\u001b[0;32m   (...)\u001b[0m\n\u001b[1;32m    922\u001b[0m \u001b[39m        angle in radians, as if computed by `java.lang.Math.toRadians()`\u001b[39;00m\n\u001b[1;32m    923\u001b[0m \u001b[39m    \"\"\"\u001b[39;00m\n\u001b[0;32m--> 924\u001b[0m     \u001b[39mreturn\u001b[39;00m _invoke_function_over_columns(\u001b[39m\"\u001b[39;49m\u001b[39mradians\u001b[39;49m\u001b[39m\"\u001b[39;49m, col)\n",
      "File \u001b[0;32m~/projetos/monitoramento_sptrans/venv/lib/python3.10/site-packages/pyspark/sql/functions.py:93\u001b[0m, in \u001b[0;36m_invoke_function_over_columns\u001b[0;34m(name, *cols)\u001b[0m\n\u001b[1;32m     88\u001b[0m \u001b[39mdef\u001b[39;00m \u001b[39m_invoke_function_over_columns\u001b[39m(name: \u001b[39mstr\u001b[39m, \u001b[39m*\u001b[39mcols: \u001b[39m\"\u001b[39m\u001b[39mColumnOrName\u001b[39m\u001b[39m\"\u001b[39m) \u001b[39m-\u001b[39m\u001b[39m>\u001b[39m Column:\n\u001b[1;32m     89\u001b[0m \u001b[39m    \u001b[39m\u001b[39m\"\"\"\u001b[39;00m\n\u001b[1;32m     90\u001b[0m \u001b[39m    Invokes n-ary JVM function identified by name\u001b[39;00m\n\u001b[1;32m     91\u001b[0m \u001b[39m    and wraps the result with :class:`~pyspark.sql.Column`.\u001b[39;00m\n\u001b[1;32m     92\u001b[0m \u001b[39m    \"\"\"\u001b[39;00m\n\u001b[0;32m---> 93\u001b[0m     \u001b[39mreturn\u001b[39;00m _invoke_function(name, \u001b[39m*\u001b[39m(_to_java_column(col) \u001b[39mfor\u001b[39;00m col \u001b[39min\u001b[39;00m cols))\n",
      "File \u001b[0;32m~/projetos/monitoramento_sptrans/venv/lib/python3.10/site-packages/pyspark/sql/functions.py:93\u001b[0m, in \u001b[0;36m<genexpr>\u001b[0;34m(.0)\u001b[0m\n\u001b[1;32m     88\u001b[0m \u001b[39mdef\u001b[39;00m \u001b[39m_invoke_function_over_columns\u001b[39m(name: \u001b[39mstr\u001b[39m, \u001b[39m*\u001b[39mcols: \u001b[39m\"\u001b[39m\u001b[39mColumnOrName\u001b[39m\u001b[39m\"\u001b[39m) \u001b[39m-\u001b[39m\u001b[39m>\u001b[39m Column:\n\u001b[1;32m     89\u001b[0m \u001b[39m    \u001b[39m\u001b[39m\"\"\"\u001b[39;00m\n\u001b[1;32m     90\u001b[0m \u001b[39m    Invokes n-ary JVM function identified by name\u001b[39;00m\n\u001b[1;32m     91\u001b[0m \u001b[39m    and wraps the result with :class:`~pyspark.sql.Column`.\u001b[39;00m\n\u001b[1;32m     92\u001b[0m \u001b[39m    \"\"\"\u001b[39;00m\n\u001b[0;32m---> 93\u001b[0m     \u001b[39mreturn\u001b[39;00m _invoke_function(name, \u001b[39m*\u001b[39m(_to_java_column(col) \u001b[39mfor\u001b[39;00m col \u001b[39min\u001b[39;00m cols))\n",
      "File \u001b[0;32m~/projetos/monitoramento_sptrans/venv/lib/python3.10/site-packages/pyspark/sql/column.py:65\u001b[0m, in \u001b[0;36m_to_java_column\u001b[0;34m(col)\u001b[0m\n\u001b[1;32m     63\u001b[0m     jcol \u001b[39m=\u001b[39m _create_column_from_name(col)\n\u001b[1;32m     64\u001b[0m \u001b[39melse\u001b[39;00m:\n\u001b[0;32m---> 65\u001b[0m     \u001b[39mraise\u001b[39;00m \u001b[39mTypeError\u001b[39;00m(\n\u001b[1;32m     66\u001b[0m         \u001b[39m\"\u001b[39m\u001b[39mInvalid argument, not a string or column: \u001b[39m\u001b[39m\"\u001b[39m\n\u001b[1;32m     67\u001b[0m         \u001b[39m\"\u001b[39m\u001b[39m{0}\u001b[39;00m\u001b[39m of type \u001b[39m\u001b[39m{1}\u001b[39;00m\u001b[39m. \u001b[39m\u001b[39m\"\u001b[39m\n\u001b[1;32m     68\u001b[0m         \u001b[39m\"\u001b[39m\u001b[39mFor column literals, use \u001b[39m\u001b[39m'\u001b[39m\u001b[39mlit\u001b[39m\u001b[39m'\u001b[39m\u001b[39m, \u001b[39m\u001b[39m'\u001b[39m\u001b[39marray\u001b[39m\u001b[39m'\u001b[39m\u001b[39m, \u001b[39m\u001b[39m'\u001b[39m\u001b[39mstruct\u001b[39m\u001b[39m'\u001b[39m\u001b[39m or \u001b[39m\u001b[39m'\u001b[39m\u001b[39mcreate_map\u001b[39m\u001b[39m'\u001b[39m\u001b[39m \u001b[39m\u001b[39m\"\u001b[39m\n\u001b[1;32m     69\u001b[0m         \u001b[39m\"\u001b[39m\u001b[39mfunction.\u001b[39m\u001b[39m\"\u001b[39m\u001b[39m.\u001b[39mformat(col, \u001b[39mtype\u001b[39m(col))\n\u001b[1;32m     70\u001b[0m     )\n\u001b[1;32m     71\u001b[0m \u001b[39mreturn\u001b[39;00m jcol\n",
      "\u001b[0;31mTypeError\u001b[0m: Invalid argument, not a string or column: -23.598638 of type <class 'float'>. For column literals, use 'lit', 'array', 'struct' or 'create_map' function."
     ]
    }
   ],
   "source": [
    "dataframe_prefixo_onibus = dataframe_prefixo_onibus.withColumn(\"DISTANCE\", lit(0))  # Inicialize a coluna DISTANCE com 0\n",
    "previous_row = None\n",
    "for row in dataframe_prefixo_onibus.rdd.collect():\n",
    "    if previous_row is not None:\n",
    "        cumulative_distance = previous_row[\"DISTANCE\"] + haversine_distance(\n",
    "            previous_row[\"LATITUDE\"],\n",
    "            previous_row[\"LONGITUDE\"],\n",
    "            row[\"LATITUDE\"],\n",
    "            row[\"LONGITUDE\"]\n",
    "        )\n",
    "    else:\n",
    "        cumulative_distance = 0.0\n",
    "\n",
    "    df = dataframe_prefixo_onibus.withColumn(\"DISTANCE\", when((col(\"LATITUDE\") == row[\"LATITUDE\"]) & (col(\"LONGITUDE\") == row[\"LONGITUDE\"]), cumulative_distance).otherwise(col(\"DISTANCE\")))\n",
    "\n",
    "    previous_row = row\n",
    "\n",
    "# Exiba o DataFrame resultante\n",
    "df.show()"
   ]
  }
 ],
 "metadata": {
  "kernelspec": {
   "display_name": "venv",
   "language": "python",
   "name": "python3"
  },
  "language_info": {
   "codemirror_mode": {
    "name": "ipython",
    "version": 3
   },
   "file_extension": ".py",
   "mimetype": "text/x-python",
   "name": "python",
   "nbconvert_exporter": "python",
   "pygments_lexer": "ipython3",
   "version": "3.10.12"
  },
  "orig_nbformat": 4
 },
 "nbformat": 4,
 "nbformat_minor": 2
}
