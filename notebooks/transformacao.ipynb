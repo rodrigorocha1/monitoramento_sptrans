{
 "cells": [
  {
   "cell_type": "code",
   "execution_count": 67,
   "metadata": {},
   "outputs": [],
   "source": [
    "from pyspark.sql import SparkSession\n",
    "import pyspark\n",
    "import pyspark.sql.functions as f\n",
    "from pyspark.sql.dataframe import DataFrame\n",
    "import os"
   ]
  },
  {
   "cell_type": "code",
   "execution_count": 2,
   "metadata": {},
   "outputs": [
    {
     "name": "stderr",
     "output_type": "stream",
     "text": [
      "your 131072x1 screen size is bogus. expect trouble\n"
     ]
    },
    {
     "name": "stdout",
     "output_type": "stream",
     "text": [
      "23/09/12 19:57:15 WARN Utils: Your hostname, DESKTOP-N81ME1R resolves to a loopback address: 127.0.1.1; using 172.24.108.240 instead (on interface eth0)\n",
      "23/09/12 19:57:15 WARN Utils: Set SPARK_LOCAL_IP if you need to bind to another address\n"
     ]
    },
    {
     "name": "stderr",
     "output_type": "stream",
     "text": [
      "Setting default log level to \"WARN\".\n",
      "To adjust logging level use sc.setLogLevel(newLevel). For SparkR, use setLogLevel(newLevel).\n"
     ]
    },
    {
     "name": "stdout",
     "output_type": "stream",
     "text": [
      "23/09/12 19:57:17 WARN NativeCodeLoader: Unable to load native-hadoop library for your platform... using builtin-java classes where applicable\n"
     ]
    }
   ],
   "source": [
    "spark = SparkSession.builder.master('local[*]') \\\n",
    "    .appName('visualizacao') \\\n",
    "    .getOrCreate()"
   ]
  },
  {
   "cell_type": "code",
   "execution_count": 60,
   "metadata": {},
   "outputs": [
    {
     "name": "stderr",
     "output_type": "stream",
     "text": [
      "[Stage 48:>                                                         (0 + 8) / 8]\r"
     ]
    },
    {
     "name": "stdout",
     "output_type": "stream",
     "text": [
      "root\n",
      " |-- data_extracao: string (nullable = true)\n",
      " |-- hr: string (nullable = true)\n",
      " |-- l: array (nullable = true)\n",
      " |    |-- element: struct (containsNull = true)\n",
      " |    |    |-- c: string (nullable = true)\n",
      " |    |    |-- cl: long (nullable = true)\n",
      " |    |    |-- lt0: string (nullable = true)\n",
      " |    |    |-- lt1: string (nullable = true)\n",
      " |    |    |-- qv: long (nullable = true)\n",
      " |    |    |-- sl: long (nullable = true)\n",
      " |    |    |-- vs: array (nullable = true)\n",
      " |    |    |    |-- element: struct (containsNull = true)\n",
      " |    |    |    |    |-- a: boolean (nullable = true)\n",
      " |    |    |    |    |-- is: string (nullable = true)\n",
      " |    |    |    |    |-- p: long (nullable = true)\n",
      " |    |    |    |    |-- px: double (nullable = true)\n",
      " |    |    |    |    |-- py: double (nullable = true)\n",
      " |    |    |    |    |-- sv: string (nullable = true)\n",
      " |    |    |    |    |-- ta: string (nullable = true)\n",
      "\n"
     ]
    },
    {
     "name": "stderr",
     "output_type": "stream",
     "text": [
      "                                                                                \r"
     ]
    },
    {
     "data": {
      "text/plain": [
       "pyspark.sql.dataframe.DataFrame"
      ]
     },
     "execution_count": 60,
     "metadata": {},
     "output_type": "execute_result"
    }
   ],
   "source": [
    "df = spark.read.json('../data/datalake/bronze/extract_date=*/*.json')\n",
    "df.printSchema()\n",
    "df = df.na.drop()\n",
    "type(df)"
   ]
  },
  {
   "cell_type": "code",
   "execution_count": 4,
   "metadata": {},
   "outputs": [
    {
     "name": "stdout",
     "output_type": "stream",
     "text": [
      "+----------------+-----+------------------------------------------------------------------------------------------------------------------------------------------------------------------------------------------------------------------------------------------------------------------------------------------------------------------------------------------------------------------------------------------------------------------------------------------------------------------------------------------------------------------------------------------------------------------------------------------------------------------------------------------------------------------------------------------+\n",
      "|data_extracao   |hr   |lista                                                                                                                                                                                                                                                                                                                                                                                                                                                                                                                                                                                                                                                                                     |\n",
      "+----------------+-----+------------------------------------------------------------------------------------------------------------------------------------------------------------------------------------------------------------------------------------------------------------------------------------------------------------------------------------------------------------------------------------------------------------------------------------------------------------------------------------------------------------------------------------------------------------------------------------------------------------------------------------------------------------------------------------------+\n",
      "|2023-09-09 11:36|11:36|{6069-10, 1154, TERM. STO. AMARO, JD. SÃO BERNARDO, 4, 1, [{true, null, 66525, -46.71154075, -23.653890625, null, 2023-09-09T14:35:55Z}, {true, null, 66706, -46.6953825, -23.748659500000002, null, 2023-09-09T14:34:51Z}, {true, null, 66414, -46.703199, -23.684085500000002, null, 2023-09-09T14:36:16Z}, {true, null, 66716, -46.6992625, -23.726964000000002, null, 2023-09-09T14:36:22Z}]}                                                                                                                                                                                                                                                                                         |\n",
      "|2023-09-09 11:36|11:36|{6L10-41, 34773, TERM. VARGINHA, MESSIÂNICA, 4, 2, [{true, null, 66765, -46.765596, -23.7880685, null, 2023-09-09T14:36:00Z}, {true, null, 66402, -46.765596, -23.7880685, null, 2023-09-09T14:35:53Z}, {true, null, 66536, -46.765596, -23.7880685, null, 2023-09-09T14:36:28Z}, {true, null, 66932, -46.72226175, -23.77495725, null, 2023-09-09T14:36:21Z}]}                                                                                                                                                                                                                                                                                                                           |\n",
      "|2023-09-09 11:36|11:36|{2734-10, 34528, METRÔ ITAQUERA, JD. CAMPOS, 3, 2, [{true, null, 35939, -46.435375375, -23.509469375000002, null, 2023-09-09T14:35:16Z}, {true, null, 35784, -46.4467, -23.52863575, null, 2023-09-09T14:36:16Z}, {true, null, 35928, -46.41021025, -23.510827749999997, null, 2023-09-09T14:36:25Z}]}                                                                                                                                                                                                                                                                                                                                                                                    |\n",
      "|2023-09-09 11:36|11:36|{701A-10, 33457, METRÔ VL. MADALENA, PQ. EDU CHAVES, 8, 2, [{true, null, 21238, -46.589543, -23.518244125000002, null, 2023-09-09T14:36:23Z}, {true, null, 21386, -46.63965, -23.547204999999998, null, 2023-09-09T14:36:18Z}, {true, null, 21393, -46.565966, -23.4737385, null, 2023-09-09T14:35:54Z}, {true, null, 21368, -46.596869, -23.527497, null, 2023-09-09T14:33:13Z}, {true, null, 21399, -46.5664555, -23.473947, null, 2023-09-09T14:36:27Z}, {true, null, 21387, -46.566243, -23.4738595, null, 2023-09-09T14:36:11Z}, {true, null, 21237, -46.5907625, -23.499533, null, 2023-09-09T14:36:17Z}, {true, null, 21397, -46.565966, -23.4737385, null, 2023-09-09T14:35:50Z}]}|\n",
      "|2023-09-09 11:36|11:36|{273R-10, 32994, METRÔ ARTUR ALVIM, JD. ROBRU, 4, 2, [{true, null, 32621, -46.4755906875, -23.520824375, null, 2023-09-09T14:36:19Z}, {true, null, 32613, -46.42110675, -23.510990500000002, null, 2023-09-09T14:35:57Z}, {true, null, 32040, -46.41263875, -23.522662999999998, null, 2023-09-09T14:36:27Z}, {true, null, 32083, -46.450733, -23.514086374999998, null, 2023-09-09T14:35:48Z}]}                                                                                                                                                                                                                                                                                          |\n",
      "+----------------+-----+------------------------------------------------------------------------------------------------------------------------------------------------------------------------------------------------------------------------------------------------------------------------------------------------------------------------------------------------------------------------------------------------------------------------------------------------------------------------------------------------------------------------------------------------------------------------------------------------------------------------------------------------------------------------------------------+\n",
      "only showing top 5 rows\n",
      "\n",
      "root\n",
      " |-- data_extracao: string (nullable = true)\n",
      " |-- hr: string (nullable = true)\n",
      " |-- lista: struct (nullable = true)\n",
      " |    |-- c: string (nullable = true)\n",
      " |    |-- cl: long (nullable = true)\n",
      " |    |-- lt0: string (nullable = true)\n",
      " |    |-- lt1: string (nullable = true)\n",
      " |    |-- qv: long (nullable = true)\n",
      " |    |-- sl: long (nullable = true)\n",
      " |    |-- vs: array (nullable = true)\n",
      " |    |    |-- element: struct (containsNull = true)\n",
      " |    |    |    |-- a: boolean (nullable = true)\n",
      " |    |    |    |-- is: string (nullable = true)\n",
      " |    |    |    |-- p: long (nullable = true)\n",
      " |    |    |    |-- px: double (nullable = true)\n",
      " |    |    |    |-- py: double (nullable = true)\n",
      " |    |    |    |-- sv: string (nullable = true)\n",
      " |    |    |    |-- ta: string (nullable = true)\n",
      "\n"
     ]
    }
   ],
   "source": [
    "df_p = df.select(df.data_extracao, df.hr, f.explode(df.l).alias('lista'))\n",
    "df_p.show(5, truncate=False)\n",
    "df_p.printSchema()\n"
   ]
  },
  {
   "cell_type": "code",
   "execution_count": 5,
   "metadata": {},
   "outputs": [
    {
     "name": "stdout",
     "output_type": "stream",
     "text": [
      "root\n",
      " |-- data_extracao: string (nullable = true)\n",
      " |-- lista: struct (nullable = true)\n",
      " |    |-- c: string (nullable = true)\n",
      " |    |-- cl: long (nullable = true)\n",
      " |    |-- lt0: string (nullable = true)\n",
      " |    |-- lt1: string (nullable = true)\n",
      " |    |-- qv: long (nullable = true)\n",
      " |    |-- sl: long (nullable = true)\n",
      " |    |-- vs: array (nullable = true)\n",
      " |    |    |-- element: struct (containsNull = true)\n",
      " |    |    |    |-- a: boolean (nullable = true)\n",
      " |    |    |    |-- is: string (nullable = true)\n",
      " |    |    |    |-- p: long (nullable = true)\n",
      " |    |    |    |-- px: double (nullable = true)\n",
      " |    |    |    |-- py: double (nullable = true)\n",
      " |    |    |    |-- sv: string (nullable = true)\n",
      " |    |    |    |-- ta: string (nullable = true)\n",
      " |-- hr: string (nullable = true)\n",
      "\n"
     ]
    }
   ],
   "source": [
    "df_p2 = df_p.select(df_p.data_extracao, df_p.lista, df_p.hr)\n",
    "df_p2.printSchema()\n"
   ]
  },
  {
   "cell_type": "code",
   "execution_count": 6,
   "metadata": {},
   "outputs": [
    {
     "name": "stdout",
     "output_type": "stream",
     "text": [
      "23/09/12 19:57:48 WARN CSVHeaderChecker: CSV header does not conform to the schema.\n",
      " Header: , _c1, LINHA, CODIGO_AREA, CONSOCIO, EMPRESA\n",
      " Schema: _c0, _c1, LINHA, CODIGO_AREA, CONSOCIO, EMPRESA\n",
      "Expected: _c0 but found: \n",
      "CSV file: file:///home/rodrigo/projetos/monitoramento_sptrans/data/datalake/bronze/relacao_empresas_linha/dados_linhas_completo.csv\n",
      "+---+---+-------+-----------+--------------------+--------------------+\n",
      "|_c0|_c1|  LINHA|CODIGO_AREA|            CONSOCIO|             EMPRESA|\n",
      "+---+---+-------+-----------+--------------------+--------------------+\n",
      "|  0|  0|975A-10|          1|CONSÓRCIO BANDEIR...|VIAÇÃO SANTA BRIG...|\n",
      "|  1|  1|9784-10|          1|CONSÓRCIO TRANSNO...|SPENCER TRANSPORT...|\n",
      "|  2|  2|9785-10|          1|CONSÓRCIO TRANSNO...|NORTE BUSS TRANSP...|\n",
      "|  3|  3|9785-51|          1|CONSÓRCIO TRANSNO...|NORTE BUSS TRANSP...|\n",
      "|  4|  4|9789-10|          1|CONSÓRCIO TRANSNO...|NORTE BUSS TRANSP...|\n",
      "|  5|  5|978A-10|          1|CONSÓRCIO BANDEIR...|VIAÇÃO GATO PRETO...|\n",
      "|  6|  6|978J-10|          1|CONSÓRCIO BANDEIR...|VIAÇÃO SANTA BRIG...|\n",
      "|  7|  7|978L-10|          1|CONSÓRCIO BANDEIR...|VIAÇÃO SANTA BRIG...|\n",
      "|  8|  8|978T-10|          1|CONSÓRCIO TRANSNO...|NORTE BUSS TRANSP...|\n",
      "|  9|  9|N101-11|          1|CONSÓRCIO BANDEIR...|VIAÇÃO SANTA BRIG...|\n",
      "| 10| 10|N102-11|          1|CONSÓRCIO BANDEIR...|VIAÇÃO SANTA BRIG...|\n",
      "| 11| 11|N103-11|          1|CONSÓRCIO BANDEIR...|VIAÇÃO SANTA BRIG...|\n",
      "| 12| 12|N104-11|          1|CONSÓRCIO BANDEIR...|VIAÇÃO SANTA BRIG...|\n",
      "| 13| 13|N105-11|          1|CONSÓRCIO BANDEIR...|VIAÇÃO GATO PRETO...|\n",
      "| 14| 14|N106-11|          1|CONSÓRCIO BANDEIR...|VIAÇÃO SANTA BRIG...|\n",
      "| 15| 15|N131-11|          1|CONSÓRCIO BANDEIR...|VIAÇÃO SANTA BRIG...|\n",
      "| 16| 16|N132-11|          1|CONSÓRCIO BANDEIR...|VIAÇÃO SANTA BRIG...|\n",
      "| 17| 17|N133-11|          1|CONSÓRCIO BANDEIR...|VIAÇÃO SANTA BRIG...|\n",
      "| 18| 18|N134-11|          1|CONSÓRCIO BANDEIR...|VIAÇÃO SANTA BRIG...|\n",
      "| 19| 19|N135-11|          1|CONSÓRCIO BANDEIR...|VIAÇÃO SANTA BRIG...|\n",
      "+---+---+-------+-----------+--------------------+--------------------+\n",
      "only showing top 20 rows\n",
      "\n"
     ]
    }
   ],
   "source": [
    "df_dados_completos_linha = spark.read.options(header='True') \\\n",
    ".csv( '../data/datalake/bronze/relacao_empresas_linha/dados_linhas_completo.csv')\n",
    "df_dados_completos_linha.show()"
   ]
  },
  {
   "cell_type": "code",
   "execution_count": 7,
   "metadata": {},
   "outputs": [
    {
     "name": "stderr",
     "output_type": "stream",
     "text": [
      "[Stage 4:>                                                          (0 + 8) / 8]\r"
     ]
    },
    {
     "name": "stdout",
     "output_type": "stream",
     "text": [
      "+----------------+--------+-----------------+----------------+--------------------------+--------------+-----------------------------+-------------------+-------------------+\n",
      "|DATA_EXTRACAO   |HORA_API|LETREIRO_COMPLETO|SENTIDO_OPERACAO|CODIGO_IDENTIFICADOR_LINHA|PREFIXO_ONIBUS|DATA_HORA_CAPTURA_LOCALIZACAO|LATITUDE           |LONGITUDE          |\n",
      "+----------------+--------+-----------------+----------------+--------------------------+--------------+-----------------------------+-------------------+-------------------+\n",
      "|2023-09-09 22:40|22:40   |1012-10          |2               |35254                     |16398         |2023-09-10T01:39:33Z         |-23.437934749999997|-46.801423125      |\n",
      "|2023-09-09 22:40|22:40   |1012-10          |1               |2486                      |16479         |2023-09-10T01:39:55Z         |-23.4325754375     |-46.786764125000005|\n",
      "|2023-09-09 22:40|22:40   |1012-10          |1               |2486                      |16475         |2023-09-10T01:39:56Z         |-23.436135999999998|-46.804632999999995|\n",
      "|2023-09-09 22:40|22:40   |1015-10          |2               |34998                     |16379         |2023-09-10T01:39:21Z         |-23.4189275        |-46.799654000000004|\n",
      "|2023-09-09 22:40|22:40   |1016-10          |1               |831                       |26146         |2023-09-10T01:36:41Z         |-23.478924         |-46.61125          |\n",
      "|2023-09-09 22:40|22:40   |1016-10          |2               |33599                     |26200         |2023-09-10T01:39:45Z         |-23.508286499999997|-46.6154515        |\n",
      "|2023-09-09 22:40|22:40   |1016-10          |2               |33599                     |26239         |2023-09-10T01:39:56Z         |-23.478549125      |-46.60900637499999 |\n",
      "|2023-09-09 22:40|22:40   |1016-10          |1               |831                       |26542         |2023-09-10T01:39:59Z         |-23.446613999999997|-46.613124         |\n",
      "|2023-09-09 22:40|22:40   |1016-10          |2               |33599                     |26006         |2023-09-10T01:39:37Z         |-23.513872         |-46.6160225        |\n",
      "|2023-09-09 22:40|22:40   |1017-10          |2               |34909                     |15007         |2023-09-10T01:39:44Z         |-23.412819499999998|-46.750868499999996|\n",
      "|2023-09-09 22:40|22:40   |1017-10          |2               |34909                     |15017         |2023-09-10T01:39:33Z         |-23.413556         |-46.7508775        |\n",
      "|2023-09-09 22:40|22:40   |1017-10          |1               |2141                      |15182         |2023-09-10T01:39:47Z         |-23.4141015        |-46.750579         |\n",
      "|2023-09-09 22:40|22:40   |1017-10          |1               |2141                      |15180         |2023-09-10T01:39:34Z         |-23.462367         |-46.714346500000005|\n",
      "|2023-09-09 22:40|22:40   |1017-10          |2               |34909                     |15218         |2023-09-10T01:39:23Z         |-23.4046385        |-46.73831199999999 |\n",
      "|2023-09-09 22:40|22:40   |1017-10          |1               |2141                      |15199         |2023-09-10T01:39:21Z         |-23.4850255        |-46.709775         |\n",
      "|2023-09-09 22:40|22:40   |1017-10          |2               |34909                     |15205         |2023-09-10T01:39:44Z         |-23.4443875        |-46.7172035        |\n",
      "|2023-09-09 22:40|22:40   |1018-10          |2               |33600                     |26017         |2023-09-10T01:39:54Z         |-23.4468225        |-46.627283         |\n",
      "|2023-09-09 22:40|22:40   |1018-10          |1               |832                       |26391         |2023-09-10T01:39:53Z         |-23.4865245        |-46.6176455        |\n",
      "|2023-09-09 22:40|22:40   |1018-10          |2               |33600                     |26177         |2023-09-10T01:39:08Z         |-23.447011         |-46.6272125        |\n",
      "|2023-09-09 22:40|22:40   |1018-10          |2               |33600                     |26064         |2023-09-10T01:39:39Z         |-23.4620885        |-46.615971         |\n",
      "+----------------+--------+-----------------+----------------+--------------------------+--------------+-----------------------------+-------------------+-------------------+\n",
      "only showing top 20 rows\n",
      "\n"
     ]
    },
    {
     "name": "stderr",
     "output_type": "stream",
     "text": [
      "                                                                                \r"
     ]
    }
   ],
   "source": [
    "# df_amostra_um = df_p2.select(df_p2.data_extracao,df_p2.lista.c ,df_p2.lista.vs.p,df_p2.lista.vs.py, df_p2.lista.vs.px)\n",
    "# Método para obter o dados dos ônibus\n",
    "df_amostra_um = df_p2.select(\n",
    "    df_p2.data_extracao,\n",
    "    df_p2.hr,\n",
    "    df_p2.lista.c.alias('LETREIRO_COMPLETO'), \n",
    "    df_p2.lista.sl.alias('SENTIDO_OPERACAO'), \n",
    "    df_p2.lista.cl.alias('CODIGO_IDENTIFICADOR_LINHA') , \n",
    "    f.explode(df_p2.lista.vs).alias('expansao')) \\\n",
    "    .select(f.col('data_extracao').alias('DATA_EXTRACAO'),\n",
    "            f.col('hr').alias('HORA_API'),\n",
    "            'LETREIRO_COMPLETO',\n",
    "            'SENTIDO_OPERACAO',\n",
    "            'CODIGO_IDENTIFICADOR_LINHA',\n",
    "            f.col('expansao.p').alias('PREFIXO_ONIBUS'),\n",
    "            f.col('expansao.ta').alias('DATA_HORA_CAPTURA_LOCALIZACAO'),\n",
    "            f.col('expansao.py').alias('LATITUDE') ,\n",
    "            f.col('expansao.px').alias('LONGITUDE'),\n",
    "            \n",
    "            ) \\\n",
    "    .sort(df_p2.data_extracao.desc(),df_p2.lista.c.asc() ) \\\n",
    "    \n",
    "df_amostra_um.show(truncate=False)\n"
   ]
  },
  {
   "cell_type": "code",
   "execution_count": 8,
   "metadata": {},
   "outputs": [],
   "source": [
    "colunas_drop = ('_c0', '_c1', 'LINHA')"
   ]
  },
  {
   "cell_type": "code",
   "execution_count": 9,
   "metadata": {},
   "outputs": [
    {
     "name": "stdout",
     "output_type": "stream",
     "text": [
      "+-----------+-------------------------------------+-------------------------------------+-------------+--------+-----------------+----------------+--------------------------+--------------+-----------------------------+-------------------+--------------+-----------------+\n",
      "|CODIGO_AREA|CONSOCIO                             |EMPRESA                              |DATA_EXTRACAO|HORA_API|LETREIRO_COMPLETO|SENTIDO_OPERACAO|CODIGO_IDENTIFICADOR_LINHA|PREFIXO_ONIBUS|DATA_HORA_CAPTURA_LOCALIZACAO|LATITUDE           |LONGITUDE     |DATA_EXTRACAO_API|\n",
      "+-----------+-------------------------------------+-------------------------------------+-------------+--------+-----------------+----------------+--------------------------+--------------+-----------------------------+-------------------+--------------+-----------------+\n",
      "|6          |TRANSWOLFF TRANSPORTES E TURISMO LTDA|TRANSWOLFF TRANSPORTES E TURISMO LTDA|2023-09-09   |11:36   |6069-10          |1               |1154                      |66525         |2023-09-09T14:35:55Z         |-23.653890625      |-46.71154075  |2023-09-09       |\n",
      "|6          |TRANSWOLFF TRANSPORTES E TURISMO LTDA|TRANSWOLFF TRANSPORTES E TURISMO LTDA|2023-09-09   |11:36   |6069-10          |1               |1154                      |66706         |2023-09-09T14:34:51Z         |-23.748659500000002|-46.6953825   |2023-09-09       |\n",
      "|6          |TRANSWOLFF TRANSPORTES E TURISMO LTDA|TRANSWOLFF TRANSPORTES E TURISMO LTDA|2023-09-09   |11:36   |6069-10          |1               |1154                      |66414         |2023-09-09T14:36:16Z         |-23.684085500000002|-46.703199    |2023-09-09       |\n",
      "|6          |TRANSWOLFF TRANSPORTES E TURISMO LTDA|TRANSWOLFF TRANSPORTES E TURISMO LTDA|2023-09-09   |11:36   |6069-10          |1               |1154                      |66716         |2023-09-09T14:36:22Z         |-23.726964000000002|-46.6992625   |2023-09-09       |\n",
      "|6          |TRANSWOLFF TRANSPORTES E TURISMO LTDA|TRANSWOLFF TRANSPORTES E TURISMO LTDA|2023-09-09   |11:36   |6L10-41          |2               |34773                     |66765         |2023-09-09T14:36:00Z         |-23.7880685        |-46.765596    |2023-09-09       |\n",
      "|6          |TRANSWOLFF TRANSPORTES E TURISMO LTDA|TRANSWOLFF TRANSPORTES E TURISMO LTDA|2023-09-09   |11:36   |6L10-41          |2               |34773                     |66402         |2023-09-09T14:35:53Z         |-23.7880685        |-46.765596    |2023-09-09       |\n",
      "|6          |TRANSWOLFF TRANSPORTES E TURISMO LTDA|TRANSWOLFF TRANSPORTES E TURISMO LTDA|2023-09-09   |11:36   |6L10-41          |2               |34773                     |66536         |2023-09-09T14:36:28Z         |-23.7880685        |-46.765596    |2023-09-09       |\n",
      "|6          |TRANSWOLFF TRANSPORTES E TURISMO LTDA|TRANSWOLFF TRANSPORTES E TURISMO LTDA|2023-09-09   |11:36   |6L10-41          |2               |34773                     |66932         |2023-09-09T14:36:21Z         |-23.77495725       |-46.72226175  |2023-09-09       |\n",
      "|3          |UPBUS QUALIDADE EM TRANSPORTES S.A.  |UPBUS QUALIDADE EM TRANSPORTES S.A.  |2023-09-09   |11:36   |2734-10          |2               |34528                     |35939         |2023-09-09T14:35:16Z         |-23.509469375000002|-46.435375375 |2023-09-09       |\n",
      "|3          |UPBUS QUALIDADE EM TRANSPORTES S.A.  |UPBUS QUALIDADE EM TRANSPORTES S.A.  |2023-09-09   |11:36   |2734-10          |2               |34528                     |35784         |2023-09-09T14:36:16Z         |-23.52863575       |-46.4467      |2023-09-09       |\n",
      "|3          |UPBUS QUALIDADE EM TRANSPORTES S.A.  |UPBUS QUALIDADE EM TRANSPORTES S.A.  |2023-09-09   |11:36   |2734-10          |2               |34528                     |35928         |2023-09-09T14:36:25Z         |-23.510827749999997|-46.41021025  |2023-09-09       |\n",
      "|2          |SAMBAIBA TRANSPORTES URBANOS LTDA.   |SAMBAIBA TRANSPORTES URBANOS LTDA.   |2023-09-09   |11:36   |701A-10          |2               |33457                     |21238         |2023-09-09T14:36:23Z         |-23.518244125000002|-46.589543    |2023-09-09       |\n",
      "|2          |SAMBAIBA TRANSPORTES URBANOS LTDA.   |SAMBAIBA TRANSPORTES URBANOS LTDA.   |2023-09-09   |11:36   |701A-10          |2               |33457                     |21386         |2023-09-09T14:36:18Z         |-23.547204999999998|-46.63965     |2023-09-09       |\n",
      "|2          |SAMBAIBA TRANSPORTES URBANOS LTDA.   |SAMBAIBA TRANSPORTES URBANOS LTDA.   |2023-09-09   |11:36   |701A-10          |2               |33457                     |21393         |2023-09-09T14:35:54Z         |-23.4737385        |-46.565966    |2023-09-09       |\n",
      "|2          |SAMBAIBA TRANSPORTES URBANOS LTDA.   |SAMBAIBA TRANSPORTES URBANOS LTDA.   |2023-09-09   |11:36   |701A-10          |2               |33457                     |21368         |2023-09-09T14:33:13Z         |-23.527497         |-46.596869    |2023-09-09       |\n",
      "|2          |SAMBAIBA TRANSPORTES URBANOS LTDA.   |SAMBAIBA TRANSPORTES URBANOS LTDA.   |2023-09-09   |11:36   |701A-10          |2               |33457                     |21399         |2023-09-09T14:36:27Z         |-23.473947         |-46.5664555   |2023-09-09       |\n",
      "|2          |SAMBAIBA TRANSPORTES URBANOS LTDA.   |SAMBAIBA TRANSPORTES URBANOS LTDA.   |2023-09-09   |11:36   |701A-10          |2               |33457                     |21387         |2023-09-09T14:36:11Z         |-23.4738595        |-46.566243    |2023-09-09       |\n",
      "|2          |SAMBAIBA TRANSPORTES URBANOS LTDA.   |SAMBAIBA TRANSPORTES URBANOS LTDA.   |2023-09-09   |11:36   |701A-10          |2               |33457                     |21237         |2023-09-09T14:36:17Z         |-23.499533         |-46.5907625   |2023-09-09       |\n",
      "|2          |SAMBAIBA TRANSPORTES URBANOS LTDA.   |SAMBAIBA TRANSPORTES URBANOS LTDA.   |2023-09-09   |11:36   |701A-10          |2               |33457                     |21397         |2023-09-09T14:35:50Z         |-23.4737385        |-46.565966    |2023-09-09       |\n",
      "|3          |VIAÇÃO METRÓPOLE PAULISTA S.A.       |VIAÇÃO METRÓPOLE PAULISTA S.A.       |2023-09-09   |11:36   |273R-10          |2               |32994                     |32621         |2023-09-09T14:36:19Z         |-23.520824375      |-46.4755906875|2023-09-09       |\n",
      "+-----------+-------------------------------------+-------------------------------------+-------------+--------+-----------------+----------------+--------------------------+--------------+-----------------------------+-------------------+--------------+-----------------+\n",
      "only showing top 20 rows\n",
      "\n"
     ]
    }
   ],
   "source": [
    "df_operacao_desagrupada =  df_dados_completos_linha.join(\n",
    "    df_amostra_um,\n",
    "    df_amostra_um.LETREIRO_COMPLETO == df_dados_completos_linha.LINHA , \n",
    "    'inner'\n",
    ")\n",
    "df_operacao_desagrupada = df_operacao_desagrupada.drop(*colunas_drop)\n",
    "df_operacao_desagrupada = df_operacao_desagrupada.withColumn(\"DATA_EXTRACAO\", f.to_date(\"DATA_EXTRACAO\"))  \n",
    "df_operacao_desagrupada = df_operacao_desagrupada.withColumn(\"DATA_EXTRACAO_API\", f.to_date(\"DATA_EXTRACAO\"))  \n",
    "df_operacao_desagrupada.show(truncate=False)"
   ]
  },
  {
   "cell_type": "code",
   "execution_count": 11,
   "metadata": {},
   "outputs": [
    {
     "name": "stderr",
     "output_type": "stream",
     "text": [
      "                                                                                \r"
     ]
    }
   ],
   "source": [
    "df_operacao_desagrupada.write\\\n",
    "    .partitionBy('DATA_EXTRACAO')\\\n",
    "    .mode('overwrite')\\\n",
    "    .json('../data/datalake/prata/operacao_desagrupada/teste')"
   ]
  },
  {
   "cell_type": "code",
   "execution_count": 12,
   "metadata": {},
   "outputs": [
    {
     "name": "stdout",
     "output_type": "stream",
     "text": [
      "+--------+----------------+-----------------+--------------------+---------------------+-------------------+----------------------+\n",
      "|HORA_API|DATA_EXTRACAO   |LETREIRO_COMPLETO|CODIGO_IDENTIFICADOR|LETREIRO_ORIGEM      |LETREIRO_DESTINO   |QTDE_VEICULOS_OPERACAO|\n",
      "+--------+----------------+-----------------+--------------------+---------------------+-------------------+----------------------+\n",
      "|11:36   |2023-09-09 11:36|6069-10          |1154                |TERM. STO. AMARO     |JD. SÃO BERNARDO   |4                     |\n",
      "|11:36   |2023-09-09 11:36|6L10-41          |34773               |TERM. VARGINHA       |MESSIÂNICA         |4                     |\n",
      "|11:36   |2023-09-09 11:36|2734-10          |34528               |METRÔ ITAQUERA       |JD. CAMPOS         |3                     |\n",
      "|11:36   |2023-09-09 11:36|701A-10          |33457               |METRÔ VL. MADALENA   |PQ. EDU CHAVES     |8                     |\n",
      "|11:36   |2023-09-09 11:36|273R-10          |32994               |METRÔ ARTUR ALVIM    |JD. ROBRU          |4                     |\n",
      "|11:36   |2023-09-09 11:36|6000-10          |33908               |TERM. STO. AMARO     |TERM. PARELHEIROS  |10                    |\n",
      "|11:36   |2023-09-09 11:36|6291-10          |358                 |TERM. BANDEIRA       |INOCOOP CAMPO LIMPO|4                     |\n",
      "|11:36   |2023-09-09 11:36|546J-10          |1133                |STO. AMARO           |JD. SELMA          |2                     |\n",
      "|11:36   |2023-09-09 11:36|1782-10          |643                 |METRÔ SANTANA        |VL. NOVA GALVÃO    |2                     |\n",
      "|11:36   |2023-09-09 11:36|695Y-10          |33966               |METRÔ VL. MARIANA    |TERM. PARELHEIROS  |8                     |\n",
      "|11:36   |2023-09-09 11:36|675M-10          |108                 |METRÔ JABAQUARA      |CENTRO SESC        |5                     |\n",
      "|11:36   |2023-09-09 11:36|3762-10          |1053                |METRÔ TATUAPÉ        |JD. IVA            |4                     |\n",
      "|11:36   |2023-09-09 11:36|263C-10          |33020               |COHAB II             |JD. HELENA         |4                     |\n",
      "|11:36   |2023-09-09 11:36|2290-10          |33486               |TERM. PQ. D. PEDRO II|TERM. SÃO MATEUS   |11                    |\n",
      "|11:36   |2023-09-09 11:36|1016-10          |33599               |SHOP. CENTER NORTE   |CEM. DO HORTO      |6                     |\n",
      "|11:36   |2023-09-09 11:36|5018-10          |1492                |JABAQUARA            |SHOP. INTERLAGOS   |2                     |\n",
      "|11:36   |2023-09-09 11:36|1743-10          |33311               |SHOP. D              |JD. PERY ALTO      |4                     |\n",
      "|11:36   |2023-09-09 11:36|8700-1           |35276               |PÇA. RAMOS DE AZEVEDO|TERM. CAMPO LIMPO  |2                     |\n",
      "|11:36   |2023-09-09 11:36|7017-10          |35270               |TERM. GUARAPIRANGA   |JD. GUARUJÁ        |4                     |\n",
      "|11:36   |2023-09-09 11:36|8014-10          |33569               |PERUS                |MORRO DOCE         |7                     |\n",
      "+--------+----------------+-----------------+--------------------+---------------------+-------------------+----------------------+\n",
      "only showing top 20 rows\n",
      "\n"
     ]
    }
   ],
   "source": [
    "# Método de obter operação\n",
    "df_operacao =df.select(df.hr, df.data_extracao, f.explode('l').alias('DADOS_LINHA')) \\\n",
    "    .withColumnRenamed('hr', 'HORA_API') \\\n",
    "    .select('HORA_API',\n",
    "            'DATA_EXTRACAO',\n",
    "            f.col('DADOS_LINHA.c').alias('LETREIRO_COMPLETO'),\n",
    "            f.col('DADOS_LINHA.cl').alias('CODIGO_IDENTIFICADOR'), \n",
    "            f.col('DADOS_LINHA.lt0').alias('LETREIRO_ORIGEM'),\n",
    "            f.col('DADOS_LINHA.lt1').alias('LETREIRO_DESTINO'), \n",
    "            f.col('DADOS_LINHA.qv').alias('QTDE_VEICULOS_OPERACAO'),\n",
    "              )\n",
    "#     .where('c == \"7005-51\"') \\\n",
    "\n",
    "df_operacao.show(truncate=False)"
   ]
  },
  {
   "cell_type": "code",
   "execution_count": 13,
   "metadata": {},
   "outputs": [
    {
     "name": "stdout",
     "output_type": "stream",
     "text": [
      "23/09/10 22:39:49 WARN CSVHeaderChecker: CSV header does not conform to the schema.\n",
      " Header: , _c1, LINHA, CODIGO_AREA, CONSOCIO, EMPRESA\n",
      " Schema: _c0, _c1, LINHA, CODIGO_AREA, CONSOCIO, EMPRESA\n",
      "Expected: _c0 but found: \n",
      "CSV file: file:///home/rodrigo/projetos/monitoramento_sptrans/data/datalake/bronze/relacao_empresas_linha/dados_linhas_completo.csv\n",
      "+---+---+-------+-----------+--------------------+--------------------+\n",
      "|_c0|_c1|  LINHA|CODIGO_AREA|            CONSOCIO|             EMPRESA|\n",
      "+---+---+-------+-----------+--------------------+--------------------+\n",
      "|  0|  0|975A-10|          1|CONSÓRCIO BANDEIR...|VIAÇÃO SANTA BRIG...|\n",
      "|  1|  1|9784-10|          1|CONSÓRCIO TRANSNO...|SPENCER TRANSPORT...|\n",
      "|  2|  2|9785-10|          1|CONSÓRCIO TRANSNO...|NORTE BUSS TRANSP...|\n",
      "|  3|  3|9785-51|          1|CONSÓRCIO TRANSNO...|NORTE BUSS TRANSP...|\n",
      "|  4|  4|9789-10|          1|CONSÓRCIO TRANSNO...|NORTE BUSS TRANSP...|\n",
      "|  5|  5|978A-10|          1|CONSÓRCIO BANDEIR...|VIAÇÃO GATO PRETO...|\n",
      "|  6|  6|978J-10|          1|CONSÓRCIO BANDEIR...|VIAÇÃO SANTA BRIG...|\n",
      "|  7|  7|978L-10|          1|CONSÓRCIO BANDEIR...|VIAÇÃO SANTA BRIG...|\n",
      "|  8|  8|978T-10|          1|CONSÓRCIO TRANSNO...|NORTE BUSS TRANSP...|\n",
      "|  9|  9|N101-11|          1|CONSÓRCIO BANDEIR...|VIAÇÃO SANTA BRIG...|\n",
      "| 10| 10|N102-11|          1|CONSÓRCIO BANDEIR...|VIAÇÃO SANTA BRIG...|\n",
      "| 11| 11|N103-11|          1|CONSÓRCIO BANDEIR...|VIAÇÃO SANTA BRIG...|\n",
      "| 12| 12|N104-11|          1|CONSÓRCIO BANDEIR...|VIAÇÃO SANTA BRIG...|\n",
      "| 13| 13|N105-11|          1|CONSÓRCIO BANDEIR...|VIAÇÃO GATO PRETO...|\n",
      "| 14| 14|N106-11|          1|CONSÓRCIO BANDEIR...|VIAÇÃO SANTA BRIG...|\n",
      "| 15| 15|N131-11|          1|CONSÓRCIO BANDEIR...|VIAÇÃO SANTA BRIG...|\n",
      "| 16| 16|N132-11|          1|CONSÓRCIO BANDEIR...|VIAÇÃO SANTA BRIG...|\n",
      "| 17| 17|N133-11|          1|CONSÓRCIO BANDEIR...|VIAÇÃO SANTA BRIG...|\n",
      "| 18| 18|N134-11|          1|CONSÓRCIO BANDEIR...|VIAÇÃO SANTA BRIG...|\n",
      "| 19| 19|N135-11|          1|CONSÓRCIO BANDEIR...|VIAÇÃO SANTA BRIG...|\n",
      "+---+---+-------+-----------+--------------------+--------------------+\n",
      "only showing top 20 rows\n",
      "\n"
     ]
    }
   ],
   "source": [
    "df_dados_completos_linha.show()"
   ]
  },
  {
   "cell_type": "code",
   "execution_count": 14,
   "metadata": {},
   "outputs": [
    {
     "name": "stdout",
     "output_type": "stream",
     "text": [
      "23/09/10 22:39:50 WARN CSVHeaderChecker: CSV header does not conform to the schema.\n",
      " Header: , _c1, LINHA, CODIGO_AREA, CONSOCIO, EMPRESA\n",
      " Schema: _c0, _c1, LINHA, CODIGO_AREA, CONSOCIO, EMPRESA\n",
      "Expected: _c0 but found: \n",
      "CSV file: file:///home/rodrigo/projetos/monitoramento_sptrans/data/datalake/bronze/relacao_empresas_linha/dados_linhas_completo.csv\n",
      "+----+---+-------+-----------+---------------------------------------+---------------------------------------+--------+-------------+-----------------+--------------------+---------------------+-------------------+----------------------+\n",
      "|_c0 |_c1|LINHA  |CODIGO_AREA|CONSOCIO                               |EMPRESA                                |HORA_API|DATA_EXTRACAO|LETREIRO_COMPLETO|CODIGO_IDENTIFICADOR|LETREIRO_ORIGEM      |LETREIRO_DESTINO   |QTDE_VEICULOS_OPERACAO|\n",
      "+----+---+-------+-----------+---------------------------------------+---------------------------------------+--------+-------------+-----------------+--------------------+---------------------+-------------------+----------------------+\n",
      "|613 |9  |6069-10|6          |TRANSWOLFF TRANSPORTES E TURISMO LTDA  |TRANSWOLFF TRANSPORTES E TURISMO LTDA  |11:36   |2023-09-09   |6069-10          |1154                |TERM. STO. AMARO     |JD. SÃO BERNARDO   |4                     |\n",
      "|851 |49 |6L10-41|6          |TRANSWOLFF TRANSPORTES E TURISMO LTDA  |TRANSWOLFF TRANSPORTES E TURISMO LTDA  |11:36   |2023-09-09   |6L10-41          |34773               |TERM. VARGINHA       |MESSIÂNICA         |4                     |\n",
      "|1029|31 |2734-10|3          |UPBUS QUALIDADE EM TRANSPORTES S.A.    |UPBUS QUALIDADE EM TRANSPORTES S.A.    |11:36   |2023-09-09   |2734-10          |34528               |METRÔ ITAQUERA       |JD. CAMPOS         |3                     |\n",
      "|868 |66 |701A-10|2          |SAMBAIBA TRANSPORTES URBANOS LTDA.     |SAMBAIBA TRANSPORTES URBANOS LTDA.     |11:36   |2023-09-09   |701A-10          |33457               |METRÔ VL. MADALENA   |PQ. EDU CHAVES     |8                     |\n",
      "|1040|42 |273R-10|3          |VIAÇÃO METRÓPOLE PAULISTA S.A.         |VIAÇÃO METRÓPOLE PAULISTA S.A.         |11:36   |2023-09-09   |273R-10          |32994               |METRÔ ARTUR ALVIM    |JD. ROBRU          |4                     |\n",
      "|344 |39 |6000-10|6          |MOBIBRASIL TRANSPORTE SÃO PAULO LTDA   |MOBIBRASIL TRANSPORTE SÃO PAULO LTDA   |11:36   |2023-09-09   |6000-10          |33908               |TERM. STO. AMARO     |TERM. PARELHEIROS  |10                    |\n",
      "|653 |49 |6291-10|7          |VIAÇÃO GATUSA TRANSPORTES URBANOS LTDA.|VIAÇÃO GATUSA TRANSPORTES URBANOS LTDA.|11:36   |2023-09-09   |6291-10          |358                 |TERM. BANDEIRA       |INOCOOP CAMPO LIMPO|4                     |\n",
      "|1196|98 |546J-10|6          |A2 TRANSPORTES LTDA                    |A2 TRANSPORTES LTDA                    |11:36   |2023-09-09   |546J-10          |1133                |STO. AMARO           |JD. SELMA          |2                     |\n",
      "|986 |87 |1782-10|2          |SAMBAIBA TRANSPORTES URBANOS LTDA.     |SAMBAIBA TRANSPORTES URBANOS LTDA.     |11:36   |2023-09-09   |1782-10          |643                 |METRÔ SANTANA        |VL. NOVA GALVÃO    |2                     |\n",
      "|832 |30 |695Y-10|6          |VIAÇÃO GRAJAÚ S.A.                     |VIAÇÃO GRAJAÚ S.A.                     |11:36   |2023-09-09   |695Y-10          |33966               |METRÔ VL. MARIANA    |TERM. PARELHEIROS  |8                     |\n",
      "|691 |87 |675M-10|6          |MOBIBRASIL TRANSPORTE SÃO PAULO LTDA   |MOBIBRASIL TRANSPORTE SÃO PAULO LTDA   |11:36   |2023-09-09   |675M-10          |108                 |METRÔ JABAQUARA      |CENTRO SESC        |5                     |\n",
      "|1263|65 |3762-10|4          |ALLIBUS TRANSPORTES LTDA               |ALLIBUS TRANSPORTES LTDA               |11:36   |2023-09-09   |3762-10          |1053                |METRÔ TATUAPÉ        |JD. IVA            |4                     |\n",
      "|782 |79 |263C-10|3          |VIAÇÃO METRÓPOLE PAULISTA S.A.         |VIAÇÃO METRÓPOLE PAULISTA S.A.         |11:36   |2023-09-09   |263C-10          |33020               |COHAB II             |JD. HELENA         |4                     |\n",
      "|764 |61 |2290-10|4          |CONSÓRCIO TRANSVIDA                    |AMBIENTAL TRANSPORTES URBANOS S.A.     |11:36   |2023-09-09   |2290-10          |33486               |TERM. PQ. D. PEDRO II|TERM. SÃO MATEUS   |11                    |\n",
      "|902 |3  |1016-10|2          |CONSÓRCIO TRANSNOROESTE                |NORTE BUSS TRANSPORTES S.A.            |11:36   |2023-09-09   |1016-10          |33599               |SHOP. CENTER NORTE   |CEM. DO HORTO      |6                     |\n",
      "|1102|4  |5018-10|6          |A2 TRANSPORTES LTDA                    |A2 TRANSPORTES LTDA                    |11:36   |2023-09-09   |5018-10          |1492                |JABAQUARA            |SHOP. INTERLAGOS   |2                     |\n",
      "|963 |64 |1743-10|2          |SAMBAIBA TRANSPORTES URBANOS LTDA.     |SAMBAIBA TRANSPORTES URBANOS LTDA.     |11:36   |2023-09-09   |1743-10          |33311               |SHOP. D              |JD. PERY ALTO      |4                     |\n",
      "|867 |65 |7017-10|7          |TRANSWOLFF TRANSPORTES E TURISMO LTDA  |TRANSWOLFF TRANSPORTES E TURISMO LTDA  |11:36   |2023-09-09   |7017-10          |35270               |TERM. GUARAPIRANGA   |JD. GUARUJÁ        |4                     |\n",
      "|466 |61 |8014-10|1          |CONSÓRCIO TRANSNOROESTE                |NORTE BUSS TRANSPORTES S.A.            |11:36   |2023-09-09   |8014-10          |33569               |PERUS                |MORRO DOCE         |7                     |\n",
      "|978 |79 |1772-10|2          |SAMBAIBA TRANSPORTES URBANOS LTDA.     |SAMBAIBA TRANSPORTES URBANOS LTDA.     |11:36   |2023-09-09   |1772-10          |635                 |METRÔ TUCURUVI       |JD. FILHOS DA TERRA|2                     |\n",
      "+----+---+-------+-----------+---------------------------------------+---------------------------------------+--------+-------------+-----------------+--------------------+---------------------+-------------------+----------------------+\n",
      "only showing top 20 rows\n",
      "\n"
     ]
    }
   ],
   "source": [
    "df_dados_completos_operacao = df_dados_completos_linha.join(df_operacao, df_dados_completos_linha.LINHA == df_operacao.LETREIRO_COMPLETO, 'inner') \n",
    "df_dados_completos_operacao = df_dados_completos_operacao.withColumn('DATA_EXTRACAO', f.to_date('DATA_EXTRACAO'))\n",
    "df_dados_completos_operacao.show(truncate=False)"
   ]
  },
  {
   "cell_type": "code",
   "execution_count": 15,
   "metadata": {},
   "outputs": [],
   "source": []
  },
  {
   "cell_type": "code",
   "execution_count": 16,
   "metadata": {},
   "outputs": [
    {
     "name": "stdout",
     "output_type": "stream",
     "text": [
      "+-------+-----------+--------------------+--------------------+--------+-------------+-----------------+--------------------+--------------------+-------------------+----------------------+\n",
      "|  LINHA|CODIGO_AREA|            CONSOCIO|             EMPRESA|HORA_API|DATA_EXTRACAO|LETREIRO_COMPLETO|CODIGO_IDENTIFICADOR|     LETREIRO_ORIGEM|   LETREIRO_DESTINO|QTDE_VEICULOS_OPERACAO|\n",
      "+-------+-----------+--------------------+--------------------+--------+-------------+-----------------+--------------------+--------------------+-------------------+----------------------+\n",
      "|6069-10|          6|TRANSWOLFF TRANSP...|TRANSWOLFF TRANSP...|   11:36|   2023-09-09|          6069-10|                1154|    TERM. STO. AMARO|   JD. SÃO BERNARDO|                     4|\n",
      "|6L10-41|          6|TRANSWOLFF TRANSP...|TRANSWOLFF TRANSP...|   11:36|   2023-09-09|          6L10-41|               34773|      TERM. VARGINHA|         MESSIÂNICA|                     4|\n",
      "|2734-10|          3|UPBUS QUALIDADE E...|UPBUS QUALIDADE E...|   11:36|   2023-09-09|          2734-10|               34528|      METRÔ ITAQUERA|         JD. CAMPOS|                     3|\n",
      "|701A-10|          2|SAMBAIBA TRANSPOR...|SAMBAIBA TRANSPOR...|   11:36|   2023-09-09|          701A-10|               33457|  METRÔ VL. MADALENA|     PQ. EDU CHAVES|                     8|\n",
      "|273R-10|          3|VIAÇÃO METRÓPOLE ...|VIAÇÃO METRÓPOLE ...|   11:36|   2023-09-09|          273R-10|               32994|   METRÔ ARTUR ALVIM|          JD. ROBRU|                     4|\n",
      "|6000-10|          6|MOBIBRASIL TRANSP...|MOBIBRASIL TRANSP...|   11:36|   2023-09-09|          6000-10|               33908|    TERM. STO. AMARO|  TERM. PARELHEIROS|                    10|\n",
      "|6291-10|          7|VIAÇÃO GATUSA TRA...|VIAÇÃO GATUSA TRA...|   11:36|   2023-09-09|          6291-10|                 358|      TERM. BANDEIRA|INOCOOP CAMPO LIMPO|                     4|\n",
      "|546J-10|          6| A2 TRANSPORTES LTDA| A2 TRANSPORTES LTDA|   11:36|   2023-09-09|          546J-10|                1133|          STO. AMARO|          JD. SELMA|                     2|\n",
      "|1782-10|          2|SAMBAIBA TRANSPOR...|SAMBAIBA TRANSPOR...|   11:36|   2023-09-09|          1782-10|                 643|       METRÔ SANTANA|    VL. NOVA GALVÃO|                     2|\n",
      "|695Y-10|          6|  VIAÇÃO GRAJAÚ S.A.|  VIAÇÃO GRAJAÚ S.A.|   11:36|   2023-09-09|          695Y-10|               33966|   METRÔ VL. MARIANA|  TERM. PARELHEIROS|                     8|\n",
      "|675M-10|          6|MOBIBRASIL TRANSP...|MOBIBRASIL TRANSP...|   11:36|   2023-09-09|          675M-10|                 108|     METRÔ JABAQUARA|        CENTRO SESC|                     5|\n",
      "|3762-10|          4|ALLIBUS TRANSPORT...|ALLIBUS TRANSPORT...|   11:36|   2023-09-09|          3762-10|                1053|       METRÔ TATUAPÉ|            JD. IVA|                     4|\n",
      "|263C-10|          3|VIAÇÃO METRÓPOLE ...|VIAÇÃO METRÓPOLE ...|   11:36|   2023-09-09|          263C-10|               33020|            COHAB II|         JD. HELENA|                     4|\n",
      "|2290-10|          4| CONSÓRCIO TRANSVIDA|AMBIENTAL TRANSPO...|   11:36|   2023-09-09|          2290-10|               33486|TERM. PQ. D. PEDR...|   TERM. SÃO MATEUS|                    11|\n",
      "|1016-10|          2|CONSÓRCIO TRANSNO...|NORTE BUSS TRANSP...|   11:36|   2023-09-09|          1016-10|               33599|  SHOP. CENTER NORTE|      CEM. DO HORTO|                     6|\n",
      "|5018-10|          6| A2 TRANSPORTES LTDA| A2 TRANSPORTES LTDA|   11:36|   2023-09-09|          5018-10|                1492|           JABAQUARA|   SHOP. INTERLAGOS|                     2|\n",
      "|1743-10|          2|SAMBAIBA TRANSPOR...|SAMBAIBA TRANSPOR...|   11:36|   2023-09-09|          1743-10|               33311|             SHOP. D|      JD. PERY ALTO|                     4|\n",
      "|7017-10|          7|TRANSWOLFF TRANSP...|TRANSWOLFF TRANSP...|   11:36|   2023-09-09|          7017-10|               35270|  TERM. GUARAPIRANGA|        JD. GUARUJÁ|                     4|\n",
      "|8014-10|          1|CONSÓRCIO TRANSNO...|NORTE BUSS TRANSP...|   11:36|   2023-09-09|          8014-10|               33569|               PERUS|         MORRO DOCE|                     7|\n",
      "|1772-10|          2|SAMBAIBA TRANSPOR...|SAMBAIBA TRANSPOR...|   11:36|   2023-09-09|          1772-10|                 635|      METRÔ TUCURUVI|JD. FILHOS DA TERRA|                     2|\n",
      "+-------+-----------+--------------------+--------------------+--------+-------------+-----------------+--------------------+--------------------+-------------------+----------------------+\n",
      "only showing top 20 rows\n",
      "\n"
     ]
    }
   ],
   "source": [
    "colunas = ('_c0', '_c1')\n",
    "df_dados_completos_operacao = df_dados_completos_operacao.drop(*colunas)\n",
    "df_dados_completos_operacao.show()"
   ]
  },
  {
   "cell_type": "code",
   "execution_count": 17,
   "metadata": {},
   "outputs": [
    {
     "name": "stderr",
     "output_type": "stream",
     "text": [
      "                                                                                \r"
     ]
    }
   ],
   "source": [
    "df_dados_completos_operacao.write\\\n",
    "    .partitionBy('DATA_EXTRACAO')\\\n",
    "    .mode('overwrite')\\\n",
    "    .json('../data/datalake/prata/operacao_agrupada/teste')"
   ]
  },
  {
   "cell_type": "code",
   "execution_count": 18,
   "metadata": {},
   "outputs": [],
   "source": [
    "def export_json(df, dest):\n",
    "    df.coalesce(1).write.mode(\"overwrite\").json(dest)\n"
   ]
  },
  {
   "cell_type": "code",
   "execution_count": 19,
   "metadata": {},
   "outputs": [
    {
     "name": "stderr",
     "output_type": "stream",
     "text": [
      "                                                                                \r"
     ]
    }
   ],
   "source": [
    "export_json(df_dados_completos_operacao,'data/datalake/prata/operacao_agrupada/teste' )"
   ]
  },
  {
   "cell_type": "markdown",
   "metadata": {},
   "source": [
    "# passando para funções"
   ]
  },
  {
   "cell_type": "code",
   "execution_count": 47,
   "metadata": {},
   "outputs": [],
   "source": [
    "def dataset_load_bronze():\n",
    "    df = spark.read.json('../data/datalake/bronze/extract_date=*/*.json')\n",
    "    df = df.na.drop()\n",
    "    return df"
   ]
  },
  {
   "cell_type": "code",
   "execution_count": 48,
   "metadata": {},
   "outputs": [
    {
     "name": "stderr",
     "output_type": "stream",
     "text": [
      "                                                                                \r"
     ]
    },
    {
     "name": "stdout",
     "output_type": "stream",
     "text": [
      "+----------------+-----+--------------------+\n",
      "|   data_extracao|   hr|                   l|\n",
      "+----------------+-----+--------------------+\n",
      "|2023-09-09 11:36|11:36|[{6069-10, 1154, ...|\n",
      "|2023-09-09 11:40|11:40|[{6069-10, 1154, ...|\n",
      "|2023-09-09 11:44|11:44|[{6069-10, 33922,...|\n",
      "|2023-09-09 11:48|11:48|[{6069-10, 33922,...|\n",
      "|2023-09-09 11:52|11:52|[{6069-10, 33922,...|\n",
      "|2023-09-09 11:56|11:56|[{6069-10, 33922,...|\n",
      "|2023-09-09 12:00|12:00|[{6069-10, 33922,...|\n",
      "|2023-09-09 12:04|12:04|[{6069-10, 33922,...|\n",
      "|2023-09-09 12:08|12:08|[{6069-10, 33922,...|\n",
      "|2023-09-09 12:12|12:12|[{6069-10, 33922,...|\n",
      "|2023-09-09 12:16|12:16|[{6069-10, 33922,...|\n",
      "|2023-09-09 12:20|12:20|[{6069-10, 33922,...|\n",
      "|2023-09-09 12:24|12:24|[{6069-10, 33922,...|\n",
      "|2023-09-09 12:28|12:28|[{6069-10, 33922,...|\n",
      "|2023-09-09 12:32|12:32|[{6069-10, 33922,...|\n",
      "|2023-09-09 12:36|12:36|[{6069-10, 33922,...|\n",
      "|2023-09-09 12:40|12:40|[{6069-10, 33922,...|\n",
      "|2023-09-09 12:44|12:44|[{6069-10, 33922,...|\n",
      "|2023-09-09 12:48|12:48|[{6069-10, 33922,...|\n",
      "|2023-09-09 12:52|12:52|[{6069-10, 33922,...|\n",
      "+----------------+-----+--------------------+\n",
      "only showing top 20 rows\n",
      "\n"
     ]
    }
   ],
   "source": [
    "dataset_load_bronze().show()"
   ]
  },
  {
   "cell_type": "code",
   "execution_count": 40,
   "metadata": {},
   "outputs": [
    {
     "name": "stderr",
     "output_type": "stream",
     "text": [
      "[Stage 31:=======>                                                  (1 + 7) / 8]\r"
     ]
    },
    {
     "name": "stdout",
     "output_type": "stream",
     "text": [
      "root\n",
      " |-- data_extracao: string (nullable = true)\n",
      " |-- hr: string (nullable = true)\n",
      " |-- lista: struct (nullable = true)\n",
      " |    |-- c: string (nullable = true)\n",
      " |    |-- cl: long (nullable = true)\n",
      " |    |-- lt0: string (nullable = true)\n",
      " |    |-- lt1: string (nullable = true)\n",
      " |    |-- qv: long (nullable = true)\n",
      " |    |-- sl: long (nullable = true)\n",
      " |    |-- vs: array (nullable = true)\n",
      " |    |    |-- element: struct (containsNull = true)\n",
      " |    |    |    |-- a: boolean (nullable = true)\n",
      " |    |    |    |-- is: string (nullable = true)\n",
      " |    |    |    |-- p: long (nullable = true)\n",
      " |    |    |    |-- px: double (nullable = true)\n",
      " |    |    |    |-- py: double (nullable = true)\n",
      " |    |    |    |-- sv: string (nullable = true)\n",
      " |    |    |    |-- ta: string (nullable = true)\n",
      "\n"
     ]
    },
    {
     "name": "stderr",
     "output_type": "stream",
     "text": [
      "                                                                                \r"
     ]
    }
   ],
   "source": [
    "dataset_load_bronze().printSchema()"
   ]
  },
  {
   "cell_type": "markdown",
   "metadata": {},
   "source": [
    "# Função agrupada"
   ]
  },
  {
   "cell_type": "code",
   "execution_count": 70,
   "metadata": {},
   "outputs": [],
   "source": [
    "def operacao_agrupada(df: DataFrame)  -> DataFrame:\n",
    "    df_operacao =df.select(df.hr, df.data_extracao, f.explode('l').alias('DADOS_LINHA')) \\\n",
    "    .withColumnRenamed('hr', 'HORA_API') \\\n",
    "    .select('HORA_API',\n",
    "            'DATA_EXTRACAO',\n",
    "            f.col('DADOS_LINHA.c').alias('LETREIRO_COMPLETO'),\n",
    "            f.col('DADOS_LINHA.cl').alias('CODIGO_IDENTIFICADOR'), \n",
    "            f.col('DADOS_LINHA.lt0').alias('LETREIRO_ORIGEM'),\n",
    "            f.col('DADOS_LINHA.lt1').alias('LETREIRO_DESTINO'), \n",
    "            f.col('DADOS_LINHA.qv').alias('QTDE_VEICULOS_OPERACAO'),\n",
    "              )\n",
    "    return df_operacao"
   ]
  },
  {
   "cell_type": "code",
   "execution_count": 71,
   "metadata": {},
   "outputs": [
    {
     "name": "stderr",
     "output_type": "stream",
     "text": [
      "                                                                                \r"
     ]
    },
    {
     "name": "stdout",
     "output_type": "stream",
     "text": [
      "+--------+----------------+-----------------+--------------------+--------------------+-------------------+----------------------+\n",
      "|HORA_API|   DATA_EXTRACAO|LETREIRO_COMPLETO|CODIGO_IDENTIFICADOR|     LETREIRO_ORIGEM|   LETREIRO_DESTINO|QTDE_VEICULOS_OPERACAO|\n",
      "+--------+----------------+-----------------+--------------------+--------------------+-------------------+----------------------+\n",
      "|   11:36|2023-09-09 11:36|          6069-10|                1154|    TERM. STO. AMARO|   JD. SÃO BERNARDO|                     4|\n",
      "|   11:36|2023-09-09 11:36|          6L10-41|               34773|      TERM. VARGINHA|         MESSIÂNICA|                     4|\n",
      "|   11:36|2023-09-09 11:36|          2734-10|               34528|      METRÔ ITAQUERA|         JD. CAMPOS|                     3|\n",
      "|   11:36|2023-09-09 11:36|          701A-10|               33457|  METRÔ VL. MADALENA|     PQ. EDU CHAVES|                     8|\n",
      "|   11:36|2023-09-09 11:36|          273R-10|               32994|   METRÔ ARTUR ALVIM|          JD. ROBRU|                     4|\n",
      "|   11:36|2023-09-09 11:36|          6000-10|               33908|    TERM. STO. AMARO|  TERM. PARELHEIROS|                    10|\n",
      "|   11:36|2023-09-09 11:36|          6291-10|                 358|      TERM. BANDEIRA|INOCOOP CAMPO LIMPO|                     4|\n",
      "|   11:36|2023-09-09 11:36|          546J-10|                1133|          STO. AMARO|          JD. SELMA|                     2|\n",
      "|   11:36|2023-09-09 11:36|          1782-10|                 643|       METRÔ SANTANA|    VL. NOVA GALVÃO|                     2|\n",
      "|   11:36|2023-09-09 11:36|          695Y-10|               33966|   METRÔ VL. MARIANA|  TERM. PARELHEIROS|                     8|\n",
      "|   11:36|2023-09-09 11:36|          675M-10|                 108|     METRÔ JABAQUARA|        CENTRO SESC|                     5|\n",
      "|   11:36|2023-09-09 11:36|          3762-10|                1053|       METRÔ TATUAPÉ|            JD. IVA|                     4|\n",
      "|   11:36|2023-09-09 11:36|          263C-10|               33020|            COHAB II|         JD. HELENA|                     4|\n",
      "|   11:36|2023-09-09 11:36|          2290-10|               33486|TERM. PQ. D. PEDR...|   TERM. SÃO MATEUS|                    11|\n",
      "|   11:36|2023-09-09 11:36|          1016-10|               33599|  SHOP. CENTER NORTE|      CEM. DO HORTO|                     6|\n",
      "|   11:36|2023-09-09 11:36|          5018-10|                1492|           JABAQUARA|   SHOP. INTERLAGOS|                     2|\n",
      "|   11:36|2023-09-09 11:36|          1743-10|               33311|             SHOP. D|      JD. PERY ALTO|                     4|\n",
      "|   11:36|2023-09-09 11:36|           8700-1|               35276|PÇA. RAMOS DE AZE...|  TERM. CAMPO LIMPO|                     2|\n",
      "|   11:36|2023-09-09 11:36|          7017-10|               35270|  TERM. GUARAPIRANGA|        JD. GUARUJÁ|                     4|\n",
      "|   11:36|2023-09-09 11:36|          8014-10|               33569|               PERUS|         MORRO DOCE|                     7|\n",
      "+--------+----------------+-----------------+--------------------+--------------------+-------------------+----------------------+\n",
      "only showing top 20 rows\n",
      "\n"
     ]
    }
   ],
   "source": [
    "dataset_bronze = dataset_load_bronze()\n",
    "\n",
    "operacao_agrupada(dataset_bronze).show()"
   ]
  },
  {
   "cell_type": "markdown",
   "metadata": {},
   "source": [
    "# Operação desagrupadas"
   ]
  },
  {
   "cell_type": "code",
   "execution_count": 72,
   "metadata": {},
   "outputs": [],
   "source": [
    "def operacao_desagrupada(df: DataFrame) -> DataFrame:\n",
    "    df_p = df.select(df.data_extracao, df.hr, f.explode(df.l).alias('lista'))\n",
    "    df_p = df_p.select(df_p.data_extracao, df_p.lista, df_p.hr)\n",
    "    \n",
    "    df_amostra_um = df_p.select(\n",
    "    df_p.data_extracao,\n",
    "    df_p.hr,\n",
    "    df_p.lista.c.alias('LETREIRO_COMPLETO'), \n",
    "    df_p.lista.sl.alias('SENTIDO_OPERACAO'), \n",
    "    df_p.lista.cl.alias('CODIGO_IDENTIFICADOR_LINHA') , \n",
    "    f.explode(df_p.lista.vs).alias('expansao')) \\\n",
    "    .select(f.col('data_extracao').alias('DATA_EXTRACAO'),\n",
    "            f.col('hr').alias('HORA_API'),\n",
    "            'LETREIRO_COMPLETO',\n",
    "            'SENTIDO_OPERACAO',\n",
    "            'CODIGO_IDENTIFICADOR_LINHA',\n",
    "            f.col('expansao.p').alias('PREFIXO_ONIBUS'),\n",
    "            f.col('expansao.ta').alias('DATA_HORA_CAPTURA_LOCALIZACAO'),\n",
    "            f.col('expansao.py').alias('LATITUDE') ,\n",
    "            f.col('expansao.px').alias('LONGITUDE'),\n",
    "            \n",
    "            ) \\\n",
    "    .sort(df_p.data_extracao.desc(),df_p.lista.c.asc() ) \n",
    "\n",
    "    return df_amostra_um\n",
    "    "
   ]
  },
  {
   "cell_type": "code",
   "execution_count": 74,
   "metadata": {},
   "outputs": [
    {
     "name": "stderr",
     "output_type": "stream",
     "text": [
      "[Stage 52:>                                                         (0 + 8) / 8]\r"
     ]
    },
    {
     "name": "stdout",
     "output_type": "stream",
     "text": [
      "+----------------+--------+-----------------+----------------+--------------------------+--------------+-----------------------------+-------------------+-------------------+\n",
      "|   DATA_EXTRACAO|HORA_API|LETREIRO_COMPLETO|SENTIDO_OPERACAO|CODIGO_IDENTIFICADOR_LINHA|PREFIXO_ONIBUS|DATA_HORA_CAPTURA_LOCALIZACAO|           LATITUDE|          LONGITUDE|\n",
      "+----------------+--------+-----------------+----------------+--------------------------+--------------+-----------------------------+-------------------+-------------------+\n",
      "|2023-09-09 22:40|   22:40|          1012-10|               2|                     35254|         16398|         2023-09-10T01:39:33Z|-23.437934749999997|      -46.801423125|\n",
      "|2023-09-09 22:40|   22:40|          1012-10|               1|                      2486|         16479|         2023-09-10T01:39:55Z|     -23.4325754375|-46.786764125000005|\n",
      "|2023-09-09 22:40|   22:40|          1012-10|               1|                      2486|         16475|         2023-09-10T01:39:56Z|-23.436135999999998|-46.804632999999995|\n",
      "|2023-09-09 22:40|   22:40|          1015-10|               2|                     34998|         16379|         2023-09-10T01:39:21Z|        -23.4189275|-46.799654000000004|\n",
      "|2023-09-09 22:40|   22:40|          1016-10|               1|                       831|         26146|         2023-09-10T01:36:41Z|         -23.478924|          -46.61125|\n",
      "|2023-09-09 22:40|   22:40|          1016-10|               2|                     33599|         26200|         2023-09-10T01:39:45Z|-23.508286499999997|        -46.6154515|\n",
      "|2023-09-09 22:40|   22:40|          1016-10|               2|                     33599|         26239|         2023-09-10T01:39:56Z|      -23.478549125| -46.60900637499999|\n",
      "|2023-09-09 22:40|   22:40|          1016-10|               1|                       831|         26542|         2023-09-10T01:39:59Z|-23.446613999999997|         -46.613124|\n",
      "|2023-09-09 22:40|   22:40|          1016-10|               2|                     33599|         26006|         2023-09-10T01:39:37Z|         -23.513872|        -46.6160225|\n",
      "|2023-09-09 22:40|   22:40|          1017-10|               2|                     34909|         15007|         2023-09-10T01:39:44Z|-23.412819499999998|-46.750868499999996|\n",
      "|2023-09-09 22:40|   22:40|          1017-10|               2|                     34909|         15017|         2023-09-10T01:39:33Z|         -23.413556|        -46.7508775|\n",
      "|2023-09-09 22:40|   22:40|          1017-10|               1|                      2141|         15182|         2023-09-10T01:39:47Z|        -23.4141015|         -46.750579|\n",
      "|2023-09-09 22:40|   22:40|          1017-10|               1|                      2141|         15180|         2023-09-10T01:39:34Z|         -23.462367|-46.714346500000005|\n",
      "|2023-09-09 22:40|   22:40|          1017-10|               2|                     34909|         15218|         2023-09-10T01:39:23Z|        -23.4046385| -46.73831199999999|\n",
      "|2023-09-09 22:40|   22:40|          1017-10|               1|                      2141|         15199|         2023-09-10T01:39:21Z|        -23.4850255|         -46.709775|\n",
      "|2023-09-09 22:40|   22:40|          1017-10|               2|                     34909|         15205|         2023-09-10T01:39:44Z|        -23.4443875|        -46.7172035|\n",
      "|2023-09-09 22:40|   22:40|          1018-10|               2|                     33600|         26017|         2023-09-10T01:39:54Z|        -23.4468225|         -46.627283|\n",
      "|2023-09-09 22:40|   22:40|          1018-10|               1|                       832|         26391|         2023-09-10T01:39:53Z|        -23.4865245|        -46.6176455|\n",
      "|2023-09-09 22:40|   22:40|          1018-10|               2|                     33600|         26177|         2023-09-10T01:39:08Z|         -23.447011|        -46.6272125|\n",
      "|2023-09-09 22:40|   22:40|          1018-10|               2|                     33600|         26064|         2023-09-10T01:39:39Z|        -23.4620885|         -46.615971|\n",
      "+----------------+--------+-----------------+----------------+--------------------------+--------------+-----------------------------+-------------------+-------------------+\n",
      "only showing top 20 rows\n",
      "\n"
     ]
    },
    {
     "name": "stderr",
     "output_type": "stream",
     "text": [
      "                                                                                \r"
     ]
    }
   ],
   "source": [
    "operacao_desagrupada(dataset_bronze).show()"
   ]
  },
  {
   "cell_type": "code",
   "execution_count": 91,
   "metadata": {},
   "outputs": [],
   "source": [
    "def dados_completos_onibus():\n",
    "    df_dados_completos_linha = spark.read.options(header='True') \\\n",
    "    .csv( '../data/datalake/bronze/relacao_empresas_linha/dados_linhas_completo.csv') \\\n",
    "    .drop(*('_c0', '_c1'))\n",
    "    return df_dados_completos_linha"
   ]
  },
  {
   "cell_type": "code",
   "execution_count": 100,
   "metadata": {},
   "outputs": [],
   "source": [
    "def juncao_dataframe(df_um: DataFrame, df_dois: DataFrame, coluna_um: str, coluna_dois: str, tipo_juncao: str = 'inner') -> DataFrame:\n",
    "    df_dados_completos_operacao = df_um.join(df_dois, f.col(coluna_um) == f.col(coluna_dois), tipo_juncao)\n",
    "    df_dados_completos_operacao = df_dados_completos_operacao.withColumn('DATA_EXTRACAO', f.to_date('DATA_EXTRACAO'))\n",
    "    colunas = ('_c0', '_c1') \n",
    "    df_dados_completos_operacao = df_dados_completos_operacao.drop(*colunas)\n",
    "    return df_dados_completos_operacao\n"
   ]
  },
  {
   "cell_type": "code",
   "execution_count": 99,
   "metadata": {},
   "outputs": [
    {
     "name": "stdout",
     "output_type": "stream",
     "text": [
      "+-------+-----------+--------------------+--------------------+-------------+--------+-----------------+----------------+--------------------------+--------------+-----------------------------+-------------------+--------------+\n",
      "|  LINHA|CODIGO_AREA|            CONSOCIO|             EMPRESA|DATA_EXTRACAO|HORA_API|LETREIRO_COMPLETO|SENTIDO_OPERACAO|CODIGO_IDENTIFICADOR_LINHA|PREFIXO_ONIBUS|DATA_HORA_CAPTURA_LOCALIZACAO|           LATITUDE|     LONGITUDE|\n",
      "+-------+-----------+--------------------+--------------------+-------------+--------+-----------------+----------------+--------------------------+--------------+-----------------------------+-------------------+--------------+\n",
      "|6069-10|          6|TRANSWOLFF TRANSP...|TRANSWOLFF TRANSP...|   2023-09-09|   11:36|          6069-10|               1|                      1154|         66525|         2023-09-09T14:35:55Z|      -23.653890625|  -46.71154075|\n",
      "|6069-10|          6|TRANSWOLFF TRANSP...|TRANSWOLFF TRANSP...|   2023-09-09|   11:36|          6069-10|               1|                      1154|         66706|         2023-09-09T14:34:51Z|-23.748659500000002|   -46.6953825|\n",
      "|6069-10|          6|TRANSWOLFF TRANSP...|TRANSWOLFF TRANSP...|   2023-09-09|   11:36|          6069-10|               1|                      1154|         66414|         2023-09-09T14:36:16Z|-23.684085500000002|    -46.703199|\n",
      "|6069-10|          6|TRANSWOLFF TRANSP...|TRANSWOLFF TRANSP...|   2023-09-09|   11:36|          6069-10|               1|                      1154|         66716|         2023-09-09T14:36:22Z|-23.726964000000002|   -46.6992625|\n",
      "|6L10-41|          6|TRANSWOLFF TRANSP...|TRANSWOLFF TRANSP...|   2023-09-09|   11:36|          6L10-41|               2|                     34773|         66765|         2023-09-09T14:36:00Z|        -23.7880685|    -46.765596|\n",
      "|6L10-41|          6|TRANSWOLFF TRANSP...|TRANSWOLFF TRANSP...|   2023-09-09|   11:36|          6L10-41|               2|                     34773|         66402|         2023-09-09T14:35:53Z|        -23.7880685|    -46.765596|\n",
      "|6L10-41|          6|TRANSWOLFF TRANSP...|TRANSWOLFF TRANSP...|   2023-09-09|   11:36|          6L10-41|               2|                     34773|         66536|         2023-09-09T14:36:28Z|        -23.7880685|    -46.765596|\n",
      "|6L10-41|          6|TRANSWOLFF TRANSP...|TRANSWOLFF TRANSP...|   2023-09-09|   11:36|          6L10-41|               2|                     34773|         66932|         2023-09-09T14:36:21Z|       -23.77495725|  -46.72226175|\n",
      "|2734-10|          3|UPBUS QUALIDADE E...|UPBUS QUALIDADE E...|   2023-09-09|   11:36|          2734-10|               2|                     34528|         35939|         2023-09-09T14:35:16Z|-23.509469375000002| -46.435375375|\n",
      "|2734-10|          3|UPBUS QUALIDADE E...|UPBUS QUALIDADE E...|   2023-09-09|   11:36|          2734-10|               2|                     34528|         35784|         2023-09-09T14:36:16Z|       -23.52863575|      -46.4467|\n",
      "|2734-10|          3|UPBUS QUALIDADE E...|UPBUS QUALIDADE E...|   2023-09-09|   11:36|          2734-10|               2|                     34528|         35928|         2023-09-09T14:36:25Z|-23.510827749999997|  -46.41021025|\n",
      "|701A-10|          2|SAMBAIBA TRANSPOR...|SAMBAIBA TRANSPOR...|   2023-09-09|   11:36|          701A-10|               2|                     33457|         21238|         2023-09-09T14:36:23Z|-23.518244125000002|    -46.589543|\n",
      "|701A-10|          2|SAMBAIBA TRANSPOR...|SAMBAIBA TRANSPOR...|   2023-09-09|   11:36|          701A-10|               2|                     33457|         21386|         2023-09-09T14:36:18Z|-23.547204999999998|     -46.63965|\n",
      "|701A-10|          2|SAMBAIBA TRANSPOR...|SAMBAIBA TRANSPOR...|   2023-09-09|   11:36|          701A-10|               2|                     33457|         21393|         2023-09-09T14:35:54Z|        -23.4737385|    -46.565966|\n",
      "|701A-10|          2|SAMBAIBA TRANSPOR...|SAMBAIBA TRANSPOR...|   2023-09-09|   11:36|          701A-10|               2|                     33457|         21368|         2023-09-09T14:33:13Z|         -23.527497|    -46.596869|\n",
      "|701A-10|          2|SAMBAIBA TRANSPOR...|SAMBAIBA TRANSPOR...|   2023-09-09|   11:36|          701A-10|               2|                     33457|         21399|         2023-09-09T14:36:27Z|         -23.473947|   -46.5664555|\n",
      "|701A-10|          2|SAMBAIBA TRANSPOR...|SAMBAIBA TRANSPOR...|   2023-09-09|   11:36|          701A-10|               2|                     33457|         21387|         2023-09-09T14:36:11Z|        -23.4738595|    -46.566243|\n",
      "|701A-10|          2|SAMBAIBA TRANSPOR...|SAMBAIBA TRANSPOR...|   2023-09-09|   11:36|          701A-10|               2|                     33457|         21237|         2023-09-09T14:36:17Z|         -23.499533|   -46.5907625|\n",
      "|701A-10|          2|SAMBAIBA TRANSPOR...|SAMBAIBA TRANSPOR...|   2023-09-09|   11:36|          701A-10|               2|                     33457|         21397|         2023-09-09T14:35:50Z|        -23.4737385|    -46.565966|\n",
      "|273R-10|          3|VIAÇÃO METRÓPOLE ...|VIAÇÃO METRÓPOLE ...|   2023-09-09|   11:36|          273R-10|               2|                     32994|         32621|         2023-09-09T14:36:19Z|      -23.520824375|-46.4755906875|\n",
      "+-------+-----------+--------------------+--------------------+-------------+--------+-----------------+----------------+--------------------------+--------------+-----------------------------+-------------------+--------------+\n",
      "only showing top 20 rows\n",
      "\n"
     ]
    }
   ],
   "source": [
    "juncao_dataframe(dados_completos_onibus(), operacao_desagrupada(dataset_bronze), 'LINHA', 'LETREIRO_COMPLETO').show()"
   ]
  },
  {
   "cell_type": "code",
   "execution_count": 92,
   "metadata": {},
   "outputs": [
    {
     "name": "stdout",
     "output_type": "stream",
     "text": [
      "+-------+-----------+--------------------+--------------------+\n",
      "|  LINHA|CODIGO_AREA|            CONSOCIO|             EMPRESA|\n",
      "+-------+-----------+--------------------+--------------------+\n",
      "|975A-10|          1|CONSÓRCIO BANDEIR...|VIAÇÃO SANTA BRIG...|\n",
      "|9784-10|          1|CONSÓRCIO TRANSNO...|SPENCER TRANSPORT...|\n",
      "|9785-10|          1|CONSÓRCIO TRANSNO...|NORTE BUSS TRANSP...|\n",
      "|9785-51|          1|CONSÓRCIO TRANSNO...|NORTE BUSS TRANSP...|\n",
      "|9789-10|          1|CONSÓRCIO TRANSNO...|NORTE BUSS TRANSP...|\n",
      "|978A-10|          1|CONSÓRCIO BANDEIR...|VIAÇÃO GATO PRETO...|\n",
      "|978J-10|          1|CONSÓRCIO BANDEIR...|VIAÇÃO SANTA BRIG...|\n",
      "|978L-10|          1|CONSÓRCIO BANDEIR...|VIAÇÃO SANTA BRIG...|\n",
      "|978T-10|          1|CONSÓRCIO TRANSNO...|NORTE BUSS TRANSP...|\n",
      "|N101-11|          1|CONSÓRCIO BANDEIR...|VIAÇÃO SANTA BRIG...|\n",
      "|N102-11|          1|CONSÓRCIO BANDEIR...|VIAÇÃO SANTA BRIG...|\n",
      "|N103-11|          1|CONSÓRCIO BANDEIR...|VIAÇÃO SANTA BRIG...|\n",
      "|N104-11|          1|CONSÓRCIO BANDEIR...|VIAÇÃO SANTA BRIG...|\n",
      "|N105-11|          1|CONSÓRCIO BANDEIR...|VIAÇÃO GATO PRETO...|\n",
      "|N106-11|          1|CONSÓRCIO BANDEIR...|VIAÇÃO SANTA BRIG...|\n",
      "|N131-11|          1|CONSÓRCIO BANDEIR...|VIAÇÃO SANTA BRIG...|\n",
      "|N132-11|          1|CONSÓRCIO BANDEIR...|VIAÇÃO SANTA BRIG...|\n",
      "|N133-11|          1|CONSÓRCIO BANDEIR...|VIAÇÃO SANTA BRIG...|\n",
      "|N134-11|          1|CONSÓRCIO BANDEIR...|VIAÇÃO SANTA BRIG...|\n",
      "|N135-11|          1|CONSÓRCIO BANDEIR...|VIAÇÃO SANTA BRIG...|\n",
      "+-------+-----------+--------------------+--------------------+\n",
      "only showing top 20 rows\n",
      "\n"
     ]
    }
   ],
   "source": [
    "dados_completos_onibus().show()\n"
   ]
  }
 ],
 "metadata": {
  "kernelspec": {
   "display_name": "venv",
   "language": "python",
   "name": "python3"
  },
  "language_info": {
   "codemirror_mode": {
    "name": "ipython",
    "version": 3
   },
   "file_extension": ".py",
   "mimetype": "text/x-python",
   "name": "python",
   "nbconvert_exporter": "python",
   "pygments_lexer": "ipython3",
   "version": "3.10.12"
  },
  "orig_nbformat": 4
 },
 "nbformat": 4,
 "nbformat_minor": 2
}
